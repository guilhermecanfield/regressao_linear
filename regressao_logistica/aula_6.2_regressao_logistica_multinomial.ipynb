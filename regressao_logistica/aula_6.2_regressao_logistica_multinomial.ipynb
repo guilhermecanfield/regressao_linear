{
 "cells": [
  {
   "cell_type": "code",
   "execution_count": 1,
   "metadata": {},
   "outputs": [],
   "source": [
    "import pandas as pd # manipulação de dados em formato de dataframe\n",
    "import numpy as np # operações matemáticas\n",
    "import seaborn as sns # visualização gráfica\n",
    "import matplotlib.pyplot as plt # visualização gráfica\n",
    "from scipy.interpolate import UnivariateSpline # curva sigmoide suavizada\n",
    "import statsmodels.api as sm # estimação de modelos\n",
    "import statsmodels.formula.api as smf # estimação do modelo logístico binário\n",
    "from statstests.process import stepwise # procedimento Stepwise\n",
    "from scipy import stats # estatística chi2\n",
    "import plotly.graph_objects as go # gráficos 3D\n",
    "from statsmodels.iolib.summary2 import summary_col # comparação entre modelos\n",
    "from statsmodels.discrete.discrete_model import MNLogit # estimação do modelo\n",
    "                                                        #logístico multinomial\n",
    "import warnings\n",
    "warnings.filterwarnings('ignore')"
   ]
  },
  {
   "cell_type": "markdown",
   "metadata": {},
   "source": [
    "*Variável dependente é policotômica!!*"
   ]
  },
  {
   "cell_type": "code",
   "execution_count": 23,
   "metadata": {},
   "outputs": [
    {
     "data": {
      "text/html": [
       "<div>\n",
       "<style scoped>\n",
       "    .dataframe tbody tr th:only-of-type {\n",
       "        vertical-align: middle;\n",
       "    }\n",
       "\n",
       "    .dataframe tbody tr th {\n",
       "        vertical-align: top;\n",
       "    }\n",
       "\n",
       "    .dataframe thead th {\n",
       "        text-align: right;\n",
       "    }\n",
       "</style>\n",
       "<table border=\"1\" class=\"dataframe\">\n",
       "  <thead>\n",
       "    <tr style=\"text-align: right;\">\n",
       "      <th></th>\n",
       "      <th>estudante</th>\n",
       "      <th>atrasado</th>\n",
       "      <th>dist</th>\n",
       "      <th>sem</th>\n",
       "    </tr>\n",
       "  </thead>\n",
       "  <tbody>\n",
       "    <tr>\n",
       "      <th>0</th>\n",
       "      <td>Gabriela</td>\n",
       "      <td>chegou atrasado segunda aula</td>\n",
       "      <td>20.500000</td>\n",
       "      <td>15</td>\n",
       "    </tr>\n",
       "    <tr>\n",
       "      <th>1</th>\n",
       "      <td>Patricia</td>\n",
       "      <td>chegou atrasado segunda aula</td>\n",
       "      <td>21.299999</td>\n",
       "      <td>18</td>\n",
       "    </tr>\n",
       "    <tr>\n",
       "      <th>2</th>\n",
       "      <td>Gustavo</td>\n",
       "      <td>chegou atrasado segunda aula</td>\n",
       "      <td>21.400000</td>\n",
       "      <td>16</td>\n",
       "    </tr>\n",
       "    <tr>\n",
       "      <th>3</th>\n",
       "      <td>Leticia</td>\n",
       "      <td>chegou atrasado segunda aula</td>\n",
       "      <td>31.500000</td>\n",
       "      <td>15</td>\n",
       "    </tr>\n",
       "    <tr>\n",
       "      <th>4</th>\n",
       "      <td>Luiz Ovidio</td>\n",
       "      <td>chegou atrasado segunda aula</td>\n",
       "      <td>17.500000</td>\n",
       "      <td>16</td>\n",
       "    </tr>\n",
       "    <tr>\n",
       "      <th>...</th>\n",
       "      <td>...</td>\n",
       "      <td>...</td>\n",
       "      <td>...</td>\n",
       "      <td>...</td>\n",
       "    </tr>\n",
       "    <tr>\n",
       "      <th>95</th>\n",
       "      <td>Sheila</td>\n",
       "      <td>nao chegou atrasado</td>\n",
       "      <td>24.000000</td>\n",
       "      <td>10</td>\n",
       "    </tr>\n",
       "    <tr>\n",
       "      <th>96</th>\n",
       "      <td>Pedro</td>\n",
       "      <td>chegou atrasado primeira aula</td>\n",
       "      <td>15.000000</td>\n",
       "      <td>15</td>\n",
       "    </tr>\n",
       "    <tr>\n",
       "      <th>97</th>\n",
       "      <td>Horacio</td>\n",
       "      <td>chegou atrasado primeira aula</td>\n",
       "      <td>14.400000</td>\n",
       "      <td>15</td>\n",
       "    </tr>\n",
       "    <tr>\n",
       "      <th>98</th>\n",
       "      <td>Leandro</td>\n",
       "      <td>chegou atrasado segunda aula</td>\n",
       "      <td>22.200001</td>\n",
       "      <td>18</td>\n",
       "    </tr>\n",
       "    <tr>\n",
       "      <th>99</th>\n",
       "      <td>Estela</td>\n",
       "      <td>nao chegou atrasado</td>\n",
       "      <td>1.000000</td>\n",
       "      <td>13</td>\n",
       "    </tr>\n",
       "  </tbody>\n",
       "</table>\n",
       "<p>100 rows × 4 columns</p>\n",
       "</div>"
      ],
      "text/plain": [
       "      estudante                       atrasado       dist  sem\n",
       "0      Gabriela   chegou atrasado segunda aula  20.500000   15\n",
       "1      Patricia   chegou atrasado segunda aula  21.299999   18\n",
       "2       Gustavo   chegou atrasado segunda aula  21.400000   16\n",
       "3       Leticia   chegou atrasado segunda aula  31.500000   15\n",
       "4   Luiz Ovidio   chegou atrasado segunda aula  17.500000   16\n",
       "..          ...                            ...        ...  ...\n",
       "95       Sheila            nao chegou atrasado  24.000000   10\n",
       "96        Pedro  chegou atrasado primeira aula  15.000000   15\n",
       "97      Horacio  chegou atrasado primeira aula  14.400000   15\n",
       "98      Leandro   chegou atrasado segunda aula  22.200001   18\n",
       "99       Estela            nao chegou atrasado   1.000000   13\n",
       "\n",
       "[100 rows x 4 columns]"
      ]
     },
     "execution_count": 23,
     "metadata": {},
     "output_type": "execute_result"
    }
   ],
   "source": [
    "df_atrasado_multinomial = pd.read_csv('../data/atrasado_multinomial.csv',delimiter=',')\n",
    "df_atrasado_multinomial"
   ]
  },
  {
   "cell_type": "code",
   "execution_count": 27,
   "metadata": {},
   "outputs": [
    {
     "name": "stdout",
     "output_type": "stream",
     "text": [
      "<class 'pandas.core.frame.DataFrame'>\n",
      "RangeIndex: 100 entries, 0 to 99\n",
      "Data columns (total 5 columns):\n",
      " #   Column     Non-Null Count  Dtype  \n",
      "---  ------     --------------  -----  \n",
      " 0   estudante  100 non-null    object \n",
      " 1   atrasado   100 non-null    object \n",
      " 2   dist       100 non-null    float64\n",
      " 3   sem        100 non-null    int64  \n",
      " 4   atrasado2  100 non-null    int64  \n",
      "dtypes: float64(1), int64(2), object(2)\n",
      "memory usage: 4.0+ KB\n"
     ]
    },
    {
     "data": {
      "text/html": [
       "<div>\n",
       "<style scoped>\n",
       "    .dataframe tbody tr th:only-of-type {\n",
       "        vertical-align: middle;\n",
       "    }\n",
       "\n",
       "    .dataframe tbody tr th {\n",
       "        vertical-align: top;\n",
       "    }\n",
       "\n",
       "    .dataframe thead th {\n",
       "        text-align: right;\n",
       "    }\n",
       "</style>\n",
       "<table border=\"1\" class=\"dataframe\">\n",
       "  <thead>\n",
       "    <tr style=\"text-align: right;\">\n",
       "      <th></th>\n",
       "      <th>dist</th>\n",
       "      <th>sem</th>\n",
       "      <th>atrasado2</th>\n",
       "    </tr>\n",
       "  </thead>\n",
       "  <tbody>\n",
       "    <tr>\n",
       "      <th>count</th>\n",
       "      <td>100.000000</td>\n",
       "      <td>100.000000</td>\n",
       "      <td>100.000000</td>\n",
       "    </tr>\n",
       "    <tr>\n",
       "      <th>mean</th>\n",
       "      <td>17.673000</td>\n",
       "      <td>13.810000</td>\n",
       "      <td>0.860000</td>\n",
       "    </tr>\n",
       "    <tr>\n",
       "      <th>std</th>\n",
       "      <td>5.130299</td>\n",
       "      <td>3.329376</td>\n",
       "      <td>0.910322</td>\n",
       "    </tr>\n",
       "    <tr>\n",
       "      <th>min</th>\n",
       "      <td>1.000000</td>\n",
       "      <td>10.000000</td>\n",
       "      <td>0.000000</td>\n",
       "    </tr>\n",
       "    <tr>\n",
       "      <th>25%</th>\n",
       "      <td>14.950000</td>\n",
       "      <td>10.000000</td>\n",
       "      <td>0.000000</td>\n",
       "    </tr>\n",
       "    <tr>\n",
       "      <th>50%</th>\n",
       "      <td>18.750000</td>\n",
       "      <td>15.000000</td>\n",
       "      <td>1.000000</td>\n",
       "    </tr>\n",
       "    <tr>\n",
       "      <th>75%</th>\n",
       "      <td>21.000000</td>\n",
       "      <td>18.000000</td>\n",
       "      <td>2.000000</td>\n",
       "    </tr>\n",
       "    <tr>\n",
       "      <th>max</th>\n",
       "      <td>31.500000</td>\n",
       "      <td>19.000000</td>\n",
       "      <td>2.000000</td>\n",
       "    </tr>\n",
       "  </tbody>\n",
       "</table>\n",
       "</div>"
      ],
      "text/plain": [
       "             dist         sem   atrasado2\n",
       "count  100.000000  100.000000  100.000000\n",
       "mean    17.673000   13.810000    0.860000\n",
       "std      5.130299    3.329376    0.910322\n",
       "min      1.000000   10.000000    0.000000\n",
       "25%     14.950000   10.000000    0.000000\n",
       "50%     18.750000   15.000000    1.000000\n",
       "75%     21.000000   18.000000    2.000000\n",
       "max     31.500000   19.000000    2.000000"
      ]
     },
     "execution_count": 27,
     "metadata": {},
     "output_type": "execute_result"
    }
   ],
   "source": [
    "# Características das variáveis do dataset\n",
    "df_atrasado_multinomial.info()\n",
    "\n",
    "# Estatísticas univariadas\n",
    "df_atrasado_multinomial.describe()"
   ]
  },
  {
   "cell_type": "code",
   "execution_count": 28,
   "metadata": {},
   "outputs": [
    {
     "name": "stdout",
     "output_type": "stream",
     "text": [
      "<class 'pandas.core.frame.DataFrame'>\n",
      "RangeIndex: 100 entries, 0 to 99\n",
      "Data columns (total 5 columns):\n",
      " #   Column     Non-Null Count  Dtype  \n",
      "---  ------     --------------  -----  \n",
      " 0   estudante  100 non-null    object \n",
      " 1   atrasado   100 non-null    object \n",
      " 2   dist       100 non-null    float64\n",
      " 3   sem        100 non-null    int64  \n",
      " 4   atrasado2  100 non-null    int64  \n",
      "dtypes: float64(1), int64(2), object(2)\n",
      "memory usage: 4.0+ KB\n"
     ]
    },
    {
     "data": {
      "text/html": [
       "<div>\n",
       "<style scoped>\n",
       "    .dataframe tbody tr th:only-of-type {\n",
       "        vertical-align: middle;\n",
       "    }\n",
       "\n",
       "    .dataframe tbody tr th {\n",
       "        vertical-align: top;\n",
       "    }\n",
       "\n",
       "    .dataframe thead th {\n",
       "        text-align: right;\n",
       "    }\n",
       "</style>\n",
       "<table border=\"1\" class=\"dataframe\">\n",
       "  <thead>\n",
       "    <tr style=\"text-align: right;\">\n",
       "      <th></th>\n",
       "      <th>estudante</th>\n",
       "      <th>atrasado</th>\n",
       "      <th>dist</th>\n",
       "      <th>sem</th>\n",
       "      <th>atrasado2</th>\n",
       "    </tr>\n",
       "  </thead>\n",
       "  <tbody>\n",
       "    <tr>\n",
       "      <th>0</th>\n",
       "      <td>Gabriela</td>\n",
       "      <td>chegou atrasado segunda aula</td>\n",
       "      <td>20.500000</td>\n",
       "      <td>15</td>\n",
       "      <td>2</td>\n",
       "    </tr>\n",
       "    <tr>\n",
       "      <th>1</th>\n",
       "      <td>Patricia</td>\n",
       "      <td>chegou atrasado segunda aula</td>\n",
       "      <td>21.299999</td>\n",
       "      <td>18</td>\n",
       "      <td>2</td>\n",
       "    </tr>\n",
       "    <tr>\n",
       "      <th>2</th>\n",
       "      <td>Gustavo</td>\n",
       "      <td>chegou atrasado segunda aula</td>\n",
       "      <td>21.400000</td>\n",
       "      <td>16</td>\n",
       "      <td>2</td>\n",
       "    </tr>\n",
       "    <tr>\n",
       "      <th>3</th>\n",
       "      <td>Leticia</td>\n",
       "      <td>chegou atrasado segunda aula</td>\n",
       "      <td>31.500000</td>\n",
       "      <td>15</td>\n",
       "      <td>2</td>\n",
       "    </tr>\n",
       "    <tr>\n",
       "      <th>4</th>\n",
       "      <td>Luiz Ovidio</td>\n",
       "      <td>chegou atrasado segunda aula</td>\n",
       "      <td>17.500000</td>\n",
       "      <td>16</td>\n",
       "      <td>2</td>\n",
       "    </tr>\n",
       "    <tr>\n",
       "      <th>...</th>\n",
       "      <td>...</td>\n",
       "      <td>...</td>\n",
       "      <td>...</td>\n",
       "      <td>...</td>\n",
       "      <td>...</td>\n",
       "    </tr>\n",
       "    <tr>\n",
       "      <th>95</th>\n",
       "      <td>Sheila</td>\n",
       "      <td>nao chegou atrasado</td>\n",
       "      <td>24.000000</td>\n",
       "      <td>10</td>\n",
       "      <td>0</td>\n",
       "    </tr>\n",
       "    <tr>\n",
       "      <th>96</th>\n",
       "      <td>Pedro</td>\n",
       "      <td>chegou atrasado primeira aula</td>\n",
       "      <td>15.000000</td>\n",
       "      <td>15</td>\n",
       "      <td>1</td>\n",
       "    </tr>\n",
       "    <tr>\n",
       "      <th>97</th>\n",
       "      <td>Horacio</td>\n",
       "      <td>chegou atrasado primeira aula</td>\n",
       "      <td>14.400000</td>\n",
       "      <td>15</td>\n",
       "      <td>1</td>\n",
       "    </tr>\n",
       "    <tr>\n",
       "      <th>98</th>\n",
       "      <td>Leandro</td>\n",
       "      <td>chegou atrasado segunda aula</td>\n",
       "      <td>22.200001</td>\n",
       "      <td>18</td>\n",
       "      <td>2</td>\n",
       "    </tr>\n",
       "    <tr>\n",
       "      <th>99</th>\n",
       "      <td>Estela</td>\n",
       "      <td>nao chegou atrasado</td>\n",
       "      <td>1.000000</td>\n",
       "      <td>13</td>\n",
       "      <td>0</td>\n",
       "    </tr>\n",
       "  </tbody>\n",
       "</table>\n",
       "<p>100 rows × 5 columns</p>\n",
       "</div>"
      ],
      "text/plain": [
       "      estudante                       atrasado       dist  sem  atrasado2\n",
       "0      Gabriela   chegou atrasado segunda aula  20.500000   15          2\n",
       "1      Patricia   chegou atrasado segunda aula  21.299999   18          2\n",
       "2       Gustavo   chegou atrasado segunda aula  21.400000   16          2\n",
       "3       Leticia   chegou atrasado segunda aula  31.500000   15          2\n",
       "4   Luiz Ovidio   chegou atrasado segunda aula  17.500000   16          2\n",
       "..          ...                            ...        ...  ...        ...\n",
       "95       Sheila            nao chegou atrasado  24.000000   10          0\n",
       "96        Pedro  chegou atrasado primeira aula  15.000000   15          1\n",
       "97      Horacio  chegou atrasado primeira aula  14.400000   15          1\n",
       "98      Leandro   chegou atrasado segunda aula  22.200001   18          2\n",
       "99       Estela            nao chegou atrasado   1.000000   13          0\n",
       "\n",
       "[100 rows x 5 columns]"
      ]
     },
     "execution_count": 28,
     "metadata": {},
     "output_type": "execute_result"
    }
   ],
   "source": [
    "# Note que a variável Y 'atrasado' está definida como objeto\n",
    "\n",
    "# Tabela de frequências absolutas da variável 'atrasado' com labels\n",
    "df_atrasado_multinomial['atrasado'].value_counts().sort_index()\n",
    "\n",
    "# Criando uma variável 'atrasado2' a partir da variável 'atrasado',\n",
    "# com labels iguais a 0, 1 e 2 e com tipo 'int' (poderia também ser do tipo\n",
    "# 'float'), a fim de que seja possível estimar o modelo por meio\n",
    "# da função 'MNLogit' do pacote 'statsmodels.discrete.discrete_model'\n",
    "\n",
    "df_atrasado_multinomial.loc[df_atrasado_multinomial['atrasado']==\n",
    "                            'nao chegou atrasado',\n",
    "                            'atrasado2'] = 0 #categoria de referência\n",
    "\n",
    "df_atrasado_multinomial.loc[df_atrasado_multinomial['atrasado']==\n",
    "                            'chegou atrasado primeira aula',\n",
    "                            'atrasado2'] = 1\n",
    "\n",
    "df_atrasado_multinomial.loc[df_atrasado_multinomial['atrasado']==\n",
    "                            'chegou atrasado segunda aula',\n",
    "                            'atrasado2'] = 2\n",
    "\n",
    "# Definição do tipo 'int' para a variável dependente 'atrasado2'\n",
    "df_atrasado_multinomial['atrasado2'] =\\\n",
    "    df_atrasado_multinomial['atrasado2'].astype('int64')\n",
    "\n",
    "df_atrasado_multinomial.info()\n",
    "\n",
    "df_atrasado_multinomial"
   ]
  },
  {
   "cell_type": "code",
   "execution_count": 29,
   "metadata": {},
   "outputs": [
    {
     "name": "stdout",
     "output_type": "stream",
     "text": [
      "Optimization terminated successfully.\n",
      "         Current function value: 0.245118\n",
      "         Iterations 10\n",
      "                          MNLogit Regression Results                          \n",
      "==============================================================================\n",
      "Dep. Variable:              atrasado2   No. Observations:                  100\n",
      "Model:                        MNLogit   Df Residuals:                       94\n",
      "Method:                           MLE   Df Model:                            4\n",
      "Date:                Sat, 31 Aug 2024   Pseudo R-squ.:                  0.7574\n",
      "Time:                        09:27:06   Log-Likelihood:                -24.512\n",
      "converged:                       True   LL-Null:                       -101.02\n",
      "Covariance Type:            nonrobust   LLR p-value:                 4.598e-32\n",
      "===============================================================================\n",
      "atrasado2=1       coef    std err          z      P>|z|      [0.025      0.975]\n",
      "-------------------------------------------------------------------------------\n",
      "const         -33.1352     12.183     -2.720      0.007     -57.014      -9.256\n",
      "dist            0.5588      0.243      2.297      0.022       0.082       1.036\n",
      "sem             1.6699      0.577      2.895      0.004       0.539       2.801\n",
      "-------------------------------------------------------------------------------\n",
      "atrasado2=2       coef    std err          z      P>|z|      [0.025      0.975]\n",
      "-------------------------------------------------------------------------------\n",
      "const         -62.2922     14.675     -4.245      0.000     -91.055     -33.530\n",
      "dist            1.0784      0.302      3.566      0.000       0.486       1.671\n",
      "sem             2.8949      0.686      4.220      0.000       1.550       4.239\n",
      "===============================================================================\n"
     ]
    }
   ],
   "source": [
    "# Estimação do modelo logístico multinomial\n",
    "\n",
    "x = df_atrasado_multinomial.drop(columns=['estudante','atrasado','atrasado2'])\n",
    "y = df_atrasado_multinomial['atrasado2']\n",
    "\n",
    "# Esse pacote precisa que a constante seja definida pelo usuário\n",
    "X = sm.add_constant(x)\n",
    "\n",
    "# Estimação do modelo - função 'MNLogit' ('statsmodels.discrete.discrete_model')\n",
    "modelo_atrasado = MNLogit(endog=y, exog=X).fit()\n",
    "\n",
    "# Parâmetros do modelo 'modelo_atrasado'\n",
    "print(modelo_atrasado.summary())"
   ]
  },
  {
   "cell_type": "code",
   "execution_count": 7,
   "metadata": {},
   "outputs": [],
   "source": [
    "# Vamos definir uma função 'Qui2' para se extrair a estatística geral\n",
    "# do modelo\n",
    "\n",
    "def Qui2(modelo_multinomial):\n",
    "    maximo = modelo_multinomial.llf\n",
    "    minimo = modelo_multinomial.llnull\n",
    "    qui2 = -2*(minimo - maximo)\n",
    "    pvalue = stats.distributions.chi2.sf(qui2,1)\n",
    "    df = pd.DataFrame({'Qui quadrado':[qui2],\n",
    "                       'pvalue':[pvalue]})\n",
    "    return df"
   ]
  },
  {
   "cell_type": "code",
   "execution_count": 8,
   "metadata": {},
   "outputs": [
    {
     "data": {
      "text/html": [
       "<div>\n",
       "<style scoped>\n",
       "    .dataframe tbody tr th:only-of-type {\n",
       "        vertical-align: middle;\n",
       "    }\n",
       "\n",
       "    .dataframe tbody tr th {\n",
       "        vertical-align: top;\n",
       "    }\n",
       "\n",
       "    .dataframe thead th {\n",
       "        text-align: right;\n",
       "    }\n",
       "</style>\n",
       "<table border=\"1\" class=\"dataframe\">\n",
       "  <thead>\n",
       "    <tr style=\"text-align: right;\">\n",
       "      <th></th>\n",
       "      <th>Qui quadrado</th>\n",
       "      <th>pvalue</th>\n",
       "    </tr>\n",
       "  </thead>\n",
       "  <tbody>\n",
       "    <tr>\n",
       "      <th>0</th>\n",
       "      <td>153.014842</td>\n",
       "      <td>3.802150e-35</td>\n",
       "    </tr>\n",
       "  </tbody>\n",
       "</table>\n",
       "</div>"
      ],
      "text/plain": [
       "   Qui quadrado        pvalue\n",
       "0    153.014842  3.802150e-35"
      ]
     },
     "execution_count": 8,
     "metadata": {},
     "output_type": "execute_result"
    }
   ],
   "source": [
    "# Estatística geral do 'modelo_atrasado'\n",
    "\n",
    "Qui2(modelo_atrasado)"
   ]
  },
  {
   "cell_type": "code",
   "execution_count": 9,
   "metadata": {},
   "outputs": [
    {
     "data": {
      "text/plain": [
       "0    0\n",
       "dtype: int64"
      ]
     },
     "execution_count": 9,
     "metadata": {},
     "output_type": "execute_result"
    }
   ],
   "source": [
    "# Fazendo predições para o 'modelo_atrasado'\n",
    "\n",
    "# Exemplo: qual a probabilidade média de atraso para cada categoria da\n",
    "# variável dependente, se o indivíduo tiver que percorrer 22km e passar\n",
    "# por 12 semáforos?\n",
    "\n",
    "# No nosso exemplo, temos os seguintes labels para a variável 'atrasado2':\n",
    "# 0: não chegou atrasado\n",
    "# 1: chegou atrasado primeira aula\n",
    "# 2: chegou atrasado segunda aula\n",
    "\n",
    "resultado = modelo_atrasado.predict(pd.DataFrame({'const':[1],\n",
    "                                                   'dist':[22],\n",
    "                                                   'sem':[12]})).round(4)\n",
    "\n",
    "resultado\n",
    "\n",
    "# Uma maneira de identificar a classe do resultado de acordo com o 'predict'\n",
    "resultado.idxmax(axis=1)"
   ]
  },
  {
   "cell_type": "code",
   "execution_count": 10,
   "metadata": {},
   "outputs": [
    {
     "data": {
      "text/html": [
       "<div>\n",
       "<style scoped>\n",
       "    .dataframe tbody tr th:only-of-type {\n",
       "        vertical-align: middle;\n",
       "    }\n",
       "\n",
       "    .dataframe tbody tr th {\n",
       "        vertical-align: top;\n",
       "    }\n",
       "\n",
       "    .dataframe thead th {\n",
       "        text-align: right;\n",
       "    }\n",
       "</style>\n",
       "<table border=\"1\" class=\"dataframe\">\n",
       "  <thead>\n",
       "    <tr style=\"text-align: right;\">\n",
       "      <th></th>\n",
       "      <th>estudante</th>\n",
       "      <th>atrasado</th>\n",
       "      <th>dist</th>\n",
       "      <th>sem</th>\n",
       "      <th>atrasado2</th>\n",
       "      <th>0</th>\n",
       "      <th>1</th>\n",
       "      <th>2</th>\n",
       "      <th>predicao</th>\n",
       "      <th>predicao_label</th>\n",
       "    </tr>\n",
       "  </thead>\n",
       "  <tbody>\n",
       "    <tr>\n",
       "      <th>0</th>\n",
       "      <td>Gabriela</td>\n",
       "      <td>chegou atrasado segunda aula</td>\n",
       "      <td>20.500000</td>\n",
       "      <td>15</td>\n",
       "      <td>2</td>\n",
       "      <td>1.801024e-02</td>\n",
       "      <td>0.523388</td>\n",
       "      <td>4.586018e-01</td>\n",
       "      <td>1</td>\n",
       "      <td>chegou atrasado primeira aula</td>\n",
       "    </tr>\n",
       "    <tr>\n",
       "      <th>1</th>\n",
       "      <td>Patricia</td>\n",
       "      <td>chegou atrasado segunda aula</td>\n",
       "      <td>21.299999</td>\n",
       "      <td>18</td>\n",
       "      <td>2</td>\n",
       "      <td>2.751301e-06</td>\n",
       "      <td>0.018737</td>\n",
       "      <td>9.812605e-01</td>\n",
       "      <td>2</td>\n",
       "      <td>chegou atrasado segunda aula</td>\n",
       "    </tr>\n",
       "    <tr>\n",
       "      <th>2</th>\n",
       "      <td>Gustavo</td>\n",
       "      <td>chegou atrasado segunda aula</td>\n",
       "      <td>21.400000</td>\n",
       "      <td>16</td>\n",
       "      <td>2</td>\n",
       "      <td>6.796190e-04</td>\n",
       "      <td>0.173472</td>\n",
       "      <td>8.258489e-01</td>\n",
       "      <td>2</td>\n",
       "      <td>chegou atrasado segunda aula</td>\n",
       "    </tr>\n",
       "    <tr>\n",
       "      <th>3</th>\n",
       "      <td>Leticia</td>\n",
       "      <td>chegou atrasado segunda aula</td>\n",
       "      <td>31.500000</td>\n",
       "      <td>15</td>\n",
       "      <td>2</td>\n",
       "      <td>2.759476e-07</td>\n",
       "      <td>0.003748</td>\n",
       "      <td>9.962518e-01</td>\n",
       "      <td>2</td>\n",
       "      <td>chegou atrasado segunda aula</td>\n",
       "    </tr>\n",
       "    <tr>\n",
       "      <th>4</th>\n",
       "      <td>Luiz Ovidio</td>\n",
       "      <td>chegou atrasado segunda aula</td>\n",
       "      <td>17.500000</td>\n",
       "      <td>16</td>\n",
       "      <td>2</td>\n",
       "      <td>2.083782e-02</td>\n",
       "      <td>0.601588</td>\n",
       "      <td>3.775739e-01</td>\n",
       "      <td>1</td>\n",
       "      <td>chegou atrasado primeira aula</td>\n",
       "    </tr>\n",
       "    <tr>\n",
       "      <th>...</th>\n",
       "      <td>...</td>\n",
       "      <td>...</td>\n",
       "      <td>...</td>\n",
       "      <td>...</td>\n",
       "      <td>...</td>\n",
       "      <td>...</td>\n",
       "      <td>...</td>\n",
       "      <td>...</td>\n",
       "      <td>...</td>\n",
       "      <td>...</td>\n",
       "    </tr>\n",
       "    <tr>\n",
       "      <th>95</th>\n",
       "      <td>Sheila</td>\n",
       "      <td>nao chegou atrasado</td>\n",
       "      <td>24.000000</td>\n",
       "      <td>10</td>\n",
       "      <td>0</td>\n",
       "      <td>9.531361e-01</td>\n",
       "      <td>0.046317</td>\n",
       "      <td>5.471598e-04</td>\n",
       "      <td>0</td>\n",
       "      <td>não chegou atrasado</td>\n",
       "    </tr>\n",
       "    <tr>\n",
       "      <th>96</th>\n",
       "      <td>Pedro</td>\n",
       "      <td>chegou atrasado primeira aula</td>\n",
       "      <td>15.000000</td>\n",
       "      <td>15</td>\n",
       "      <td>1</td>\n",
       "      <td>4.146183e-01</td>\n",
       "      <td>0.557343</td>\n",
       "      <td>2.803830e-02</td>\n",
       "      <td>1</td>\n",
       "      <td>chegou atrasado primeira aula</td>\n",
       "    </tr>\n",
       "    <tr>\n",
       "      <th>97</th>\n",
       "      <td>Horacio</td>\n",
       "      <td>chegou atrasado primeira aula</td>\n",
       "      <td>14.400000</td>\n",
       "      <td>15</td>\n",
       "      <td>1</td>\n",
       "      <td>5.008256e-01</td>\n",
       "      <td>0.481441</td>\n",
       "      <td>1.773339e-02</td>\n",
       "      <td>0</td>\n",
       "      <td>não chegou atrasado</td>\n",
       "    </tr>\n",
       "    <tr>\n",
       "      <th>98</th>\n",
       "      <td>Leandro</td>\n",
       "      <td>chegou atrasado segunda aula</td>\n",
       "      <td>22.200001</td>\n",
       "      <td>18</td>\n",
       "      <td>2</td>\n",
       "      <td>1.049763e-06</td>\n",
       "      <td>0.011822</td>\n",
       "      <td>9.881774e-01</td>\n",
       "      <td>2</td>\n",
       "      <td>chegou atrasado segunda aula</td>\n",
       "    </tr>\n",
       "    <tr>\n",
       "      <th>99</th>\n",
       "      <td>Estela</td>\n",
       "      <td>nao chegou atrasado</td>\n",
       "      <td>1.000000</td>\n",
       "      <td>13</td>\n",
       "      <td>0</td>\n",
       "      <td>9.999809e-01</td>\n",
       "      <td>0.000019</td>\n",
       "      <td>5.741634e-11</td>\n",
       "      <td>0</td>\n",
       "      <td>não chegou atrasado</td>\n",
       "    </tr>\n",
       "  </tbody>\n",
       "</table>\n",
       "<p>100 rows × 10 columns</p>\n",
       "</div>"
      ],
      "text/plain": [
       "      estudante                       atrasado       dist  sem  atrasado2  \\\n",
       "0      Gabriela   chegou atrasado segunda aula  20.500000   15          2   \n",
       "1      Patricia   chegou atrasado segunda aula  21.299999   18          2   \n",
       "2       Gustavo   chegou atrasado segunda aula  21.400000   16          2   \n",
       "3       Leticia   chegou atrasado segunda aula  31.500000   15          2   \n",
       "4   Luiz Ovidio   chegou atrasado segunda aula  17.500000   16          2   \n",
       "..          ...                            ...        ...  ...        ...   \n",
       "95       Sheila            nao chegou atrasado  24.000000   10          0   \n",
       "96        Pedro  chegou atrasado primeira aula  15.000000   15          1   \n",
       "97      Horacio  chegou atrasado primeira aula  14.400000   15          1   \n",
       "98      Leandro   chegou atrasado segunda aula  22.200001   18          2   \n",
       "99       Estela            nao chegou atrasado   1.000000   13          0   \n",
       "\n",
       "               0         1             2  predicao  \\\n",
       "0   1.801024e-02  0.523388  4.586018e-01         1   \n",
       "1   2.751301e-06  0.018737  9.812605e-01         2   \n",
       "2   6.796190e-04  0.173472  8.258489e-01         2   \n",
       "3   2.759476e-07  0.003748  9.962518e-01         2   \n",
       "4   2.083782e-02  0.601588  3.775739e-01         1   \n",
       "..           ...       ...           ...       ...   \n",
       "95  9.531361e-01  0.046317  5.471598e-04         0   \n",
       "96  4.146183e-01  0.557343  2.803830e-02         1   \n",
       "97  5.008256e-01  0.481441  1.773339e-02         0   \n",
       "98  1.049763e-06  0.011822  9.881774e-01         2   \n",
       "99  9.999809e-01  0.000019  5.741634e-11         0   \n",
       "\n",
       "                   predicao_label  \n",
       "0   chegou atrasado primeira aula  \n",
       "1    chegou atrasado segunda aula  \n",
       "2    chegou atrasado segunda aula  \n",
       "3    chegou atrasado segunda aula  \n",
       "4   chegou atrasado primeira aula  \n",
       "..                            ...  \n",
       "95            não chegou atrasado  \n",
       "96  chegou atrasado primeira aula  \n",
       "97            não chegou atrasado  \n",
       "98   chegou atrasado segunda aula  \n",
       "99            não chegou atrasado  \n",
       "\n",
       "[100 rows x 10 columns]"
      ]
     },
     "execution_count": 10,
     "metadata": {},
     "output_type": "execute_result"
    }
   ],
   "source": [
    "# Adicionando as probabilidades de ocorrência de cada uma das\n",
    "# categorias de Y definidas pela modelagem ao dataframe original, bem como a\n",
    "# respectiva classificação\n",
    "\n",
    "# Probabilidades de ocorrência das três categoriais\n",
    "# Definição do array 'phats':\n",
    "phats = modelo_atrasado.predict()\n",
    "phats\n",
    "\n",
    "# Transformação do array 'phats' para o dataframe 'phats':\n",
    "phats = pd.DataFrame(phats)\n",
    "phats\n",
    "\n",
    "# Concatenando o dataframe original com o dataframe 'phats':\n",
    "df_atrasado_multinomial = pd.concat([df_atrasado_multinomial, phats], axis=1)\n",
    "df_atrasado_multinomial\n",
    "\n",
    "# Analisando o resultado de acordo com a categoria de resposta:\n",
    "predicao = phats.idxmax(axis=1)\n",
    "predicao\n",
    "\n",
    "# Adicionando a categoria de resposta 'predicao' ao dataframe original,\n",
    "#por meio da criação da variável 'predicao'\n",
    "df_atrasado_multinomial['predicao'] = predicao\n",
    "df_atrasado_multinomial\n",
    "\n",
    "# Criando a variável 'predicao_label' a partir da variável 'predicao',\n",
    "#respeitando os seguintes rótulos:\n",
    "# 0: não chegou atrasado\n",
    "# 1: chegou atrasado primeira aula\n",
    "# 2: chegou atrasado segunda aula\n",
    "\n",
    "df_atrasado_multinomial.loc[df_atrasado_multinomial['predicao']==0,\n",
    "                            'predicao_label'] ='não chegou atrasado'\n",
    "df_atrasado_multinomial.loc[df_atrasado_multinomial['predicao']==1,\n",
    "                            'predicao_label'] ='chegou atrasado primeira aula'\n",
    "df_atrasado_multinomial.loc[df_atrasado_multinomial['predicao']==2,\n",
    "                            'predicao_label'] ='chegou atrasado segunda aula'\n",
    "\n",
    "df_atrasado_multinomial"
   ]
  },
  {
   "cell_type": "code",
   "execution_count": 11,
   "metadata": {},
   "outputs": [
    {
     "data": {
      "text/html": [
       "<div>\n",
       "<style scoped>\n",
       "    .dataframe tbody tr th:only-of-type {\n",
       "        vertical-align: middle;\n",
       "    }\n",
       "\n",
       "    .dataframe tbody tr th {\n",
       "        vertical-align: top;\n",
       "    }\n",
       "\n",
       "    .dataframe thead th {\n",
       "        text-align: right;\n",
       "    }\n",
       "</style>\n",
       "<table border=\"1\" class=\"dataframe\">\n",
       "  <thead>\n",
       "    <tr style=\"text-align: right;\">\n",
       "      <th>atrasado</th>\n",
       "      <th>chegou atrasado primeira aula</th>\n",
       "      <th>chegou atrasado segunda aula</th>\n",
       "      <th>nao chegou atrasado</th>\n",
       "    </tr>\n",
       "    <tr>\n",
       "      <th>predicao_label</th>\n",
       "      <th></th>\n",
       "      <th></th>\n",
       "      <th></th>\n",
       "    </tr>\n",
       "  </thead>\n",
       "  <tbody>\n",
       "    <tr>\n",
       "      <th>chegou atrasado primeira aula</th>\n",
       "      <td>12.0</td>\n",
       "      <td>5.0</td>\n",
       "      <td>2.0</td>\n",
       "    </tr>\n",
       "    <tr>\n",
       "      <th>chegou atrasado segunda aula</th>\n",
       "      <td>3.0</td>\n",
       "      <td>30.0</td>\n",
       "      <td>0.0</td>\n",
       "    </tr>\n",
       "    <tr>\n",
       "      <th>não chegou atrasado</th>\n",
       "      <td>1.0</td>\n",
       "      <td>0.0</td>\n",
       "      <td>47.0</td>\n",
       "    </tr>\n",
       "  </tbody>\n",
       "</table>\n",
       "</div>"
      ],
      "text/plain": [
       "atrasado                       chegou atrasado primeira aula  \\\n",
       "predicao_label                                                 \n",
       "chegou atrasado primeira aula                           12.0   \n",
       "chegou atrasado segunda aula                             3.0   \n",
       "não chegou atrasado                                      1.0   \n",
       "\n",
       "atrasado                       chegou atrasado segunda aula  \\\n",
       "predicao_label                                                \n",
       "chegou atrasado primeira aula                           5.0   \n",
       "chegou atrasado segunda aula                           30.0   \n",
       "não chegou atrasado                                     0.0   \n",
       "\n",
       "atrasado                       nao chegou atrasado  \n",
       "predicao_label                                      \n",
       "chegou atrasado primeira aula                  2.0  \n",
       "chegou atrasado segunda aula                   0.0  \n",
       "não chegou atrasado                           47.0  "
      ]
     },
     "execution_count": 11,
     "metadata": {},
     "output_type": "execute_result"
    }
   ],
   "source": [
    "# Criação de tabela para cálculo da eficiência global do modelo\n",
    "\n",
    "# Criando uma tabela para comparar as ocorrências reais com as predições\n",
    "table = pd.pivot_table(df_atrasado_multinomial,\n",
    "                       index=['predicao_label'],\n",
    "                       columns=['atrasado'],\n",
    "                       aggfunc='size')\n",
    "table\n",
    "\n",
    "# Substituindo 'NaN' por zero\n",
    "table = table.fillna(0)\n",
    "table"
   ]
  },
  {
   "cell_type": "code",
   "execution_count": 12,
   "metadata": {},
   "outputs": [
    {
     "data": {
      "image/png": "[encoded data removed]",
      "text/plain": [
       "<Figure size 800x300 with 1 Axes>"
      ]
     },
     "metadata": {},
     "output_type": "display_data"
    }
   ],
   "source": [
    "# Visualização, para fins didáticos, do objeto 'table' (dataframe)\n",
    "# no ambiente Plots\n",
    "\n",
    "from tabulate import tabulate\n",
    "tabela = tabulate(table, headers='keys', tablefmt='grid', numalign='center')\n",
    "\n",
    "plt.figure(figsize=(8, 3))\n",
    "plt.text(0.1, 0.1, tabela, {'family': 'monospace', 'size': 15})\n",
    "plt.axis('off')\n",
    "plt.show()"
   ]
  },
  {
   "cell_type": "code",
   "execution_count": 13,
   "metadata": {},
   "outputs": [
    {
     "data": {
      "text/plain": [
       "np.float64(0.89)"
      ]
     },
     "execution_count": 13,
     "metadata": {},
     "output_type": "execute_result"
    }
   ],
   "source": [
    "# Eficiência global do modelo propriamente dita\n",
    "\n",
    "# Transformando o dataframe 'table' para 'array', para que seja possível\n",
    "# estabelecer o atributo 'diagonal'\n",
    "table = table.to_numpy()\n",
    "table\n",
    "\n",
    "# Eficiência global do modelo\n",
    "acuracia = table.diagonal().sum()/table.sum()\n",
    "acuracia"
   ]
  },
  {
   "cell_type": "code",
   "execution_count": 14,
   "metadata": {},
   "outputs": [
    {
     "data": {
      "image/png": "[encoded data removed]",
      "text/plain": [
       "<Figure size 1500x1000 with 1 Axes>"
      ]
     },
     "metadata": {},
     "output_type": "display_data"
    }
   ],
   "source": [
    "# Plotagens das probabilidades\n",
    "\n",
    "# Plotagem das smooth probability lines para a variável 'dist'\n",
    "\n",
    "# 0: não chegou atrasado\n",
    "# 1: chegou atrasado primeira aula\n",
    "# 2: chegou atrasado segunda aula\n",
    "\n",
    "plt.figure(figsize=(15,10))\n",
    "\n",
    "# Plot para \"não chegou atrasado\"\n",
    "sns.regplot(x='dist', y=df_atrasado_multinomial[0],\n",
    "            data=df_atrasado_multinomial, ci=False, order=4,\n",
    "            line_kws={'color':'indigo', 'linewidth':4,\n",
    "                      'label':'não chegou atrasado'},\n",
    "            scatter_kws={'color':'indigo', 's':80, 'alpha':0.5})\n",
    "\n",
    "# Plot para \"chegou atrasado na primeira aula\"\n",
    "sns.regplot(x='dist', y=df_atrasado_multinomial[1],\n",
    "            data=df_atrasado_multinomial, ci=None, order=4,\n",
    "            line_kws={'color':'darkgreen', 'linewidth':4,\n",
    "                      'label':'chegou atrasado na primeira aula'},\n",
    "            scatter_kws={'color':'darkgreen', 's':80, 'alpha':0.5})\n",
    "\n",
    "# Plot para \"chegou atrasado na segunda aula\"\n",
    "sns.regplot(x='dist', y=df_atrasado_multinomial[2],\n",
    "            data=df_atrasado_multinomial, ci=None, order=4,\n",
    "            line_kws={'color':'darkorange', 'linewidth':4,\n",
    "                      'label':'chegou atrasado na segunda aula'},\n",
    "            scatter_kws={'color':'darkorange', 's':80, 'alpha':0.5})\n",
    "\n",
    "plt.xlabel('Distância Percorrida', fontsize=18)\n",
    "plt.ylabel('Probabilidades', fontsize=18)\n",
    "plt.xticks(fontsize=14)\n",
    "plt.yticks(fontsize=14)\n",
    "plt.legend(loc='center left', fontsize=14)\n",
    "plt.show()"
   ]
  },
  {
   "cell_type": "code",
   "execution_count": 15,
   "metadata": {},
   "outputs": [
    {
     "data": {
      "image/png": "[encoded data removed]",
      "text/plain": [
       "<Figure size 1500x1000 with 1 Axes>"
      ]
     },
     "metadata": {},
     "output_type": "display_data"
    }
   ],
   "source": [
    "# Plotagens das probabilidades\n",
    "\n",
    "# Plotagem das smooth probability lines para a variável 'sem'\n",
    "\n",
    "# 0: não chegou atrasado\n",
    "# 1: chegou atrasado primeira aula\n",
    "# 2: chegou atrasado segunda aula\n",
    "\n",
    "plt.figure(figsize=(15,10))\n",
    "\n",
    "# Plot para \"não chegou atrasado\"\n",
    "sns.regplot(x='sem', y=df_atrasado_multinomial[0],\n",
    "            data=df_atrasado_multinomial, ci=None, order=4,\n",
    "            line_kws={'color':'indigo', 'linewidth':4,\n",
    "                      'label':'não chegou atrasado'},\n",
    "            scatter_kws={'color':'indigo', 's':80, 'alpha':0.5})\n",
    "\n",
    "# Plot para \"chegou atrasado na primeira aula\"\n",
    "sns.regplot(x='sem', y=df_atrasado_multinomial[1],\n",
    "            data=df_atrasado_multinomial, ci=None, order=4,\n",
    "            line_kws={'color':'darkgreen', 'linewidth':4,\n",
    "                      'label':'chegou atrasado na primeira aula'},\n",
    "            scatter_kws={'color':'darkgreen', 's':80, 'alpha':0.5})\n",
    "\n",
    "# Plot para \"chegou atrasado na segunda aula\"\n",
    "sns.regplot(x='sem', y=df_atrasado_multinomial[2],\n",
    "            data=df_atrasado_multinomial, ci=None, order=4,\n",
    "            line_kws={'color':'darkorange', 'linewidth':4,\n",
    "                      'label':'chegou atrasado na segunda aula'},\n",
    "            scatter_kws={'color':'darkorange', 's':80, 'alpha':0.5})\n",
    "\n",
    "plt.xlabel('Quantidade de Semáforos', fontsize=18)\n",
    "plt.ylabel('Probabilidades', fontsize=18)\n",
    "plt.xticks(fontsize=14)\n",
    "plt.yticks(fontsize=14)\n",
    "plt.legend(loc='upper center', fontsize=14)\n",
    "plt.show()"
   ]
  },
  {
   "cell_type": "code",
   "execution_count": 16,
   "metadata": {},
   "outputs": [
    {
     "data": {
      "application/vnd.plotly.v1+json": {
       "config": {
        "plotlyServerURL": "https://plot.ly"
       },
       "data": [
        {
         "colorscale": [
          [
           0,
           "#440154"
          ],
          [
           0.1111111111111111,
           "#482878"
          ],
          [
           0.2222222222222222,
           "#3e4989"
          ],
          [
           0.3333333333333333,
           "#31688e"
          ],
          [
           0.4444444444444444,
           "#26828e"
          ],
          [
           0.5555555555555556,
           "#1f9e89"
          ],
          [
           0.6666666666666666,
           "#35b779"
          ],
          [
           0.7777777777777778,
           "#6ece58"
          ],
          [
           0.8888888888888888,
           "#b5de2b"
          ],
          [
           1,
           "#fde725"
          ]
         ],
         "intensity": [
          0.018010236294128366,
          0.0000027513006249947106,
          0.0006796190184597088,
          2.759475618138947e-7,
          0.020837823889474485,
          0.0000022216509100951115,
          0.0000022216509100951115,
          2.893908517409597e-7,
          6.139071873628187e-7,
          6.139071873628187e-7,
          0.000001793640873784016,
          0.00003150166015157644,
          1.1446866552948642e-8,
          0.05854787648290872,
          0.00003150166015157644,
          0.026435978186264354,
          0.000001300755334216909,
          0.00002553996809208108,
          0.000003790232287337679,
          0.1678212076771945,
          0.005087731335500259,
          0.00018261123585223735,
          0.000010979479456616971,
          0.40070762403063137,
          0.20413351512704297,
          0.99902854774229,
          0.999772681829458,
          0.07434790217471318,
          0.000003790232287337679,
          0.17560157224001072,
          0.48638502874173845,
          0.014173463889862117,
          0.9994442863370326,
          0.000018625572519578816,
          0.000004216902360866868,
          0.000003790232287337679,
          0.000010979479456616971,
          7.261231748775953e-8,
          0.000010979479456616971,
          0.000016760944168538893,
          0.000007986508289077197,
          0.9211356941237968,
          0.5206936536261574,
          0.0010230313978655003,
          0.9211356941237968,
          0.997033852005814,
          0.9996821475812905,
          0.9996821475812905,
          0.9995063114695765,
          0.000003061515387892986,
          8.861933921747321e-8,
          0.000053077648870524355,
          0.9218998980935108,
          0.9999550358047773,
          0.99902854774229,
          0.997033852005814,
          0.026435978186264354,
          0.9948217333871718,
          0.9977708595081597,
          0.99902854774229,
          0.9996821475812905,
          0.9732118816448401,
          0.053707616277619684,
          0.026435978186264354,
          0.9996842411140412,
          0.061310871384577414,
          0.9994479574110686,
          0.99902854774229,
          0.9994479574110686,
          0.9998960331558903,
          0.6679094621377547,
          0.99902854774229,
          0.9996842411140412,
          0.9983021710572014,
          0.999715752809642,
          0.9999964105383553,
          0.9996660978223678,
          0.9999993242305091,
          0.99902854774229,
          0.9998845036350773,
          0.18682973160789262,
          0.9974908418520759,
          0.9999335112343942,
          0.9999742856410372,
          0.9999550358047773,
          0.9999405419036136,
          0.9989209814703889,
          0.10095366011429098,
          0.17560157224001072,
          0.03584476852519133,
          0.9999405419036136,
          0.997891810336243,
          0.99902854774229,
          0.997033852005814,
          0.9197165030906179,
          0.9531361233016356,
          0.41461827786741295,
          0.5008256117091467,
          0.0000010497629585933546,
          0.9999809341904876
         ],
         "opacity": 1,
         "type": "mesh3d",
         "x": [
          20.5,
          21.2999992370605,
          21.3999996185303,
          31.5,
          17.5,
          21.5,
          21.5,
          23.3999996185303,
          22.7000007629395,
          22.7000007629395,
          21.7000007629395,
          19,
          26.3999996185303,
          16,
          19,
          20,
          22,
          19.2000007629395,
          21,
          20,
          22,
          20,
          20,
          21,
          16.7000007629395,
          17,
          14.3999996185303,
          18.5,
          21,
          17,
          14.5,
          20.7999992370605,
          16,
          19.5,
          20.8999996185303,
          21,
          20,
          22,
          20,
          19.6000003814697,
          20.2999992370605,
          22,
          29,
          23.7000007629395,
          22,
          19,
          15,
          15,
          12.8000001907349,
          21.2000007629395,
          24.5,
          18.5,
          19,
          11.5,
          17,
          19,
          20,
          20,
          15.5,
          17,
          15,
          17,
          19,
          20,
          12,
          18.7999992370605,
          13,
          17,
          13,
          13,
          28,
          17,
          12,
          18,
          14.8000001907349,
          1,
          12.1000003814697,
          1,
          17,
          10.1999998092651,
          11,
          18.7000007629395,
          12.1999998092651,
          10.5,
          11.5,
          12,
          14.1999998092651,
          18,
          17,
          11,
          12,
          15.3999996185303,
          17,
          19,
          10.1000003814697,
          24,
          15,
          14.3999996185303,
          22.2000007629395,
          1
         ],
         "y": [
          15,
          18,
          16,
          15,
          16,
          18,
          18,
          18,
          18,
          18,
          18,
          18,
          18,
          16,
          18,
          15,
          18,
          18,
          18,
          14,
          15,
          17,
          18,
          13,
          15,
          10,
          10,
          15,
          18,
          15,
          15,
          15,
          10,
          18,
          18,
          18,
          18,
          19,
          18,
          18,
          18,
          11,
          10,
          15,
          11,
          10,
          10,
          10,
          11,
          18,
          18,
          18,
          12,
          10,
          10,
          10,
          15,
          10,
          11,
          10,
          10,
          12,
          15,
          15,
          11,
          15,
          11,
          10,
          11,
          10,
          10,
          10,
          11,
          10,
          10,
          12,
          11,
          11,
          10,
          11,
          17,
          10,
          10,
          10,
          10,
          10,
          11,
          15,
          15,
          18,
          10,
          11,
          10,
          10,
          15,
          10,
          15,
          15,
          18,
          13
         ],
         "z": [
          0.018010236294128366,
          0.0000027513006249947106,
          0.0006796190184597088,
          2.759475618138947e-7,
          0.020837823889474485,
          0.0000022216509100951115,
          0.0000022216509100951115,
          2.893908517409597e-7,
          6.139071873628187e-7,
          6.139071873628187e-7,
          0.000001793640873784016,
          0.00003150166015157644,
          1.1446866552948642e-8,
          0.05854787648290872,
          0.00003150166015157644,
          0.026435978186264354,
          0.000001300755334216909,
          0.00002553996809208108,
          0.000003790232287337679,
          0.1678212076771945,
          0.005087731335500259,
          0.00018261123585223735,
          0.000010979479456616971,
          0.40070762403063137,
          0.20413351512704297,
          0.99902854774229,
          0.999772681829458,
          0.07434790217471318,
          0.000003790232287337679,
          0.17560157224001072,
          0.48638502874173845,
          0.014173463889862117,
          0.9994442863370326,
          0.000018625572519578816,
          0.000004216902360866868,
          0.000003790232287337679,
          0.000010979479456616971,
          7.261231748775953e-8,
          0.000010979479456616971,
          0.000016760944168538893,
          0.000007986508289077197,
          0.9211356941237968,
          0.5206936536261574,
          0.0010230313978655003,
          0.9211356941237968,
          0.997033852005814,
          0.9996821475812905,
          0.9996821475812905,
          0.9995063114695765,
          0.000003061515387892986,
          8.861933921747321e-8,
          0.000053077648870524355,
          0.9218998980935108,
          0.9999550358047773,
          0.99902854774229,
          0.997033852005814,
          0.026435978186264354,
          0.9948217333871718,
          0.9977708595081597,
          0.99902854774229,
          0.9996821475812905,
          0.9732118816448401,
          0.053707616277619684,
          0.026435978186264354,
          0.9996842411140412,
          0.061310871384577414,
          0.9994479574110686,
          0.99902854774229,
          0.9994479574110686,
          0.9998960331558903,
          0.6679094621377547,
          0.99902854774229,
          0.9996842411140412,
          0.9983021710572014,
          0.999715752809642,
          0.9999964105383553,
          0.9996660978223678,
          0.9999993242305091,
          0.99902854774229,
          0.9998845036350773,
          0.18682973160789262,
          0.9974908418520759,
          0.9999335112343942,
          0.9999742856410372,
          0.9999550358047773,
          0.9999405419036136,
          0.9989209814703889,
          0.10095366011429098,
          0.17560157224001072,
          0.03584476852519133,
          0.9999405419036136,
          0.997891810336243,
          0.99902854774229,
          0.997033852005814,
          0.9197165030906179,
          0.9531361233016356,
          0.41461827786741295,
          0.5008256117091467,
          0.0000010497629585933546,
          0.9999809341904876
         ]
        }
       ],
       "layout": {
        "height": 800,
        "margin": {
         "b": 0,
         "l": 0,
         "r": 0,
         "t": 0
        },
        "scene": {
         "xaxis": {
          "title": {
           "text": "dist"
          }
         },
         "yaxis": {
          "title": {
           "text": "sem"
          }
         },
         "zaxis": {
          "title": {
           "text": "não chegou atrasado"
          }
         }
        },
        "template": {
         "data": {
          "bar": [
           {
            "error_x": {
             "color": "#2a3f5f"
            },
            "error_y": {
             "color": "#2a3f5f"
            },
            "marker": {
             "line": {
              "color": "#E5ECF6",
              "width": 0.5
             },
             "pattern": {
              "fillmode": "overlay",
              "size": 10,
              "solidity": 0.2
             }
            },
            "type": "bar"
           }
          ],
          "barpolar": [
           {
            "marker": {
             "line": {
              "color": "#E5ECF6",
              "width": 0.5
             },
             "pattern": {
              "fillmode": "overlay",
              "size": 10,
              "solidity": 0.2
             }
            },
            "type": "barpolar"
           }
          ],
          "carpet": [
           {
            "aaxis": {
             "endlinecolor": "#2a3f5f",
             "gridcolor": "white",
             "linecolor": "white",
             "minorgridcolor": "white",
             "startlinecolor": "#2a3f5f"
            },
            "baxis": {
             "endlinecolor": "#2a3f5f",
             "gridcolor": "white",
             "linecolor": "white",
             "minorgridcolor": "white",
             "startlinecolor": "#2a3f5f"
            },
            "type": "carpet"
           }
          ],
          "choropleth": [
           {
            "colorbar": {
             "outlinewidth": 0,
             "ticks": ""
            },
            "type": "choropleth"
           }
          ],
          "contour": [
           {
            "colorbar": {
             "outlinewidth": 0,
             "ticks": ""
            },
            "colorscale": [
             [
              0,
              "#0d0887"
             ],
             [
              0.1111111111111111,
              "#46039f"
             ],
             [
              0.2222222222222222,
              "#7201a8"
             ],
             [
              0.3333333333333333,
              "#9c179e"
             ],
             [
              0.4444444444444444,
              "#bd3786"
             ],
             [
              0.5555555555555556,
              "#d8576b"
             ],
             [
              0.6666666666666666,
              "#ed7953"
             ],
             [
              0.7777777777777778,
              "#fb9f3a"
             ],
             [
              0.8888888888888888,
              "#fdca26"
             ],
             [
              1,
              "#f0f921"
             ]
            ],
            "type": "contour"
           }
          ],
          "contourcarpet": [
           {
            "colorbar": {
             "outlinewidth": 0,
             "ticks": ""
            },
            "type": "contourcarpet"
           }
          ],
          "heatmap": [
           {
            "colorbar": {
             "outlinewidth": 0,
             "ticks": ""
            },
            "colorscale": [
             [
              0,
              "#0d0887"
             ],
             [
              0.1111111111111111,
              "#46039f"
             ],
             [
              0.2222222222222222,
              "#7201a8"
             ],
             [
              0.3333333333333333,
              "#9c179e"
             ],
             [
              0.4444444444444444,
              "#bd3786"
             ],
             [
              0.5555555555555556,
              "#d8576b"
             ],
             [
              0.6666666666666666,
              "#ed7953"
             ],
             [
              0.7777777777777778,
              "#fb9f3a"
             ],
             [
              0.8888888888888888,
              "#fdca26"
             ],
             [
              1,
              "#f0f921"
             ]
            ],
            "type": "heatmap"
           }
          ],
          "heatmapgl": [
           {
            "colorbar": {
             "outlinewidth": 0,
             "ticks": ""
            },
            "colorscale": [
             [
              0,
              "#0d0887"
             ],
             [
              0.1111111111111111,
              "#46039f"
             ],
             [
              0.2222222222222222,
              "#7201a8"
             ],
             [
              0.3333333333333333,
              "#9c179e"
             ],
             [
              0.4444444444444444,
              "#bd3786"
             ],
             [
              0.5555555555555556,
              "#d8576b"
             ],
             [
              0.6666666666666666,
              "#ed7953"
             ],
             [
              0.7777777777777778,
              "#fb9f3a"
             ],
             [
              0.8888888888888888,
              "#fdca26"
             ],
             [
              1,
              "#f0f921"
             ]
            ],
            "type": "heatmapgl"
           }
          ],
          "histogram": [
           {
            "marker": {
             "pattern": {
              "fillmode": "overlay",
              "size": 10,
              "solidity": 0.2
             }
            },
            "type": "histogram"
           }
          ],
          "histogram2d": [
           {
            "colorbar": {
             "outlinewidth": 0,
             "ticks": ""
            },
            "colorscale": [
             [
              0,
              "#0d0887"
             ],
             [
              0.1111111111111111,
              "#46039f"
             ],
             [
              0.2222222222222222,
              "#7201a8"
             ],
             [
              0.3333333333333333,
              "#9c179e"
             ],
             [
              0.4444444444444444,
              "#bd3786"
             ],
             [
              0.5555555555555556,
              "#d8576b"
             ],
             [
              0.6666666666666666,
              "#ed7953"
             ],
             [
              0.7777777777777778,
              "#fb9f3a"
             ],
             [
              0.8888888888888888,
              "#fdca26"
             ],
             [
              1,
              "#f0f921"
             ]
            ],
            "type": "histogram2d"
           }
          ],
          "histogram2dcontour": [
           {
            "colorbar": {
             "outlinewidth": 0,
             "ticks": ""
            },
            "colorscale": [
             [
              0,
              "#0d0887"
             ],
             [
              0.1111111111111111,
              "#46039f"
             ],
             [
              0.2222222222222222,
              "#7201a8"
             ],
             [
              0.3333333333333333,
              "#9c179e"
             ],
             [
              0.4444444444444444,
              "#bd3786"
             ],
             [
              0.5555555555555556,
              "#d8576b"
             ],
             [
              0.6666666666666666,
              "#ed7953"
             ],
             [
              0.7777777777777778,
              "#fb9f3a"
             ],
             [
              0.8888888888888888,
              "#fdca26"
             ],
             [
              1,
              "#f0f921"
             ]
            ],
            "type": "histogram2dcontour"
           }
          ],
          "mesh3d": [
           {
            "colorbar": {
             "outlinewidth": 0,
             "ticks": ""
            },
            "type": "mesh3d"
           }
          ],
          "parcoords": [
           {
            "line": {
             "colorbar": {
              "outlinewidth": 0,
              "ticks": ""
             }
            },
            "type": "parcoords"
           }
          ],
          "pie": [
           {
            "automargin": true,
            "type": "pie"
           }
          ],
          "scatter": [
           {
            "fillpattern": {
             "fillmode": "overlay",
             "size": 10,
             "solidity": 0.2
            },
            "type": "scatter"
           }
          ],
          "scatter3d": [
           {
            "line": {
             "colorbar": {
              "outlinewidth": 0,
              "ticks": ""
             }
            },
            "marker": {
             "colorbar": {
              "outlinewidth": 0,
              "ticks": ""
             }
            },
            "type": "scatter3d"
           }
          ],
          "scattercarpet": [
           {
            "marker": {
             "colorbar": {
              "outlinewidth": 0,
              "ticks": ""
             }
            },
            "type": "scattercarpet"
           }
          ],
          "scattergeo": [
           {
            "marker": {
             "colorbar": {
              "outlinewidth": 0,
              "ticks": ""
             }
            },
            "type": "scattergeo"
           }
          ],
          "scattergl": [
           {
            "marker": {
             "colorbar": {
              "outlinewidth": 0,
              "ticks": ""
             }
            },
            "type": "scattergl"
           }
          ],
          "scattermapbox": [
           {
            "marker": {
             "colorbar": {
              "outlinewidth": 0,
              "ticks": ""
             }
            },
            "type": "scattermapbox"
           }
          ],
          "scatterpolar": [
           {
            "marker": {
             "colorbar": {
              "outlinewidth": 0,
              "ticks": ""
             }
            },
            "type": "scatterpolar"
           }
          ],
          "scatterpolargl": [
           {
            "marker": {
             "colorbar": {
              "outlinewidth": 0,
              "ticks": ""
             }
            },
            "type": "scatterpolargl"
           }
          ],
          "scatterternary": [
           {
            "marker": {
             "colorbar": {
              "outlinewidth": 0,
              "ticks": ""
             }
            },
            "type": "scatterternary"
           }
          ],
          "surface": [
           {
            "colorbar": {
             "outlinewidth": 0,
             "ticks": ""
            },
            "colorscale": [
             [
              0,
              "#0d0887"
             ],
             [
              0.1111111111111111,
              "#46039f"
             ],
             [
              0.2222222222222222,
              "#7201a8"
             ],
             [
              0.3333333333333333,
              "#9c179e"
             ],
             [
              0.4444444444444444,
              "#bd3786"
             ],
             [
              0.5555555555555556,
              "#d8576b"
             ],
             [
              0.6666666666666666,
              "#ed7953"
             ],
             [
              0.7777777777777778,
              "#fb9f3a"
             ],
             [
              0.8888888888888888,
              "#fdca26"
             ],
             [
              1,
              "#f0f921"
             ]
            ],
            "type": "surface"
           }
          ],
          "table": [
           {
            "cells": {
             "fill": {
              "color": "#EBF0F8"
             },
             "line": {
              "color": "white"
             }
            },
            "header": {
             "fill": {
              "color": "#C8D4E3"
             },
             "line": {
              "color": "white"
             }
            },
            "type": "table"
           }
          ]
         },
         "layout": {
          "annotationdefaults": {
           "arrowcolor": "#2a3f5f",
           "arrowhead": 0,
           "arrowwidth": 1
          },
          "autotypenumbers": "strict",
          "coloraxis": {
           "colorbar": {
            "outlinewidth": 0,
            "ticks": ""
           }
          },
          "colorscale": {
           "diverging": [
            [
             0,
             "#8e0152"
            ],
            [
             0.1,
             "#c51b7d"
            ],
            [
             0.2,
             "#de77ae"
            ],
            [
             0.3,
             "#f1b6da"
            ],
            [
             0.4,
             "#fde0ef"
            ],
            [
             0.5,
             "#f7f7f7"
            ],
            [
             0.6,
             "#e6f5d0"
            ],
            [
             0.7,
             "#b8e186"
            ],
            [
             0.8,
             "#7fbc41"
            ],
            [
             0.9,
             "#4d9221"
            ],
            [
             1,
             "#276419"
            ]
           ],
           "sequential": [
            [
             0,
             "#0d0887"
            ],
            [
             0.1111111111111111,
             "#46039f"
            ],
            [
             0.2222222222222222,
             "#7201a8"
            ],
            [
             0.3333333333333333,
             "#9c179e"
            ],
            [
             0.4444444444444444,
             "#bd3786"
            ],
            [
             0.5555555555555556,
             "#d8576b"
            ],
            [
             0.6666666666666666,
             "#ed7953"
            ],
            [
             0.7777777777777778,
             "#fb9f3a"
            ],
            [
             0.8888888888888888,
             "#fdca26"
            ],
            [
             1,
             "#f0f921"
            ]
           ],
           "sequentialminus": [
            [
             0,
             "#0d0887"
            ],
            [
             0.1111111111111111,
             "#46039f"
            ],
            [
             0.2222222222222222,
             "#7201a8"
            ],
            [
             0.3333333333333333,
             "#9c179e"
            ],
            [
             0.4444444444444444,
             "#bd3786"
            ],
            [
             0.5555555555555556,
             "#d8576b"
            ],
            [
             0.6666666666666666,
             "#ed7953"
            ],
            [
             0.7777777777777778,
             "#fb9f3a"
            ],
            [
             0.8888888888888888,
             "#fdca26"
            ],
            [
             1,
             "#f0f921"
            ]
           ]
          },
          "colorway": [
           "#636efa",
           "#EF553B",
           "#00cc96",
           "#ab63fa",
           "#FFA15A",
           "#19d3f3",
           "#FF6692",
           "#B6E880",
           "#FF97FF",
           "#FECB52"
          ],
          "font": {
           "color": "#2a3f5f"
          },
          "geo": {
           "bgcolor": "white",
           "lakecolor": "white",
           "landcolor": "#E5ECF6",
           "showlakes": true,
           "showland": true,
           "subunitcolor": "white"
          },
          "hoverlabel": {
           "align": "left"
          },
          "hovermode": "closest",
          "mapbox": {
           "style": "light"
          },
          "paper_bgcolor": "white",
          "plot_bgcolor": "#E5ECF6",
          "polar": {
           "angularaxis": {
            "gridcolor": "white",
            "linecolor": "white",
            "ticks": ""
           },
           "bgcolor": "#E5ECF6",
           "radialaxis": {
            "gridcolor": "white",
            "linecolor": "white",
            "ticks": ""
           }
          },
          "scene": {
           "xaxis": {
            "backgroundcolor": "#E5ECF6",
            "gridcolor": "white",
            "gridwidth": 2,
            "linecolor": "white",
            "showbackground": true,
            "ticks": "",
            "zerolinecolor": "white"
           },
           "yaxis": {
            "backgroundcolor": "#E5ECF6",
            "gridcolor": "white",
            "gridwidth": 2,
            "linecolor": "white",
            "showbackground": true,
            "ticks": "",
            "zerolinecolor": "white"
           },
           "zaxis": {
            "backgroundcolor": "#E5ECF6",
            "gridcolor": "white",
            "gridwidth": 2,
            "linecolor": "white",
            "showbackground": true,
            "ticks": "",
            "zerolinecolor": "white"
           }
          },
          "shapedefaults": {
           "line": {
            "color": "#2a3f5f"
           }
          },
          "ternary": {
           "aaxis": {
            "gridcolor": "white",
            "linecolor": "white",
            "ticks": ""
           },
           "baxis": {
            "gridcolor": "white",
            "linecolor": "white",
            "ticks": ""
           },
           "bgcolor": "#E5ECF6",
           "caxis": {
            "gridcolor": "white",
            "linecolor": "white",
            "ticks": ""
           }
          },
          "title": {
           "x": 0.05
          },
          "xaxis": {
           "automargin": true,
           "gridcolor": "white",
           "linecolor": "white",
           "ticks": "",
           "title": {
            "standoff": 15
           },
           "zerolinecolor": "white",
           "zerolinewidth": 2
          },
          "yaxis": {
           "automargin": true,
           "gridcolor": "white",
           "linecolor": "white",
           "ticks": "",
           "title": {
            "standoff": 15
           },
           "zerolinecolor": "white",
           "zerolinewidth": 2
          }
         }
        },
        "width": 800
       }
      }
     },
     "metadata": {},
     "output_type": "display_data"
    }
   ],
   "source": [
    "# Plotagem tridimensional para cada probabilidade de ocorrência de\n",
    "# cada categoria da variável dependente\n",
    "\n",
    "# Probabilidades de não se chegar atrasado (função 'go' do pacote 'plotly')\n",
    "\n",
    "trace = go.Mesh3d(\n",
    "    x=df_atrasado_multinomial['dist'], \n",
    "    y=df_atrasado_multinomial['sem'],\n",
    "    z=df_atrasado_multinomial[0],\n",
    "    opacity=1, intensity=df_atrasado_multinomial[0],\n",
    "    colorscale=\"Viridis\")\n",
    "\n",
    "layout = go.Layout(\n",
    "    margin={'l': 0, 'r': 0, 'b': 0, 't': 0},\n",
    "    width=800,\n",
    "    height=800\n",
    ")\n",
    "\n",
    "data = [trace]\n",
    "\n",
    "plot_figure = go.Figure(data=data, layout=layout)\n",
    "\n",
    "plot_figure.update_layout(scene = dict(\n",
    "                        xaxis_title='dist',\n",
    "                        yaxis_title='sem',\n",
    "                        zaxis_title='não chegou atrasado'))\n",
    "\n",
    "plot_figure.show()"
   ]
  },
  {
   "cell_type": "code",
   "execution_count": 17,
   "metadata": {},
   "outputs": [
    {
     "data": {
      "application/vnd.plotly.v1+json": {
       "config": {
        "plotlyServerURL": "https://plot.ly"
       },
       "data": [
        {
         "colorscale": [
          [
           0,
           "#440154"
          ],
          [
           0.1111111111111111,
           "#482878"
          ],
          [
           0.2222222222222222,
           "#3e4989"
          ],
          [
           0.3333333333333333,
           "#31688e"
          ],
          [
           0.4444444444444444,
           "#26828e"
          ],
          [
           0.5555555555555556,
           "#1f9e89"
          ],
          [
           0.6666666666666666,
           "#35b779"
          ],
          [
           0.7777777777777778,
           "#6ece58"
          ],
          [
           0.8888888888888888,
           "#b5de2b"
          ],
          [
           1,
           "#fde725"
          ]
         ],
         "intensity": [
          0.5233879412631423,
          0.018736757059865747,
          0.17347151384187362,
          0.0037479224527238414,
          0.6015882939278484,
          0.016918881588792782,
          0.016918881588792782,
          0.006372408120317069,
          0.009141855290809886,
          0.009141855290809886,
          0.015274632748316176,
          0.05933192312359776,
          0.0013477037056132467,
          0.7309937309172616,
          0.05933192312359776,
          0.5809670700184574,
          0.013099044492441408,
          0.053791640194705136,
          0.02182797708306861,
          0.6943384947064086,
          0.3418794372867186,
          0.11322624067903865,
          0.03616038729377915,
          0.5457787423131903,
          0.709533182840091,
          0.0009711501028505397,
          0.00022729985179883145,
          0.7066109147806928,
          0.02182797708306861,
          0.7217644935662514,
          0.4944318778954954,
          0.487067351918896,
          0.0005556108422522988,
          0.046388762195752505,
          0.022965266055722095,
          0.02182797708306861,
          0.03616038729377915,
          0.0038840608922969585,
          0.03616038729377915,
          0.04414396706322535,
          0.03110405321529218,
          0.0777580750804209,
          0.4136631354533137,
          0.17775496320355366,
          0.0777580750804209,
          0.002963541715234413,
          0.0003178174359298839,
          0.0003178174359298839,
          0.0004936295544733024,
          0.019716215754089564,
          0.0036083890623132965,
          0.07559942473679969,
          0.07731225993013054,
          0.000044963392031306435,
          0.0009711501028505397,
          0.002963541715234413,
          0.5809670700184574,
          0.005170621464583726,
          0.002228058035974341,
          0.0009711501028505397,
          0.0003178174359298839,
          0.02669188991544975,
          0.6749874060310423,
          0.5809670700184574,
          0.00031573399231685077,
          0.689061250549137,
          0.0005519694219004932,
          0.0009711501028505397,
          0.0005519694219004932,
          0.00010396279566783113,
          0.3034490566485529,
          0.0009711501028505397,
          0.00031573399231685077,
          0.0016969412895346395,
          0.0002842189933472308,
          0.000003589458469139553,
          0.000333874449941493,
          6.757693153497229e-7,
          0.0009711501028505397,
          0.00011549279069684732,
          0.7578766514135125,
          0.0025072713674601957,
          0.00006648705700563882,
          0.000025714085752082692,
          0.000044963392031306435,
          0.00005945671924799341,
          0.0010787517934612114,
          0.7255803655984995,
          0.7217644935662514,
          0.7723427037801056,
          0.00005945671924799341,
          0.0021072177455974473,
          0.0009711501028505397,
          0.002963541715234413,
          0.07996803849020552,
          0.04631671688638937,
          0.5573434199334178,
          0.48144099573351457,
          0.011821557505538031,
          0.00001906575209607903
         ],
         "opacity": 1,
         "type": "mesh3d",
         "x": [
          20.5,
          21.2999992370605,
          21.3999996185303,
          31.5,
          17.5,
          21.5,
          21.5,
          23.3999996185303,
          22.7000007629395,
          22.7000007629395,
          21.7000007629395,
          19,
          26.3999996185303,
          16,
          19,
          20,
          22,
          19.2000007629395,
          21,
          20,
          22,
          20,
          20,
          21,
          16.7000007629395,
          17,
          14.3999996185303,
          18.5,
          21,
          17,
          14.5,
          20.7999992370605,
          16,
          19.5,
          20.8999996185303,
          21,
          20,
          22,
          20,
          19.6000003814697,
          20.2999992370605,
          22,
          29,
          23.7000007629395,
          22,
          19,
          15,
          15,
          12.8000001907349,
          21.2000007629395,
          24.5,
          18.5,
          19,
          11.5,
          17,
          19,
          20,
          20,
          15.5,
          17,
          15,
          17,
          19,
          20,
          12,
          18.7999992370605,
          13,
          17,
          13,
          13,
          28,
          17,
          12,
          18,
          14.8000001907349,
          1,
          12.1000003814697,
          1,
          17,
          10.1999998092651,
          11,
          18.7000007629395,
          12.1999998092651,
          10.5,
          11.5,
          12,
          14.1999998092651,
          18,
          17,
          11,
          12,
          15.3999996185303,
          17,
          19,
          10.1000003814697,
          24,
          15,
          14.3999996185303,
          22.2000007629395,
          1
         ],
         "y": [
          15,
          18,
          16,
          15,
          16,
          18,
          18,
          18,
          18,
          18,
          18,
          18,
          18,
          16,
          18,
          15,
          18,
          18,
          18,
          14,
          15,
          17,
          18,
          13,
          15,
          10,
          10,
          15,
          18,
          15,
          15,
          15,
          10,
          18,
          18,
          18,
          18,
          19,
          18,
          18,
          18,
          11,
          10,
          15,
          11,
          10,
          10,
          10,
          11,
          18,
          18,
          18,
          12,
          10,
          10,
          10,
          15,
          10,
          11,
          10,
          10,
          12,
          15,
          15,
          11,
          15,
          11,
          10,
          11,
          10,
          10,
          10,
          11,
          10,
          10,
          12,
          11,
          11,
          10,
          11,
          17,
          10,
          10,
          10,
          10,
          10,
          11,
          15,
          15,
          18,
          10,
          11,
          10,
          10,
          15,
          10,
          15,
          15,
          18,
          13
         ],
         "z": [
          0.5233879412631423,
          0.018736757059865747,
          0.17347151384187362,
          0.0037479224527238414,
          0.6015882939278484,
          0.016918881588792782,
          0.016918881588792782,
          0.006372408120317069,
          0.009141855290809886,
          0.009141855290809886,
          0.015274632748316176,
          0.05933192312359776,
          0.0013477037056132467,
          0.7309937309172616,
          0.05933192312359776,
          0.5809670700184574,
          0.013099044492441408,
          0.053791640194705136,
          0.02182797708306861,
          0.6943384947064086,
          0.3418794372867186,
          0.11322624067903865,
          0.03616038729377915,
          0.5457787423131903,
          0.709533182840091,
          0.0009711501028505397,
          0.00022729985179883145,
          0.7066109147806928,
          0.02182797708306861,
          0.7217644935662514,
          0.4944318778954954,
          0.487067351918896,
          0.0005556108422522988,
          0.046388762195752505,
          0.022965266055722095,
          0.02182797708306861,
          0.03616038729377915,
          0.0038840608922969585,
          0.03616038729377915,
          0.04414396706322535,
          0.03110405321529218,
          0.0777580750804209,
          0.4136631354533137,
          0.17775496320355366,
          0.0777580750804209,
          0.002963541715234413,
          0.0003178174359298839,
          0.0003178174359298839,
          0.0004936295544733024,
          0.019716215754089564,
          0.0036083890623132965,
          0.07559942473679969,
          0.07731225993013054,
          0.000044963392031306435,
          0.0009711501028505397,
          0.002963541715234413,
          0.5809670700184574,
          0.005170621464583726,
          0.002228058035974341,
          0.0009711501028505397,
          0.0003178174359298839,
          0.02669188991544975,
          0.6749874060310423,
          0.5809670700184574,
          0.00031573399231685077,
          0.689061250549137,
          0.0005519694219004932,
          0.0009711501028505397,
          0.0005519694219004932,
          0.00010396279566783113,
          0.3034490566485529,
          0.0009711501028505397,
          0.00031573399231685077,
          0.0016969412895346395,
          0.0002842189933472308,
          0.000003589458469139553,
          0.000333874449941493,
          6.757693153497229e-7,
          0.0009711501028505397,
          0.00011549279069684732,
          0.7578766514135125,
          0.0025072713674601957,
          0.00006648705700563882,
          0.000025714085752082692,
          0.000044963392031306435,
          0.00005945671924799341,
          0.0010787517934612114,
          0.7255803655984995,
          0.7217644935662514,
          0.7723427037801056,
          0.00005945671924799341,
          0.0021072177455974473,
          0.0009711501028505397,
          0.002963541715234413,
          0.07996803849020552,
          0.04631671688638937,
          0.5573434199334178,
          0.48144099573351457,
          0.011821557505538031,
          0.00001906575209607903
         ]
        }
       ],
       "layout": {
        "height": 800,
        "margin": {
         "b": 0,
         "l": 0,
         "r": 0,
         "t": 0
        },
        "scene": {
         "xaxis": {
          "title": {
           "text": "dist"
          }
         },
         "yaxis": {
          "title": {
           "text": "sem"
          }
         },
         "zaxis": {
          "title": {
           "text": "chegou atrasado à primeira aula"
          }
         }
        },
        "template": {
         "data": {
          "bar": [
           {
            "error_x": {
             "color": "#2a3f5f"
            },
            "error_y": {
             "color": "#2a3f5f"
            },
            "marker": {
             "line": {
              "color": "#E5ECF6",
              "width": 0.5
             },
             "pattern": {
              "fillmode": "overlay",
              "size": 10,
              "solidity": 0.2
             }
            },
            "type": "bar"
           }
          ],
          "barpolar": [
           {
            "marker": {
             "line": {
              "color": "#E5ECF6",
              "width": 0.5
             },
             "pattern": {
              "fillmode": "overlay",
              "size": 10,
              "solidity": 0.2
             }
            },
            "type": "barpolar"
           }
          ],
          "carpet": [
           {
            "aaxis": {
             "endlinecolor": "#2a3f5f",
             "gridcolor": "white",
             "linecolor": "white",
             "minorgridcolor": "white",
             "startlinecolor": "#2a3f5f"
            },
            "baxis": {
             "endlinecolor": "#2a3f5f",
             "gridcolor": "white",
             "linecolor": "white",
             "minorgridcolor": "white",
             "startlinecolor": "#2a3f5f"
            },
            "type": "carpet"
           }
          ],
          "choropleth": [
           {
            "colorbar": {
             "outlinewidth": 0,
             "ticks": ""
            },
            "type": "choropleth"
           }
          ],
          "contour": [
           {
            "colorbar": {
             "outlinewidth": 0,
             "ticks": ""
            },
            "colorscale": [
             [
              0,
              "#0d0887"
             ],
             [
              0.1111111111111111,
              "#46039f"
             ],
             [
              0.2222222222222222,
              "#7201a8"
             ],
             [
              0.3333333333333333,
              "#9c179e"
             ],
             [
              0.4444444444444444,
              "#bd3786"
             ],
             [
              0.5555555555555556,
              "#d8576b"
             ],
             [
              0.6666666666666666,
              "#ed7953"
             ],
             [
              0.7777777777777778,
              "#fb9f3a"
             ],
             [
              0.8888888888888888,
              "#fdca26"
             ],
             [
              1,
              "#f0f921"
             ]
            ],
            "type": "contour"
           }
          ],
          "contourcarpet": [
           {
            "colorbar": {
             "outlinewidth": 0,
             "ticks": ""
            },
            "type": "contourcarpet"
           }
          ],
          "heatmap": [
           {
            "colorbar": {
             "outlinewidth": 0,
             "ticks": ""
            },
            "colorscale": [
             [
              0,
              "#0d0887"
             ],
             [
              0.1111111111111111,
              "#46039f"
             ],
             [
              0.2222222222222222,
              "#7201a8"
             ],
             [
              0.3333333333333333,
              "#9c179e"
             ],
             [
              0.4444444444444444,
              "#bd3786"
             ],
             [
              0.5555555555555556,
              "#d8576b"
             ],
             [
              0.6666666666666666,
              "#ed7953"
             ],
             [
              0.7777777777777778,
              "#fb9f3a"
             ],
             [
              0.8888888888888888,
              "#fdca26"
             ],
             [
              1,
              "#f0f921"
             ]
            ],
            "type": "heatmap"
           }
          ],
          "heatmapgl": [
           {
            "colorbar": {
             "outlinewidth": 0,
             "ticks": ""
            },
            "colorscale": [
             [
              0,
              "#0d0887"
             ],
             [
              0.1111111111111111,
              "#46039f"
             ],
             [
              0.2222222222222222,
              "#7201a8"
             ],
             [
              0.3333333333333333,
              "#9c179e"
             ],
             [
              0.4444444444444444,
              "#bd3786"
             ],
             [
              0.5555555555555556,
              "#d8576b"
             ],
             [
              0.6666666666666666,
              "#ed7953"
             ],
             [
              0.7777777777777778,
              "#fb9f3a"
             ],
             [
              0.8888888888888888,
              "#fdca26"
             ],
             [
              1,
              "#f0f921"
             ]
            ],
            "type": "heatmapgl"
           }
          ],
          "histogram": [
           {
            "marker": {
             "pattern": {
              "fillmode": "overlay",
              "size": 10,
              "solidity": 0.2
             }
            },
            "type": "histogram"
           }
          ],
          "histogram2d": [
           {
            "colorbar": {
             "outlinewidth": 0,
             "ticks": ""
            },
            "colorscale": [
             [
              0,
              "#0d0887"
             ],
             [
              0.1111111111111111,
              "#46039f"
             ],
             [
              0.2222222222222222,
              "#7201a8"
             ],
             [
              0.3333333333333333,
              "#9c179e"
             ],
             [
              0.4444444444444444,
              "#bd3786"
             ],
             [
              0.5555555555555556,
              "#d8576b"
             ],
             [
              0.6666666666666666,
              "#ed7953"
             ],
             [
              0.7777777777777778,
              "#fb9f3a"
             ],
             [
              0.8888888888888888,
              "#fdca26"
             ],
             [
              1,
              "#f0f921"
             ]
            ],
            "type": "histogram2d"
           }
          ],
          "histogram2dcontour": [
           {
            "colorbar": {
             "outlinewidth": 0,
             "ticks": ""
            },
            "colorscale": [
             [
              0,
              "#0d0887"
             ],
             [
              0.1111111111111111,
              "#46039f"
             ],
             [
              0.2222222222222222,
              "#7201a8"
             ],
             [
              0.3333333333333333,
              "#9c179e"
             ],
             [
              0.4444444444444444,
              "#bd3786"
             ],
             [
              0.5555555555555556,
              "#d8576b"
             ],
             [
              0.6666666666666666,
              "#ed7953"
             ],
             [
              0.7777777777777778,
              "#fb9f3a"
             ],
             [
              0.8888888888888888,
              "#fdca26"
             ],
             [
              1,
              "#f0f921"
             ]
            ],
            "type": "histogram2dcontour"
           }
          ],
          "mesh3d": [
           {
            "colorbar": {
             "outlinewidth": 0,
             "ticks": ""
            },
            "type": "mesh3d"
           }
          ],
          "parcoords": [
           {
            "line": {
             "colorbar": {
              "outlinewidth": 0,
              "ticks": ""
             }
            },
            "type": "parcoords"
           }
          ],
          "pie": [
           {
            "automargin": true,
            "type": "pie"
           }
          ],
          "scatter": [
           {
            "fillpattern": {
             "fillmode": "overlay",
             "size": 10,
             "solidity": 0.2
            },
            "type": "scatter"
           }
          ],
          "scatter3d": [
           {
            "line": {
             "colorbar": {
              "outlinewidth": 0,
              "ticks": ""
             }
            },
            "marker": {
             "colorbar": {
              "outlinewidth": 0,
              "ticks": ""
             }
            },
            "type": "scatter3d"
           }
          ],
          "scattercarpet": [
           {
            "marker": {
             "colorbar": {
              "outlinewidth": 0,
              "ticks": ""
             }
            },
            "type": "scattercarpet"
           }
          ],
          "scattergeo": [
           {
            "marker": {
             "colorbar": {
              "outlinewidth": 0,
              "ticks": ""
             }
            },
            "type": "scattergeo"
           }
          ],
          "scattergl": [
           {
            "marker": {
             "colorbar": {
              "outlinewidth": 0,
              "ticks": ""
             }
            },
            "type": "scattergl"
           }
          ],
          "scattermapbox": [
           {
            "marker": {
             "colorbar": {
              "outlinewidth": 0,
              "ticks": ""
             }
            },
            "type": "scattermapbox"
           }
          ],
          "scatterpolar": [
           {
            "marker": {
             "colorbar": {
              "outlinewidth": 0,
              "ticks": ""
             }
            },
            "type": "scatterpolar"
           }
          ],
          "scatterpolargl": [
           {
            "marker": {
             "colorbar": {
              "outlinewidth": 0,
              "ticks": ""
             }
            },
            "type": "scatterpolargl"
           }
          ],
          "scatterternary": [
           {
            "marker": {
             "colorbar": {
              "outlinewidth": 0,
              "ticks": ""
             }
            },
            "type": "scatterternary"
           }
          ],
          "surface": [
           {
            "colorbar": {
             "outlinewidth": 0,
             "ticks": ""
            },
            "colorscale": [
             [
              0,
              "#0d0887"
             ],
             [
              0.1111111111111111,
              "#46039f"
             ],
             [
              0.2222222222222222,
              "#7201a8"
             ],
             [
              0.3333333333333333,
              "#9c179e"
             ],
             [
              0.4444444444444444,
              "#bd3786"
             ],
             [
              0.5555555555555556,
              "#d8576b"
             ],
             [
              0.6666666666666666,
              "#ed7953"
             ],
             [
              0.7777777777777778,
              "#fb9f3a"
             ],
             [
              0.8888888888888888,
              "#fdca26"
             ],
             [
              1,
              "#f0f921"
             ]
            ],
            "type": "surface"
           }
          ],
          "table": [
           {
            "cells": {
             "fill": {
              "color": "#EBF0F8"
             },
             "line": {
              "color": "white"
             }
            },
            "header": {
             "fill": {
              "color": "#C8D4E3"
             },
             "line": {
              "color": "white"
             }
            },
            "type": "table"
           }
          ]
         },
         "layout": {
          "annotationdefaults": {
           "arrowcolor": "#2a3f5f",
           "arrowhead": 0,
           "arrowwidth": 1
          },
          "autotypenumbers": "strict",
          "coloraxis": {
           "colorbar": {
            "outlinewidth": 0,
            "ticks": ""
           }
          },
          "colorscale": {
           "diverging": [
            [
             0,
             "#8e0152"
            ],
            [
             0.1,
             "#c51b7d"
            ],
            [
             0.2,
             "#de77ae"
            ],
            [
             0.3,
             "#f1b6da"
            ],
            [
             0.4,
             "#fde0ef"
            ],
            [
             0.5,
             "#f7f7f7"
            ],
            [
             0.6,
             "#e6f5d0"
            ],
            [
             0.7,
             "#b8e186"
            ],
            [
             0.8,
             "#7fbc41"
            ],
            [
             0.9,
             "#4d9221"
            ],
            [
             1,
             "#276419"
            ]
           ],
           "sequential": [
            [
             0,
             "#0d0887"
            ],
            [
             0.1111111111111111,
             "#46039f"
            ],
            [
             0.2222222222222222,
             "#7201a8"
            ],
            [
             0.3333333333333333,
             "#9c179e"
            ],
            [
             0.4444444444444444,
             "#bd3786"
            ],
            [
             0.5555555555555556,
             "#d8576b"
            ],
            [
             0.6666666666666666,
             "#ed7953"
            ],
            [
             0.7777777777777778,
             "#fb9f3a"
            ],
            [
             0.8888888888888888,
             "#fdca26"
            ],
            [
             1,
             "#f0f921"
            ]
           ],
           "sequentialminus": [
            [
             0,
             "#0d0887"
            ],
            [
             0.1111111111111111,
             "#46039f"
            ],
            [
             0.2222222222222222,
             "#7201a8"
            ],
            [
             0.3333333333333333,
             "#9c179e"
            ],
            [
             0.4444444444444444,
             "#bd3786"
            ],
            [
             0.5555555555555556,
             "#d8576b"
            ],
            [
             0.6666666666666666,
             "#ed7953"
            ],
            [
             0.7777777777777778,
             "#fb9f3a"
            ],
            [
             0.8888888888888888,
             "#fdca26"
            ],
            [
             1,
             "#f0f921"
            ]
           ]
          },
          "colorway": [
           "#636efa",
           "#EF553B",
           "#00cc96",
           "#ab63fa",
           "#FFA15A",
           "#19d3f3",
           "#FF6692",
           "#B6E880",
           "#FF97FF",
           "#FECB52"
          ],
          "font": {
           "color": "#2a3f5f"
          },
          "geo": {
           "bgcolor": "white",
           "lakecolor": "white",
           "landcolor": "#E5ECF6",
           "showlakes": true,
           "showland": true,
           "subunitcolor": "white"
          },
          "hoverlabel": {
           "align": "left"
          },
          "hovermode": "closest",
          "mapbox": {
           "style": "light"
          },
          "paper_bgcolor": "white",
          "plot_bgcolor": "#E5ECF6",
          "polar": {
           "angularaxis": {
            "gridcolor": "white",
            "linecolor": "white",
            "ticks": ""
           },
           "bgcolor": "#E5ECF6",
           "radialaxis": {
            "gridcolor": "white",
            "linecolor": "white",
            "ticks": ""
           }
          },
          "scene": {
           "xaxis": {
            "backgroundcolor": "#E5ECF6",
            "gridcolor": "white",
            "gridwidth": 2,
            "linecolor": "white",
            "showbackground": true,
            "ticks": "",
            "zerolinecolor": "white"
           },
           "yaxis": {
            "backgroundcolor": "#E5ECF6",
            "gridcolor": "white",
            "gridwidth": 2,
            "linecolor": "white",
            "showbackground": true,
            "ticks": "",
            "zerolinecolor": "white"
           },
           "zaxis": {
            "backgroundcolor": "#E5ECF6",
            "gridcolor": "white",
            "gridwidth": 2,
            "linecolor": "white",
            "showbackground": true,
            "ticks": "",
            "zerolinecolor": "white"
           }
          },
          "shapedefaults": {
           "line": {
            "color": "#2a3f5f"
           }
          },
          "ternary": {
           "aaxis": {
            "gridcolor": "white",
            "linecolor": "white",
            "ticks": ""
           },
           "baxis": {
            "gridcolor": "white",
            "linecolor": "white",
            "ticks": ""
           },
           "bgcolor": "#E5ECF6",
           "caxis": {
            "gridcolor": "white",
            "linecolor": "white",
            "ticks": ""
           }
          },
          "title": {
           "x": 0.05
          },
          "xaxis": {
           "automargin": true,
           "gridcolor": "white",
           "linecolor": "white",
           "ticks": "",
           "title": {
            "standoff": 15
           },
           "zerolinecolor": "white",
           "zerolinewidth": 2
          },
          "yaxis": {
           "automargin": true,
           "gridcolor": "white",
           "linecolor": "white",
           "ticks": "",
           "title": {
            "standoff": 15
           },
           "zerolinecolor": "white",
           "zerolinewidth": 2
          }
         }
        },
        "width": 800
       }
      }
     },
     "metadata": {},
     "output_type": "display_data"
    }
   ],
   "source": [
    "# Plotagem tridimensional para cada probabilidade de ocorrência de\n",
    "# cada categoria da variável dependente\n",
    "\n",
    "# Probabilidades de se chegar atrasado à primeira aula (função 'go' do pacote\n",
    "# 'plotly')\n",
    "\n",
    "trace = go.Mesh3d(\n",
    "    x=df_atrasado_multinomial['dist'], \n",
    "    y=df_atrasado_multinomial['sem'],\n",
    "    z=df_atrasado_multinomial[1],\n",
    "    opacity=1, intensity=df_atrasado_multinomial[1],\n",
    "    colorscale=\"Viridis\")\n",
    "\n",
    "layout = go.Layout(\n",
    "    margin={'l': 0, 'r': 0, 'b': 0, 't': 0},\n",
    "    width=800,\n",
    "    height=800\n",
    ")\n",
    "\n",
    "data = [trace]\n",
    "\n",
    "plot_figure = go.Figure(data=data, layout=layout)\n",
    "\n",
    "plot_figure.update_layout(scene = dict(\n",
    "                        xaxis_title='dist',\n",
    "                        yaxis_title='sem',\n",
    "                        zaxis_title='chegou atrasado à primeira aula'))\n",
    "\n",
    "plot_figure.show()"
   ]
  },
  {
   "cell_type": "code",
   "execution_count": 18,
   "metadata": {},
   "outputs": [
    {
     "data": {
      "application/vnd.plotly.v1+json": {
       "config": {
        "plotlyServerURL": "https://plot.ly"
       },
       "data": [
        {
         "colorscale": [
          [
           0,
           "#440154"
          ],
          [
           0.1111111111111111,
           "#482878"
          ],
          [
           0.2222222222222222,
           "#3e4989"
          ],
          [
           0.3333333333333333,
           "#31688e"
          ],
          [
           0.4444444444444444,
           "#26828e"
          ],
          [
           0.5555555555555556,
           "#1f9e89"
          ],
          [
           0.6666666666666666,
           "#35b779"
          ],
          [
           0.7777777777777778,
           "#6ece58"
          ],
          [
           0.8888888888888888,
           "#b5de2b"
          ],
          [
           1,
           "#fde725"
          ]
         ],
         "intensity": [
          0.45860182244272935,
          0.9812604916395092,
          0.8258488671396667,
          0.9962518015997144,
          0.3775738821826772,
          0.9830788967602971,
          0.9830788967602971,
          0.9936273024888311,
          0.9908575308020027,
          0.9908575308020027,
          0.98472357361081,
          0.9406365752162507,
          0.9986522848475201,
          0.21045839259982965,
          0.9406365752162507,
          0.39259695179527826,
          0.9868996547522243,
          0.9461828198372029,
          0.978168232684644,
          0.13784029761639685,
          0.6530328313777811,
          0.8865911480851091,
          0.9638286332267643,
          0.053513633656178325,
          0.08633330203286592,
          3.0215485953716906e-7,
          1.8318743077719393e-8,
          0.21904118304459394,
          0.978168232684644,
          0.10263393419373794,
          0.01918309336276613,
          0.4987591841912419,
          1.0282071519786232e-7,
          0.953592612231728,
          0.977030517041917,
          0.978168232684644,
          0.9638286332267643,
          0.9961158664953856,
          0.9638286332267643,
          0.9558392719926061,
          0.9688879602764188,
          0.0011062307957823486,
          0.0656432109205289,
          0.8212220053985808,
          0.0011062307957823486,
          0.000002606278951683612,
          3.498277956114526e-8,
          3.498277956114526e-8,
          5.897595020538201e-8,
          0.9802807227305226,
          0.9963915223183476,
          0.9243474976143298,
          0.000787841976358573,
          8.031914191135872e-10,
          3.0215485953716906e-7,
          0.000002606278951683612,
          0.39259695179527826,
          0.000007645148244489166,
          0.0000010824558658750228,
          3.0215485953716906e-7,
          3.498277956114526e-8,
          0.0000962284397102132,
          0.2713049776913379,
          0.39259695179527826,
          2.4893641996998578e-8,
          0.2496278780662855,
          7.316703096436097e-8,
          3.0215485953716906e-7,
          7.316703096436097e-8,
          4.048441932561171e-9,
          0.028641481213692383,
          3.0215485953716906e-7,
          2.4893641996998578e-8,
          8.876532638901352e-7,
          2.8197010817767652e-8,
          3.1755577843918892e-12,
          2.772769073908805e-8,
          1.7563016399577532e-13,
          3.0215485953716906e-7,
          3.57422563067581e-9,
          0.055293616978594966,
          0.0000018867804638187698,
          1.7085999131233727e-9,
          2.732107393169146e-10,
          8.031914191135872e-10,
          1.3771384119646489e-9,
          2.6673614979276055e-7,
          0.17346597428720956,
          0.10263393419373794,
          0.191812527694703,
          1.3771384119646489e-9,
          9.719181594826052e-7,
          3.0215485953716906e-7,
          0.000002606278951683612,
          0.00031545841917665466,
          0.000547159811975129,
          0.028038302199169283,
          0.017733392557338783,
          0.9881773927315034,
          5.741633628164147e-11
         ],
         "opacity": 1,
         "type": "mesh3d",
         "x": [
          20.5,
          21.2999992370605,
          21.3999996185303,
          31.5,
          17.5,
          21.5,
          21.5,
          23.3999996185303,
          22.7000007629395,
          22.7000007629395,
          21.7000007629395,
          19,
          26.3999996185303,
          16,
          19,
          20,
          22,
          19.2000007629395,
          21,
          20,
          22,
          20,
          20,
          21,
          16.7000007629395,
          17,
          14.3999996185303,
          18.5,
          21,
          17,
          14.5,
          20.7999992370605,
          16,
          19.5,
          20.8999996185303,
          21,
          20,
          22,
          20,
          19.6000003814697,
          20.2999992370605,
          22,
          29,
          23.7000007629395,
          22,
          19,
          15,
          15,
          12.8000001907349,
          21.2000007629395,
          24.5,
          18.5,
          19,
          11.5,
          17,
          19,
          20,
          20,
          15.5,
          17,
          15,
          17,
          19,
          20,
          12,
          18.7999992370605,
          13,
          17,
          13,
          13,
          28,
          17,
          12,
          18,
          14.8000001907349,
          1,
          12.1000003814697,
          1,
          17,
          10.1999998092651,
          11,
          18.7000007629395,
          12.1999998092651,
          10.5,
          11.5,
          12,
          14.1999998092651,
          18,
          17,
          11,
          12,
          15.3999996185303,
          17,
          19,
          10.1000003814697,
          24,
          15,
          14.3999996185303,
          22.2000007629395,
          1
         ],
         "y": [
          15,
          18,
          16,
          15,
          16,
          18,
          18,
          18,
          18,
          18,
          18,
          18,
          18,
          16,
          18,
          15,
          18,
          18,
          18,
          14,
          15,
          17,
          18,
          13,
          15,
          10,
          10,
          15,
          18,
          15,
          15,
          15,
          10,
          18,
          18,
          18,
          18,
          19,
          18,
          18,
          18,
          11,
          10,
          15,
          11,
          10,
          10,
          10,
          11,
          18,
          18,
          18,
          12,
          10,
          10,
          10,
          15,
          10,
          11,
          10,
          10,
          12,
          15,
          15,
          11,
          15,
          11,
          10,
          11,
          10,
          10,
          10,
          11,
          10,
          10,
          12,
          11,
          11,
          10,
          11,
          17,
          10,
          10,
          10,
          10,
          10,
          11,
          15,
          15,
          18,
          10,
          11,
          10,
          10,
          15,
          10,
          15,
          15,
          18,
          13
         ],
         "z": [
          0.45860182244272935,
          0.9812604916395092,
          0.8258488671396667,
          0.9962518015997144,
          0.3775738821826772,
          0.9830788967602971,
          0.9830788967602971,
          0.9936273024888311,
          0.9908575308020027,
          0.9908575308020027,
          0.98472357361081,
          0.9406365752162507,
          0.9986522848475201,
          0.21045839259982965,
          0.9406365752162507,
          0.39259695179527826,
          0.9868996547522243,
          0.9461828198372029,
          0.978168232684644,
          0.13784029761639685,
          0.6530328313777811,
          0.8865911480851091,
          0.9638286332267643,
          0.053513633656178325,
          0.08633330203286592,
          3.0215485953716906e-7,
          1.8318743077719393e-8,
          0.21904118304459394,
          0.978168232684644,
          0.10263393419373794,
          0.01918309336276613,
          0.4987591841912419,
          1.0282071519786232e-7,
          0.953592612231728,
          0.977030517041917,
          0.978168232684644,
          0.9638286332267643,
          0.9961158664953856,
          0.9638286332267643,
          0.9558392719926061,
          0.9688879602764188,
          0.0011062307957823486,
          0.0656432109205289,
          0.8212220053985808,
          0.0011062307957823486,
          0.000002606278951683612,
          3.498277956114526e-8,
          3.498277956114526e-8,
          5.897595020538201e-8,
          0.9802807227305226,
          0.9963915223183476,
          0.9243474976143298,
          0.000787841976358573,
          8.031914191135872e-10,
          3.0215485953716906e-7,
          0.000002606278951683612,
          0.39259695179527826,
          0.000007645148244489166,
          0.0000010824558658750228,
          3.0215485953716906e-7,
          3.498277956114526e-8,
          0.0000962284397102132,
          0.2713049776913379,
          0.39259695179527826,
          2.4893641996998578e-8,
          0.2496278780662855,
          7.316703096436097e-8,
          3.0215485953716906e-7,
          7.316703096436097e-8,
          4.048441932561171e-9,
          0.028641481213692383,
          3.0215485953716906e-7,
          2.4893641996998578e-8,
          8.876532638901352e-7,
          2.8197010817767652e-8,
          3.1755577843918892e-12,
          2.772769073908805e-8,
          1.7563016399577532e-13,
          3.0215485953716906e-7,
          3.57422563067581e-9,
          0.055293616978594966,
          0.0000018867804638187698,
          1.7085999131233727e-9,
          2.732107393169146e-10,
          8.031914191135872e-10,
          1.3771384119646489e-9,
          2.6673614979276055e-7,
          0.17346597428720956,
          0.10263393419373794,
          0.191812527694703,
          1.3771384119646489e-9,
          9.719181594826052e-7,
          3.0215485953716906e-7,
          0.000002606278951683612,
          0.00031545841917665466,
          0.000547159811975129,
          0.028038302199169283,
          0.017733392557338783,
          0.9881773927315034,
          5.741633628164147e-11
         ]
        }
       ],
       "layout": {
        "height": 800,
        "margin": {
         "b": 0,
         "l": 0,
         "r": 0,
         "t": 0
        },
        "scene": {
         "xaxis": {
          "title": {
           "text": "dist"
          }
         },
         "yaxis": {
          "title": {
           "text": "sem"
          }
         },
         "zaxis": {
          "title": {
           "text": "chegou atrasado à segunda aula"
          }
         }
        },
        "template": {
         "data": {
          "bar": [
           {
            "error_x": {
             "color": "#2a3f5f"
            },
            "error_y": {
             "color": "#2a3f5f"
            },
            "marker": {
             "line": {
              "color": "#E5ECF6",
              "width": 0.5
             },
             "pattern": {
              "fillmode": "overlay",
              "size": 10,
              "solidity": 0.2
             }
            },
            "type": "bar"
           }
          ],
          "barpolar": [
           {
            "marker": {
             "line": {
              "color": "#E5ECF6",
              "width": 0.5
             },
             "pattern": {
              "fillmode": "overlay",
              "size": 10,
              "solidity": 0.2
             }
            },
            "type": "barpolar"
           }
          ],
          "carpet": [
           {
            "aaxis": {
             "endlinecolor": "#2a3f5f",
             "gridcolor": "white",
             "linecolor": "white",
             "minorgridcolor": "white",
             "startlinecolor": "#2a3f5f"
            },
            "baxis": {
             "endlinecolor": "#2a3f5f",
             "gridcolor": "white",
             "linecolor": "white",
             "minorgridcolor": "white",
             "startlinecolor": "#2a3f5f"
            },
            "type": "carpet"
           }
          ],
          "choropleth": [
           {
            "colorbar": {
             "outlinewidth": 0,
             "ticks": ""
            },
            "type": "choropleth"
           }
          ],
          "contour": [
           {
            "colorbar": {
             "outlinewidth": 0,
             "ticks": ""
            },
            "colorscale": [
             [
              0,
              "#0d0887"
             ],
             [
              0.1111111111111111,
              "#46039f"
             ],
             [
              0.2222222222222222,
              "#7201a8"
             ],
             [
              0.3333333333333333,
              "#9c179e"
             ],
             [
              0.4444444444444444,
              "#bd3786"
             ],
             [
              0.5555555555555556,
              "#d8576b"
             ],
             [
              0.6666666666666666,
              "#ed7953"
             ],
             [
              0.7777777777777778,
              "#fb9f3a"
             ],
             [
              0.8888888888888888,
              "#fdca26"
             ],
             [
              1,
              "#f0f921"
             ]
            ],
            "type": "contour"
           }
          ],
          "contourcarpet": [
           {
            "colorbar": {
             "outlinewidth": 0,
             "ticks": ""
            },
            "type": "contourcarpet"
           }
          ],
          "heatmap": [
           {
            "colorbar": {
             "outlinewidth": 0,
             "ticks": ""
            },
            "colorscale": [
             [
              0,
              "#0d0887"
             ],
             [
              0.1111111111111111,
              "#46039f"
             ],
             [
              0.2222222222222222,
              "#7201a8"
             ],
             [
              0.3333333333333333,
              "#9c179e"
             ],
             [
              0.4444444444444444,
              "#bd3786"
             ],
             [
              0.5555555555555556,
              "#d8576b"
             ],
             [
              0.6666666666666666,
              "#ed7953"
             ],
             [
              0.7777777777777778,
              "#fb9f3a"
             ],
             [
              0.8888888888888888,
              "#fdca26"
             ],
             [
              1,
              "#f0f921"
             ]
            ],
            "type": "heatmap"
           }
          ],
          "heatmapgl": [
           {
            "colorbar": {
             "outlinewidth": 0,
             "ticks": ""
            },
            "colorscale": [
             [
              0,
              "#0d0887"
             ],
             [
              0.1111111111111111,
              "#46039f"
             ],
             [
              0.2222222222222222,
              "#7201a8"
             ],
             [
              0.3333333333333333,
              "#9c179e"
             ],
             [
              0.4444444444444444,
              "#bd3786"
             ],
             [
              0.5555555555555556,
              "#d8576b"
             ],
             [
              0.6666666666666666,
              "#ed7953"
             ],
             [
              0.7777777777777778,
              "#fb9f3a"
             ],
             [
              0.8888888888888888,
              "#fdca26"
             ],
             [
              1,
              "#f0f921"
             ]
            ],
            "type": "heatmapgl"
           }
          ],
          "histogram": [
           {
            "marker": {
             "pattern": {
              "fillmode": "overlay",
              "size": 10,
              "solidity": 0.2
             }
            },
            "type": "histogram"
           }
          ],
          "histogram2d": [
           {
            "colorbar": {
             "outlinewidth": 0,
             "ticks": ""
            },
            "colorscale": [
             [
              0,
              "#0d0887"
             ],
             [
              0.1111111111111111,
              "#46039f"
             ],
             [
              0.2222222222222222,
              "#7201a8"
             ],
             [
              0.3333333333333333,
              "#9c179e"
             ],
             [
              0.4444444444444444,
              "#bd3786"
             ],
             [
              0.5555555555555556,
              "#d8576b"
             ],
             [
              0.6666666666666666,
              "#ed7953"
             ],
             [
              0.7777777777777778,
              "#fb9f3a"
             ],
             [
              0.8888888888888888,
              "#fdca26"
             ],
             [
              1,
              "#f0f921"
             ]
            ],
            "type": "histogram2d"
           }
          ],
          "histogram2dcontour": [
           {
            "colorbar": {
             "outlinewidth": 0,
             "ticks": ""
            },
            "colorscale": [
             [
              0,
              "#0d0887"
             ],
             [
              0.1111111111111111,
              "#46039f"
             ],
             [
              0.2222222222222222,
              "#7201a8"
             ],
             [
              0.3333333333333333,
              "#9c179e"
             ],
             [
              0.4444444444444444,
              "#bd3786"
             ],
             [
              0.5555555555555556,
              "#d8576b"
             ],
             [
              0.6666666666666666,
              "#ed7953"
             ],
             [
              0.7777777777777778,
              "#fb9f3a"
             ],
             [
              0.8888888888888888,
              "#fdca26"
             ],
             [
              1,
              "#f0f921"
             ]
            ],
            "type": "histogram2dcontour"
           }
          ],
          "mesh3d": [
           {
            "colorbar": {
             "outlinewidth": 0,
             "ticks": ""
            },
            "type": "mesh3d"
           }
          ],
          "parcoords": [
           {
            "line": {
             "colorbar": {
              "outlinewidth": 0,
              "ticks": ""
             }
            },
            "type": "parcoords"
           }
          ],
          "pie": [
           {
            "automargin": true,
            "type": "pie"
           }
          ],
          "scatter": [
           {
            "fillpattern": {
             "fillmode": "overlay",
             "size": 10,
             "solidity": 0.2
            },
            "type": "scatter"
           }
          ],
          "scatter3d": [
           {
            "line": {
             "colorbar": {
              "outlinewidth": 0,
              "ticks": ""
             }
            },
            "marker": {
             "colorbar": {
              "outlinewidth": 0,
              "ticks": ""
             }
            },
            "type": "scatter3d"
           }
          ],
          "scattercarpet": [
           {
            "marker": {
             "colorbar": {
              "outlinewidth": 0,
              "ticks": ""
             }
            },
            "type": "scattercarpet"
           }
          ],
          "scattergeo": [
           {
            "marker": {
             "colorbar": {
              "outlinewidth": 0,
              "ticks": ""
             }
            },
            "type": "scattergeo"
           }
          ],
          "scattergl": [
           {
            "marker": {
             "colorbar": {
              "outlinewidth": 0,
              "ticks": ""
             }
            },
            "type": "scattergl"
           }
          ],
          "scattermapbox": [
           {
            "marker": {
             "colorbar": {
              "outlinewidth": 0,
              "ticks": ""
             }
            },
            "type": "scattermapbox"
           }
          ],
          "scatterpolar": [
           {
            "marker": {
             "colorbar": {
              "outlinewidth": 0,
              "ticks": ""
             }
            },
            "type": "scatterpolar"
           }
          ],
          "scatterpolargl": [
           {
            "marker": {
             "colorbar": {
              "outlinewidth": 0,
              "ticks": ""
             }
            },
            "type": "scatterpolargl"
           }
          ],
          "scatterternary": [
           {
            "marker": {
             "colorbar": {
              "outlinewidth": 0,
              "ticks": ""
             }
            },
            "type": "scatterternary"
           }
          ],
          "surface": [
           {
            "colorbar": {
             "outlinewidth": 0,
             "ticks": ""
            },
            "colorscale": [
             [
              0,
              "#0d0887"
             ],
             [
              0.1111111111111111,
              "#46039f"
             ],
             [
              0.2222222222222222,
              "#7201a8"
             ],
             [
              0.3333333333333333,
              "#9c179e"
             ],
             [
              0.4444444444444444,
              "#bd3786"
             ],
             [
              0.5555555555555556,
              "#d8576b"
             ],
             [
              0.6666666666666666,
              "#ed7953"
             ],
             [
              0.7777777777777778,
              "#fb9f3a"
             ],
             [
              0.8888888888888888,
              "#fdca26"
             ],
             [
              1,
              "#f0f921"
             ]
            ],
            "type": "surface"
           }
          ],
          "table": [
           {
            "cells": {
             "fill": {
              "color": "#EBF0F8"
             },
             "line": {
              "color": "white"
             }
            },
            "header": {
             "fill": {
              "color": "#C8D4E3"
             },
             "line": {
              "color": "white"
             }
            },
            "type": "table"
           }
          ]
         },
         "layout": {
          "annotationdefaults": {
           "arrowcolor": "#2a3f5f",
           "arrowhead": 0,
           "arrowwidth": 1
          },
          "autotypenumbers": "strict",
          "coloraxis": {
           "colorbar": {
            "outlinewidth": 0,
            "ticks": ""
           }
          },
          "colorscale": {
           "diverging": [
            [
             0,
             "#8e0152"
            ],
            [
             0.1,
             "#c51b7d"
            ],
            [
             0.2,
             "#de77ae"
            ],
            [
             0.3,
             "#f1b6da"
            ],
            [
             0.4,
             "#fde0ef"
            ],
            [
             0.5,
             "#f7f7f7"
            ],
            [
             0.6,
             "#e6f5d0"
            ],
            [
             0.7,
             "#b8e186"
            ],
            [
             0.8,
             "#7fbc41"
            ],
            [
             0.9,
             "#4d9221"
            ],
            [
             1,
             "#276419"
            ]
           ],
           "sequential": [
            [
             0,
             "#0d0887"
            ],
            [
             0.1111111111111111,
             "#46039f"
            ],
            [
             0.2222222222222222,
             "#7201a8"
            ],
            [
             0.3333333333333333,
             "#9c179e"
            ],
            [
             0.4444444444444444,
             "#bd3786"
            ],
            [
             0.5555555555555556,
             "#d8576b"
            ],
            [
             0.6666666666666666,
             "#ed7953"
            ],
            [
             0.7777777777777778,
             "#fb9f3a"
            ],
            [
             0.8888888888888888,
             "#fdca26"
            ],
            [
             1,
             "#f0f921"
            ]
           ],
           "sequentialminus": [
            [
             0,
             "#0d0887"
            ],
            [
             0.1111111111111111,
             "#46039f"
            ],
            [
             0.2222222222222222,
             "#7201a8"
            ],
            [
             0.3333333333333333,
             "#9c179e"
            ],
            [
             0.4444444444444444,
             "#bd3786"
            ],
            [
             0.5555555555555556,
             "#d8576b"
            ],
            [
             0.6666666666666666,
             "#ed7953"
            ],
            [
             0.7777777777777778,
             "#fb9f3a"
            ],
            [
             0.8888888888888888,
             "#fdca26"
            ],
            [
             1,
             "#f0f921"
            ]
           ]
          },
          "colorway": [
           "#636efa",
           "#EF553B",
           "#00cc96",
           "#ab63fa",
           "#FFA15A",
           "#19d3f3",
           "#FF6692",
           "#B6E880",
           "#FF97FF",
           "#FECB52"
          ],
          "font": {
           "color": "#2a3f5f"
          },
          "geo": {
           "bgcolor": "white",
           "lakecolor": "white",
           "landcolor": "#E5ECF6",
           "showlakes": true,
           "showland": true,
           "subunitcolor": "white"
          },
          "hoverlabel": {
           "align": "left"
          },
          "hovermode": "closest",
          "mapbox": {
           "style": "light"
          },
          "paper_bgcolor": "white",
          "plot_bgcolor": "#E5ECF6",
          "polar": {
           "angularaxis": {
            "gridcolor": "white",
            "linecolor": "white",
            "ticks": ""
           },
           "bgcolor": "#E5ECF6",
           "radialaxis": {
            "gridcolor": "white",
            "linecolor": "white",
            "ticks": ""
           }
          },
          "scene": {
           "xaxis": {
            "backgroundcolor": "#E5ECF6",
            "gridcolor": "white",
            "gridwidth": 2,
            "linecolor": "white",
            "showbackground": true,
            "ticks": "",
            "zerolinecolor": "white"
           },
           "yaxis": {
            "backgroundcolor": "#E5ECF6",
            "gridcolor": "white",
            "gridwidth": 2,
            "linecolor": "white",
            "showbackground": true,
            "ticks": "",
            "zerolinecolor": "white"
           },
           "zaxis": {
            "backgroundcolor": "#E5ECF6",
            "gridcolor": "white",
            "gridwidth": 2,
            "linecolor": "white",
            "showbackground": true,
            "ticks": "",
            "zerolinecolor": "white"
           }
          },
          "shapedefaults": {
           "line": {
            "color": "#2a3f5f"
           }
          },
          "ternary": {
           "aaxis": {
            "gridcolor": "white",
            "linecolor": "white",
            "ticks": ""
           },
           "baxis": {
            "gridcolor": "white",
            "linecolor": "white",
            "ticks": ""
           },
           "bgcolor": "#E5ECF6",
           "caxis": {
            "gridcolor": "white",
            "linecolor": "white",
            "ticks": ""
           }
          },
          "title": {
           "x": 0.05
          },
          "xaxis": {
           "automargin": true,
           "gridcolor": "white",
           "linecolor": "white",
           "ticks": "",
           "title": {
            "standoff": 15
           },
           "zerolinecolor": "white",
           "zerolinewidth": 2
          },
          "yaxis": {
           "automargin": true,
           "gridcolor": "white",
           "linecolor": "white",
           "ticks": "",
           "title": {
            "standoff": 15
           },
           "zerolinecolor": "white",
           "zerolinewidth": 2
          }
         }
        },
        "width": 800
       }
      }
     },
     "metadata": {},
     "output_type": "display_data"
    }
   ],
   "source": [
    "# Plotagem tridimensional para cada probabilidade de ocorrência de\n",
    "# cada categoria da variável dependente\n",
    "\n",
    "# Probabilidades de se chegar atrasado à segunda aula (função 'go' do pacote\n",
    "# 'plotly')\n",
    "\n",
    "trace = go.Mesh3d(\n",
    "    x=df_atrasado_multinomial['dist'], \n",
    "    y=df_atrasado_multinomial['sem'],\n",
    "    z=df_atrasado_multinomial[2],\n",
    "    opacity=1, intensity=df_atrasado_multinomial[2],\n",
    "    colorscale=\"Viridis\")\n",
    "\n",
    "layout = go.Layout(\n",
    "    margin={'l': 0, 'r': 0, 'b': 0, 't': 0},\n",
    "    width=800,\n",
    "    height=800\n",
    ")\n",
    "\n",
    "data = [trace]\n",
    "\n",
    "plot_figure = go.Figure(data=data, layout=layout)\n",
    "\n",
    "plot_figure.update_layout(scene = dict(\n",
    "                        xaxis_title='dist',\n",
    "                        yaxis_title='sem',\n",
    "                        zaxis_title='chegou atrasado à segunda aula'))\n",
    "\n",
    "plot_figure.show()"
   ]
  },
  {
   "cell_type": "code",
   "execution_count": 19,
   "metadata": {},
   "outputs": [
    {
     "data": {
      "application/vnd.plotly.v1+json": {
       "config": {
        "plotlyServerURL": "https://plot.ly"
       },
       "data": [
        {
         "color": "indigo",
         "opacity": 1,
         "type": "mesh3d",
         "x": [
          20.5,
          21.2999992370605,
          21.3999996185303,
          31.5,
          17.5,
          21.5,
          21.5,
          23.3999996185303,
          22.7000007629395,
          22.7000007629395,
          21.7000007629395,
          19,
          26.3999996185303,
          16,
          19,
          20,
          22,
          19.2000007629395,
          21,
          20,
          22,
          20,
          20,
          21,
          16.7000007629395,
          17,
          14.3999996185303,
          18.5,
          21,
          17,
          14.5,
          20.7999992370605,
          16,
          19.5,
          20.8999996185303,
          21,
          20,
          22,
          20,
          19.6000003814697,
          20.2999992370605,
          22,
          29,
          23.7000007629395,
          22,
          19,
          15,
          15,
          12.8000001907349,
          21.2000007629395,
          24.5,
          18.5,
          19,
          11.5,
          17,
          19,
          20,
          20,
          15.5,
          17,
          15,
          17,
          19,
          20,
          12,
          18.7999992370605,
          13,
          17,
          13,
          13,
          28,
          17,
          12,
          18,
          14.8000001907349,
          1,
          12.1000003814697,
          1,
          17,
          10.1999998092651,
          11,
          18.7000007629395,
          12.1999998092651,
          10.5,
          11.5,
          12,
          14.1999998092651,
          18,
          17,
          11,
          12,
          15.3999996185303,
          17,
          19,
          10.1000003814697,
          24,
          15,
          14.3999996185303,
          22.2000007629395,
          1
         ],
         "y": [
          15,
          18,
          16,
          15,
          16,
          18,
          18,
          18,
          18,
          18,
          18,
          18,
          18,
          16,
          18,
          15,
          18,
          18,
          18,
          14,
          15,
          17,
          18,
          13,
          15,
          10,
          10,
          15,
          18,
          15,
          15,
          15,
          10,
          18,
          18,
          18,
          18,
          19,
          18,
          18,
          18,
          11,
          10,
          15,
          11,
          10,
          10,
          10,
          11,
          18,
          18,
          18,
          12,
          10,
          10,
          10,
          15,
          10,
          11,
          10,
          10,
          12,
          15,
          15,
          11,
          15,
          11,
          10,
          11,
          10,
          10,
          10,
          11,
          10,
          10,
          12,
          11,
          11,
          10,
          11,
          17,
          10,
          10,
          10,
          10,
          10,
          11,
          15,
          15,
          18,
          10,
          11,
          10,
          10,
          15,
          10,
          15,
          15,
          18,
          13
         ],
         "z": [
          0.018010236294128366,
          0.0000027513006249947106,
          0.0006796190184597088,
          2.759475618138947e-7,
          0.020837823889474485,
          0.0000022216509100951115,
          0.0000022216509100951115,
          2.893908517409597e-7,
          6.139071873628187e-7,
          6.139071873628187e-7,
          0.000001793640873784016,
          0.00003150166015157644,
          1.1446866552948642e-8,
          0.05854787648290872,
          0.00003150166015157644,
          0.026435978186264354,
          0.000001300755334216909,
          0.00002553996809208108,
          0.000003790232287337679,
          0.1678212076771945,
          0.005087731335500259,
          0.00018261123585223735,
          0.000010979479456616971,
          0.40070762403063137,
          0.20413351512704297,
          0.99902854774229,
          0.999772681829458,
          0.07434790217471318,
          0.000003790232287337679,
          0.17560157224001072,
          0.48638502874173845,
          0.014173463889862117,
          0.9994442863370326,
          0.000018625572519578816,
          0.000004216902360866868,
          0.000003790232287337679,
          0.000010979479456616971,
          7.261231748775953e-8,
          0.000010979479456616971,
          0.000016760944168538893,
          0.000007986508289077197,
          0.9211356941237968,
          0.5206936536261574,
          0.0010230313978655003,
          0.9211356941237968,
          0.997033852005814,
          0.9996821475812905,
          0.9996821475812905,
          0.9995063114695765,
          0.000003061515387892986,
          8.861933921747321e-8,
          0.000053077648870524355,
          0.9218998980935108,
          0.9999550358047773,
          0.99902854774229,
          0.997033852005814,
          0.026435978186264354,
          0.9948217333871718,
          0.9977708595081597,
          0.99902854774229,
          0.9996821475812905,
          0.9732118816448401,
          0.053707616277619684,
          0.026435978186264354,
          0.9996842411140412,
          0.061310871384577414,
          0.9994479574110686,
          0.99902854774229,
          0.9994479574110686,
          0.9998960331558903,
          0.6679094621377547,
          0.99902854774229,
          0.9996842411140412,
          0.9983021710572014,
          0.999715752809642,
          0.9999964105383553,
          0.9996660978223678,
          0.9999993242305091,
          0.99902854774229,
          0.9998845036350773,
          0.18682973160789262,
          0.9974908418520759,
          0.9999335112343942,
          0.9999742856410372,
          0.9999550358047773,
          0.9999405419036136,
          0.9989209814703889,
          0.10095366011429098,
          0.17560157224001072,
          0.03584476852519133,
          0.9999405419036136,
          0.997891810336243,
          0.99902854774229,
          0.997033852005814,
          0.9197165030906179,
          0.9531361233016356,
          0.41461827786741295,
          0.5008256117091467,
          0.0000010497629585933546,
          0.9999809341904876
         ]
        },
        {
         "color": "darkgreen",
         "opacity": 1,
         "type": "mesh3d",
         "x": [
          20.5,
          21.2999992370605,
          21.3999996185303,
          31.5,
          17.5,
          21.5,
          21.5,
          23.3999996185303,
          22.7000007629395,
          22.7000007629395,
          21.7000007629395,
          19,
          26.3999996185303,
          16,
          19,
          20,
          22,
          19.2000007629395,
          21,
          20,
          22,
          20,
          20,
          21,
          16.7000007629395,
          17,
          14.3999996185303,
          18.5,
          21,
          17,
          14.5,
          20.7999992370605,
          16,
          19.5,
          20.8999996185303,
          21,
          20,
          22,
          20,
          19.6000003814697,
          20.2999992370605,
          22,
          29,
          23.7000007629395,
          22,
          19,
          15,
          15,
          12.8000001907349,
          21.2000007629395,
          24.5,
          18.5,
          19,
          11.5,
          17,
          19,
          20,
          20,
          15.5,
          17,
          15,
          17,
          19,
          20,
          12,
          18.7999992370605,
          13,
          17,
          13,
          13,
          28,
          17,
          12,
          18,
          14.8000001907349,
          1,
          12.1000003814697,
          1,
          17,
          10.1999998092651,
          11,
          18.7000007629395,
          12.1999998092651,
          10.5,
          11.5,
          12,
          14.1999998092651,
          18,
          17,
          11,
          12,
          15.3999996185303,
          17,
          19,
          10.1000003814697,
          24,
          15,
          14.3999996185303,
          22.2000007629395,
          1
         ],
         "y": [
          15,
          18,
          16,
          15,
          16,
          18,
          18,
          18,
          18,
          18,
          18,
          18,
          18,
          16,
          18,
          15,
          18,
          18,
          18,
          14,
          15,
          17,
          18,
          13,
          15,
          10,
          10,
          15,
          18,
          15,
          15,
          15,
          10,
          18,
          18,
          18,
          18,
          19,
          18,
          18,
          18,
          11,
          10,
          15,
          11,
          10,
          10,
          10,
          11,
          18,
          18,
          18,
          12,
          10,
          10,
          10,
          15,
          10,
          11,
          10,
          10,
          12,
          15,
          15,
          11,
          15,
          11,
          10,
          11,
          10,
          10,
          10,
          11,
          10,
          10,
          12,
          11,
          11,
          10,
          11,
          17,
          10,
          10,
          10,
          10,
          10,
          11,
          15,
          15,
          18,
          10,
          11,
          10,
          10,
          15,
          10,
          15,
          15,
          18,
          13
         ],
         "z": [
          0.5233879412631423,
          0.018736757059865747,
          0.17347151384187362,
          0.0037479224527238414,
          0.6015882939278484,
          0.016918881588792782,
          0.016918881588792782,
          0.006372408120317069,
          0.009141855290809886,
          0.009141855290809886,
          0.015274632748316176,
          0.05933192312359776,
          0.0013477037056132467,
          0.7309937309172616,
          0.05933192312359776,
          0.5809670700184574,
          0.013099044492441408,
          0.053791640194705136,
          0.02182797708306861,
          0.6943384947064086,
          0.3418794372867186,
          0.11322624067903865,
          0.03616038729377915,
          0.5457787423131903,
          0.709533182840091,
          0.0009711501028505397,
          0.00022729985179883145,
          0.7066109147806928,
          0.02182797708306861,
          0.7217644935662514,
          0.4944318778954954,
          0.487067351918896,
          0.0005556108422522988,
          0.046388762195752505,
          0.022965266055722095,
          0.02182797708306861,
          0.03616038729377915,
          0.0038840608922969585,
          0.03616038729377915,
          0.04414396706322535,
          0.03110405321529218,
          0.0777580750804209,
          0.4136631354533137,
          0.17775496320355366,
          0.0777580750804209,
          0.002963541715234413,
          0.0003178174359298839,
          0.0003178174359298839,
          0.0004936295544733024,
          0.019716215754089564,
          0.0036083890623132965,
          0.07559942473679969,
          0.07731225993013054,
          0.000044963392031306435,
          0.0009711501028505397,
          0.002963541715234413,
          0.5809670700184574,
          0.005170621464583726,
          0.002228058035974341,
          0.0009711501028505397,
          0.0003178174359298839,
          0.02669188991544975,
          0.6749874060310423,
          0.5809670700184574,
          0.00031573399231685077,
          0.689061250549137,
          0.0005519694219004932,
          0.0009711501028505397,
          0.0005519694219004932,
          0.00010396279566783113,
          0.3034490566485529,
          0.0009711501028505397,
          0.00031573399231685077,
          0.0016969412895346395,
          0.0002842189933472308,
          0.000003589458469139553,
          0.000333874449941493,
          6.757693153497229e-7,
          0.0009711501028505397,
          0.00011549279069684732,
          0.7578766514135125,
          0.0025072713674601957,
          0.00006648705700563882,
          0.000025714085752082692,
          0.000044963392031306435,
          0.00005945671924799341,
          0.0010787517934612114,
          0.7255803655984995,
          0.7217644935662514,
          0.7723427037801056,
          0.00005945671924799341,
          0.0021072177455974473,
          0.0009711501028505397,
          0.002963541715234413,
          0.07996803849020552,
          0.04631671688638937,
          0.5573434199334178,
          0.48144099573351457,
          0.011821557505538031,
          0.00001906575209607903
         ]
        },
        {
         "color": "darkorange",
         "opacity": 1,
         "type": "mesh3d",
         "x": [
          20.5,
          21.2999992370605,
          21.3999996185303,
          31.5,
          17.5,
          21.5,
          21.5,
          23.3999996185303,
          22.7000007629395,
          22.7000007629395,
          21.7000007629395,
          19,
          26.3999996185303,
          16,
          19,
          20,
          22,
          19.2000007629395,
          21,
          20,
          22,
          20,
          20,
          21,
          16.7000007629395,
          17,
          14.3999996185303,
          18.5,
          21,
          17,
          14.5,
          20.7999992370605,
          16,
          19.5,
          20.8999996185303,
          21,
          20,
          22,
          20,
          19.6000003814697,
          20.2999992370605,
          22,
          29,
          23.7000007629395,
          22,
          19,
          15,
          15,
          12.8000001907349,
          21.2000007629395,
          24.5,
          18.5,
          19,
          11.5,
          17,
          19,
          20,
          20,
          15.5,
          17,
          15,
          17,
          19,
          20,
          12,
          18.7999992370605,
          13,
          17,
          13,
          13,
          28,
          17,
          12,
          18,
          14.8000001907349,
          1,
          12.1000003814697,
          1,
          17,
          10.1999998092651,
          11,
          18.7000007629395,
          12.1999998092651,
          10.5,
          11.5,
          12,
          14.1999998092651,
          18,
          17,
          11,
          12,
          15.3999996185303,
          17,
          19,
          10.1000003814697,
          24,
          15,
          14.3999996185303,
          22.2000007629395,
          1
         ],
         "y": [
          15,
          18,
          16,
          15,
          16,
          18,
          18,
          18,
          18,
          18,
          18,
          18,
          18,
          16,
          18,
          15,
          18,
          18,
          18,
          14,
          15,
          17,
          18,
          13,
          15,
          10,
          10,
          15,
          18,
          15,
          15,
          15,
          10,
          18,
          18,
          18,
          18,
          19,
          18,
          18,
          18,
          11,
          10,
          15,
          11,
          10,
          10,
          10,
          11,
          18,
          18,
          18,
          12,
          10,
          10,
          10,
          15,
          10,
          11,
          10,
          10,
          12,
          15,
          15,
          11,
          15,
          11,
          10,
          11,
          10,
          10,
          10,
          11,
          10,
          10,
          12,
          11,
          11,
          10,
          11,
          17,
          10,
          10,
          10,
          10,
          10,
          11,
          15,
          15,
          18,
          10,
          11,
          10,
          10,
          15,
          10,
          15,
          15,
          18,
          13
         ],
         "z": [
          0.45860182244272935,
          0.9812604916395092,
          0.8258488671396667,
          0.9962518015997144,
          0.3775738821826772,
          0.9830788967602971,
          0.9830788967602971,
          0.9936273024888311,
          0.9908575308020027,
          0.9908575308020027,
          0.98472357361081,
          0.9406365752162507,
          0.9986522848475201,
          0.21045839259982965,
          0.9406365752162507,
          0.39259695179527826,
          0.9868996547522243,
          0.9461828198372029,
          0.978168232684644,
          0.13784029761639685,
          0.6530328313777811,
          0.8865911480851091,
          0.9638286332267643,
          0.053513633656178325,
          0.08633330203286592,
          3.0215485953716906e-7,
          1.8318743077719393e-8,
          0.21904118304459394,
          0.978168232684644,
          0.10263393419373794,
          0.01918309336276613,
          0.4987591841912419,
          1.0282071519786232e-7,
          0.953592612231728,
          0.977030517041917,
          0.978168232684644,
          0.9638286332267643,
          0.9961158664953856,
          0.9638286332267643,
          0.9558392719926061,
          0.9688879602764188,
          0.0011062307957823486,
          0.0656432109205289,
          0.8212220053985808,
          0.0011062307957823486,
          0.000002606278951683612,
          3.498277956114526e-8,
          3.498277956114526e-8,
          5.897595020538201e-8,
          0.9802807227305226,
          0.9963915223183476,
          0.9243474976143298,
          0.000787841976358573,
          8.031914191135872e-10,
          3.0215485953716906e-7,
          0.000002606278951683612,
          0.39259695179527826,
          0.000007645148244489166,
          0.0000010824558658750228,
          3.0215485953716906e-7,
          3.498277956114526e-8,
          0.0000962284397102132,
          0.2713049776913379,
          0.39259695179527826,
          2.4893641996998578e-8,
          0.2496278780662855,
          7.316703096436097e-8,
          3.0215485953716906e-7,
          7.316703096436097e-8,
          4.048441932561171e-9,
          0.028641481213692383,
          3.0215485953716906e-7,
          2.4893641996998578e-8,
          8.876532638901352e-7,
          2.8197010817767652e-8,
          3.1755577843918892e-12,
          2.772769073908805e-8,
          1.7563016399577532e-13,
          3.0215485953716906e-7,
          3.57422563067581e-9,
          0.055293616978594966,
          0.0000018867804638187698,
          1.7085999131233727e-9,
          2.732107393169146e-10,
          8.031914191135872e-10,
          1.3771384119646489e-9,
          2.6673614979276055e-7,
          0.17346597428720956,
          0.10263393419373794,
          0.191812527694703,
          1.3771384119646489e-9,
          9.719181594826052e-7,
          3.0215485953716906e-7,
          0.000002606278951683612,
          0.00031545841917665466,
          0.000547159811975129,
          0.028038302199169283,
          0.017733392557338783,
          0.9881773927315034,
          5.741633628164147e-11
         ]
        }
       ],
       "layout": {
        "height": 800,
        "margin": {
         "b": 0,
         "l": 0,
         "r": 0,
         "t": 0
        },
        "scene": {
         "xaxis": {
          "title": {
           "text": "dist"
          }
         },
         "yaxis": {
          "title": {
           "text": "sem"
          }
         },
         "zaxis": {
          "title": {
           "text": "probabilidades"
          }
         }
        },
        "template": {
         "data": {
          "bar": [
           {
            "error_x": {
             "color": "#f2f5fa"
            },
            "error_y": {
             "color": "#f2f5fa"
            },
            "marker": {
             "line": {
              "color": "rgb(17,17,17)",
              "width": 0.5
             },
             "pattern": {
              "fillmode": "overlay",
              "size": 10,
              "solidity": 0.2
             }
            },
            "type": "bar"
           }
          ],
          "barpolar": [
           {
            "marker": {
             "line": {
              "color": "rgb(17,17,17)",
              "width": 0.5
             },
             "pattern": {
              "fillmode": "overlay",
              "size": 10,
              "solidity": 0.2
             }
            },
            "type": "barpolar"
           }
          ],
          "carpet": [
           {
            "aaxis": {
             "endlinecolor": "#A2B1C6",
             "gridcolor": "#506784",
             "linecolor": "#506784",
             "minorgridcolor": "#506784",
             "startlinecolor": "#A2B1C6"
            },
            "baxis": {
             "endlinecolor": "#A2B1C6",
             "gridcolor": "#506784",
             "linecolor": "#506784",
             "minorgridcolor": "#506784",
             "startlinecolor": "#A2B1C6"
            },
            "type": "carpet"
           }
          ],
          "choropleth": [
           {
            "colorbar": {
             "outlinewidth": 0,
             "ticks": ""
            },
            "type": "choropleth"
           }
          ],
          "contour": [
           {
            "colorbar": {
             "outlinewidth": 0,
             "ticks": ""
            },
            "colorscale": [
             [
              0,
              "#0d0887"
             ],
             [
              0.1111111111111111,
              "#46039f"
             ],
             [
              0.2222222222222222,
              "#7201a8"
             ],
             [
              0.3333333333333333,
              "#9c179e"
             ],
             [
              0.4444444444444444,
              "#bd3786"
             ],
             [
              0.5555555555555556,
              "#d8576b"
             ],
             [
              0.6666666666666666,
              "#ed7953"
             ],
             [
              0.7777777777777778,
              "#fb9f3a"
             ],
             [
              0.8888888888888888,
              "#fdca26"
             ],
             [
              1,
              "#f0f921"
             ]
            ],
            "type": "contour"
           }
          ],
          "contourcarpet": [
           {
            "colorbar": {
             "outlinewidth": 0,
             "ticks": ""
            },
            "type": "contourcarpet"
           }
          ],
          "heatmap": [
           {
            "colorbar": {
             "outlinewidth": 0,
             "ticks": ""
            },
            "colorscale": [
             [
              0,
              "#0d0887"
             ],
             [
              0.1111111111111111,
              "#46039f"
             ],
             [
              0.2222222222222222,
              "#7201a8"
             ],
             [
              0.3333333333333333,
              "#9c179e"
             ],
             [
              0.4444444444444444,
              "#bd3786"
             ],
             [
              0.5555555555555556,
              "#d8576b"
             ],
             [
              0.6666666666666666,
              "#ed7953"
             ],
             [
              0.7777777777777778,
              "#fb9f3a"
             ],
             [
              0.8888888888888888,
              "#fdca26"
             ],
             [
              1,
              "#f0f921"
             ]
            ],
            "type": "heatmap"
           }
          ],
          "heatmapgl": [
           {
            "colorbar": {
             "outlinewidth": 0,
             "ticks": ""
            },
            "colorscale": [
             [
              0,
              "#0d0887"
             ],
             [
              0.1111111111111111,
              "#46039f"
             ],
             [
              0.2222222222222222,
              "#7201a8"
             ],
             [
              0.3333333333333333,
              "#9c179e"
             ],
             [
              0.4444444444444444,
              "#bd3786"
             ],
             [
              0.5555555555555556,
              "#d8576b"
             ],
             [
              0.6666666666666666,
              "#ed7953"
             ],
             [
              0.7777777777777778,
              "#fb9f3a"
             ],
             [
              0.8888888888888888,
              "#fdca26"
             ],
             [
              1,
              "#f0f921"
             ]
            ],
            "type": "heatmapgl"
           }
          ],
          "histogram": [
           {
            "marker": {
             "pattern": {
              "fillmode": "overlay",
              "size": 10,
              "solidity": 0.2
             }
            },
            "type": "histogram"
           }
          ],
          "histogram2d": [
           {
            "colorbar": {
             "outlinewidth": 0,
             "ticks": ""
            },
            "colorscale": [
             [
              0,
              "#0d0887"
             ],
             [
              0.1111111111111111,
              "#46039f"
             ],
             [
              0.2222222222222222,
              "#7201a8"
             ],
             [
              0.3333333333333333,
              "#9c179e"
             ],
             [
              0.4444444444444444,
              "#bd3786"
             ],
             [
              0.5555555555555556,
              "#d8576b"
             ],
             [
              0.6666666666666666,
              "#ed7953"
             ],
             [
              0.7777777777777778,
              "#fb9f3a"
             ],
             [
              0.8888888888888888,
              "#fdca26"
             ],
             [
              1,
              "#f0f921"
             ]
            ],
            "type": "histogram2d"
           }
          ],
          "histogram2dcontour": [
           {
            "colorbar": {
             "outlinewidth": 0,
             "ticks": ""
            },
            "colorscale": [
             [
              0,
              "#0d0887"
             ],
             [
              0.1111111111111111,
              "#46039f"
             ],
             [
              0.2222222222222222,
              "#7201a8"
             ],
             [
              0.3333333333333333,
              "#9c179e"
             ],
             [
              0.4444444444444444,
              "#bd3786"
             ],
             [
              0.5555555555555556,
              "#d8576b"
             ],
             [
              0.6666666666666666,
              "#ed7953"
             ],
             [
              0.7777777777777778,
              "#fb9f3a"
             ],
             [
              0.8888888888888888,
              "#fdca26"
             ],
             [
              1,
              "#f0f921"
             ]
            ],
            "type": "histogram2dcontour"
           }
          ],
          "mesh3d": [
           {
            "colorbar": {
             "outlinewidth": 0,
             "ticks": ""
            },
            "type": "mesh3d"
           }
          ],
          "parcoords": [
           {
            "line": {
             "colorbar": {
              "outlinewidth": 0,
              "ticks": ""
             }
            },
            "type": "parcoords"
           }
          ],
          "pie": [
           {
            "automargin": true,
            "type": "pie"
           }
          ],
          "scatter": [
           {
            "marker": {
             "line": {
              "color": "#283442"
             }
            },
            "type": "scatter"
           }
          ],
          "scatter3d": [
           {
            "line": {
             "colorbar": {
              "outlinewidth": 0,
              "ticks": ""
             }
            },
            "marker": {
             "colorbar": {
              "outlinewidth": 0,
              "ticks": ""
             }
            },
            "type": "scatter3d"
           }
          ],
          "scattercarpet": [
           {
            "marker": {
             "colorbar": {
              "outlinewidth": 0,
              "ticks": ""
             }
            },
            "type": "scattercarpet"
           }
          ],
          "scattergeo": [
           {
            "marker": {
             "colorbar": {
              "outlinewidth": 0,
              "ticks": ""
             }
            },
            "type": "scattergeo"
           }
          ],
          "scattergl": [
           {
            "marker": {
             "line": {
              "color": "#283442"
             }
            },
            "type": "scattergl"
           }
          ],
          "scattermapbox": [
           {
            "marker": {
             "colorbar": {
              "outlinewidth": 0,
              "ticks": ""
             }
            },
            "type": "scattermapbox"
           }
          ],
          "scatterpolar": [
           {
            "marker": {
             "colorbar": {
              "outlinewidth": 0,
              "ticks": ""
             }
            },
            "type": "scatterpolar"
           }
          ],
          "scatterpolargl": [
           {
            "marker": {
             "colorbar": {
              "outlinewidth": 0,
              "ticks": ""
             }
            },
            "type": "scatterpolargl"
           }
          ],
          "scatterternary": [
           {
            "marker": {
             "colorbar": {
              "outlinewidth": 0,
              "ticks": ""
             }
            },
            "type": "scatterternary"
           }
          ],
          "surface": [
           {
            "colorbar": {
             "outlinewidth": 0,
             "ticks": ""
            },
            "colorscale": [
             [
              0,
              "#0d0887"
             ],
             [
              0.1111111111111111,
              "#46039f"
             ],
             [
              0.2222222222222222,
              "#7201a8"
             ],
             [
              0.3333333333333333,
              "#9c179e"
             ],
             [
              0.4444444444444444,
              "#bd3786"
             ],
             [
              0.5555555555555556,
              "#d8576b"
             ],
             [
              0.6666666666666666,
              "#ed7953"
             ],
             [
              0.7777777777777778,
              "#fb9f3a"
             ],
             [
              0.8888888888888888,
              "#fdca26"
             ],
             [
              1,
              "#f0f921"
             ]
            ],
            "type": "surface"
           }
          ],
          "table": [
           {
            "cells": {
             "fill": {
              "color": "#506784"
             },
             "line": {
              "color": "rgb(17,17,17)"
             }
            },
            "header": {
             "fill": {
              "color": "#2a3f5f"
             },
             "line": {
              "color": "rgb(17,17,17)"
             }
            },
            "type": "table"
           }
          ]
         },
         "layout": {
          "annotationdefaults": {
           "arrowcolor": "#f2f5fa",
           "arrowhead": 0,
           "arrowwidth": 1
          },
          "autotypenumbers": "strict",
          "coloraxis": {
           "colorbar": {
            "outlinewidth": 0,
            "ticks": ""
           }
          },
          "colorscale": {
           "diverging": [
            [
             0,
             "#8e0152"
            ],
            [
             0.1,
             "#c51b7d"
            ],
            [
             0.2,
             "#de77ae"
            ],
            [
             0.3,
             "#f1b6da"
            ],
            [
             0.4,
             "#fde0ef"
            ],
            [
             0.5,
             "#f7f7f7"
            ],
            [
             0.6,
             "#e6f5d0"
            ],
            [
             0.7,
             "#b8e186"
            ],
            [
             0.8,
             "#7fbc41"
            ],
            [
             0.9,
             "#4d9221"
            ],
            [
             1,
             "#276419"
            ]
           ],
           "sequential": [
            [
             0,
             "#0d0887"
            ],
            [
             0.1111111111111111,
             "#46039f"
            ],
            [
             0.2222222222222222,
             "#7201a8"
            ],
            [
             0.3333333333333333,
             "#9c179e"
            ],
            [
             0.4444444444444444,
             "#bd3786"
            ],
            [
             0.5555555555555556,
             "#d8576b"
            ],
            [
             0.6666666666666666,
             "#ed7953"
            ],
            [
             0.7777777777777778,
             "#fb9f3a"
            ],
            [
             0.8888888888888888,
             "#fdca26"
            ],
            [
             1,
             "#f0f921"
            ]
           ],
           "sequentialminus": [
            [
             0,
             "#0d0887"
            ],
            [
             0.1111111111111111,
             "#46039f"
            ],
            [
             0.2222222222222222,
             "#7201a8"
            ],
            [
             0.3333333333333333,
             "#9c179e"
            ],
            [
             0.4444444444444444,
             "#bd3786"
            ],
            [
             0.5555555555555556,
             "#d8576b"
            ],
            [
             0.6666666666666666,
             "#ed7953"
            ],
            [
             0.7777777777777778,
             "#fb9f3a"
            ],
            [
             0.8888888888888888,
             "#fdca26"
            ],
            [
             1,
             "#f0f921"
            ]
           ]
          },
          "colorway": [
           "#636efa",
           "#EF553B",
           "#00cc96",
           "#ab63fa",
           "#FFA15A",
           "#19d3f3",
           "#FF6692",
           "#B6E880",
           "#FF97FF",
           "#FECB52"
          ],
          "font": {
           "color": "#f2f5fa"
          },
          "geo": {
           "bgcolor": "rgb(17,17,17)",
           "lakecolor": "rgb(17,17,17)",
           "landcolor": "rgb(17,17,17)",
           "showlakes": true,
           "showland": true,
           "subunitcolor": "#506784"
          },
          "hoverlabel": {
           "align": "left"
          },
          "hovermode": "closest",
          "mapbox": {
           "style": "dark"
          },
          "paper_bgcolor": "rgb(17,17,17)",
          "plot_bgcolor": "rgb(17,17,17)",
          "polar": {
           "angularaxis": {
            "gridcolor": "#506784",
            "linecolor": "#506784",
            "ticks": ""
           },
           "bgcolor": "rgb(17,17,17)",
           "radialaxis": {
            "gridcolor": "#506784",
            "linecolor": "#506784",
            "ticks": ""
           }
          },
          "scene": {
           "xaxis": {
            "backgroundcolor": "rgb(17,17,17)",
            "gridcolor": "#506784",
            "gridwidth": 2,
            "linecolor": "#506784",
            "showbackground": true,
            "ticks": "",
            "zerolinecolor": "#C8D4E3"
           },
           "yaxis": {
            "backgroundcolor": "rgb(17,17,17)",
            "gridcolor": "#506784",
            "gridwidth": 2,
            "linecolor": "#506784",
            "showbackground": true,
            "ticks": "",
            "zerolinecolor": "#C8D4E3"
           },
           "zaxis": {
            "backgroundcolor": "rgb(17,17,17)",
            "gridcolor": "#506784",
            "gridwidth": 2,
            "linecolor": "#506784",
            "showbackground": true,
            "ticks": "",
            "zerolinecolor": "#C8D4E3"
           }
          },
          "shapedefaults": {
           "line": {
            "color": "#f2f5fa"
           }
          },
          "sliderdefaults": {
           "bgcolor": "#C8D4E3",
           "bordercolor": "rgb(17,17,17)",
           "borderwidth": 1,
           "tickwidth": 0
          },
          "ternary": {
           "aaxis": {
            "gridcolor": "#506784",
            "linecolor": "#506784",
            "ticks": ""
           },
           "baxis": {
            "gridcolor": "#506784",
            "linecolor": "#506784",
            "ticks": ""
           },
           "bgcolor": "rgb(17,17,17)",
           "caxis": {
            "gridcolor": "#506784",
            "linecolor": "#506784",
            "ticks": ""
           }
          },
          "title": {
           "x": 0.05
          },
          "updatemenudefaults": {
           "bgcolor": "#506784",
           "borderwidth": 0
          },
          "xaxis": {
           "automargin": true,
           "gridcolor": "#283442",
           "linecolor": "#506784",
           "ticks": "",
           "title": {
            "standoff": 15
           },
           "zerolinecolor": "#283442",
           "zerolinewidth": 2
          },
          "yaxis": {
           "automargin": true,
           "gridcolor": "#283442",
           "linecolor": "#506784",
           "ticks": "",
           "title": {
            "standoff": 15
           },
           "zerolinecolor": "#283442",
           "zerolinewidth": 2
          }
         }
        },
        "width": 800
       }
      }
     },
     "metadata": {},
     "output_type": "display_data"
    }
   ],
   "source": [
    "# Visualização das sigmoides tridimensionais em um único gráfico\n",
    "\n",
    "trace = go.Mesh3d(\n",
    "    x=df_atrasado_multinomial['dist'], \n",
    "    y=df_atrasado_multinomial['sem'],\n",
    "    z=df_atrasado_multinomial[0],\n",
    "    opacity=1,\n",
    "    color='indigo')\n",
    "\n",
    "layout = go.Layout(\n",
    "    margin={'l': 0, 'r': 0, 'b': 0, 't': 0},\n",
    "    width=800,\n",
    "    height=800\n",
    ")\n",
    "\n",
    "data = [trace]\n",
    "\n",
    "plot_figure = go.Figure(data=data, layout=layout)\n",
    "\n",
    "trace_1 = go.Mesh3d(\n",
    "            x=df_atrasado_multinomial['dist'], \n",
    "            y=df_atrasado_multinomial['sem'],\n",
    "            z=df_atrasado_multinomial[1],\n",
    "            opacity=1,\n",
    "            color='darkgreen')\n",
    "\n",
    "plot_figure.add_trace(trace_1)\n",
    "\n",
    "trace_2 = go.Mesh3d(\n",
    "            x=df_atrasado_multinomial['dist'], \n",
    "            y=df_atrasado_multinomial['sem'],\n",
    "            z=df_atrasado_multinomial[2],\n",
    "            opacity=1,\n",
    "            color='darkorange')\n",
    "\n",
    "\n",
    "plot_figure.add_trace(trace_2)\n",
    "\n",
    "plot_figure.update_layout(\n",
    "    template='plotly_dark',\n",
    "    scene = dict(\n",
    "        xaxis_title='dist',\n",
    "        yaxis_title='sem',\n",
    "        zaxis_title='probabilidades')\n",
    "    )\n",
    "\n",
    "plot_figure.show()"
   ]
  },
  {
   "cell_type": "code",
   "execution_count": null,
   "metadata": {},
   "outputs": [],
   "source": []
  }
 ],
 "metadata": {
  "kernelspec": {
   "display_name": ".venv",
   "language": "python",
   "name": "python3"
  },
  "language_info": {
   "codemirror_mode": {
    "name": "ipython",
    "version": 3
   },
   "file_extension": ".py",
   "mimetype": "text/x-python",
   "name": "python",
   "nbconvert_exporter": "python",
   "pygments_lexer": "ipython3",
   "version": "3.12.1"
  }
 },
 "nbformat": 4,
 "nbformat_minor": 2
}
