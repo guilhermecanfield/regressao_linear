{
 "cells": [
  {
   "cell_type": "code",
   "execution_count": 1,
   "metadata": {},
   "outputs": [],
   "source": [
    "import pandas as pd # manipulação de dados em formato de dataframe\n",
    "import numpy as np # operações matemáticas\n",
    "import seaborn as sns # visualização gráfica\n",
    "import matplotlib.pyplot as plt # visualização gráfica\n",
    "import plotly.graph_objects as go # gráficos 3D\n",
    "from scipy.stats import pearsonr # correlações de Pearson\n",
    "import statsmodels.api as sm # estimação de modelos\n",
    "from statsmodels.iolib.summary2 import summary_col # comparação entre modelos\n",
    "from sklearn.preprocessing import LabelEncoder # transformação de dados\n",
    "import pingouin as pg # outro modo para obtenção de matrizes de correlações\n",
    "import emojis # inserção de emojis em gráficos\n",
    "from statstests.process import stepwise # procedimento Stepwise\n",
    "from statstests.tests import shapiro_francia # teste de Shapiro-Francia\n",
    "from scipy.stats import boxcox # transformação de Box-Cox\n",
    "from scipy.stats import norm # para plotagem da curva normal\n",
    "from scipy import stats # utilizado na definição da função 'breusch_pagan_test'"
   ]
  },
  {
   "cell_type": "code",
   "execution_count": 6,
   "metadata": {},
   "outputs": [
    {
     "name": "stdout",
     "output_type": "stream",
     "text": [
      "<class 'pandas.core.frame.DataFrame'>\n",
      "RangeIndex: 50 entries, 0 to 49\n",
      "Data columns (total 3 columns):\n",
      " #   Column  Non-Null Count  Dtype  \n",
      "---  ------  --------------  -----  \n",
      " 0   pais    50 non-null     object \n",
      " 1   cpi     50 non-null     float64\n",
      " 2   regiao  50 non-null     object \n",
      "dtypes: float64(1), object(2)\n",
      "memory usage: 1.3+ KB\n"
     ]
    }
   ],
   "source": [
    "# In[EXEMPLO 3]:\n",
    "#############################################################################\n",
    "#         REGRESSÃO COM UMA VARIÁVEL EXPLICATIVA (X) QUALITATIVA            #\n",
    "#               EXEMPLO 3 - CARREGAMENTO DA BASE DE DADOS                   #\n",
    "#############################################################################\n",
    "\n",
    "df_corrupcao = pd.read_csv('data/corrupcao.csv',delimiter=',',encoding='utf-8')\n",
    "df_corrupcao\n",
    "\n",
    "# Características das variáveis do dataset\n",
    "df_corrupcao.info()"
   ]
  },
  {
   "cell_type": "code",
   "execution_count": 7,
   "metadata": {},
   "outputs": [
    {
     "data": {
      "text/html": [
       "<div>\n",
       "<style scoped>\n",
       "    .dataframe tbody tr th:only-of-type {\n",
       "        vertical-align: middle;\n",
       "    }\n",
       "\n",
       "    .dataframe tbody tr th {\n",
       "        vertical-align: top;\n",
       "    }\n",
       "\n",
       "    .dataframe thead th {\n",
       "        text-align: right;\n",
       "    }\n",
       "</style>\n",
       "<table border=\"1\" class=\"dataframe\">\n",
       "  <thead>\n",
       "    <tr style=\"text-align: right;\">\n",
       "      <th></th>\n",
       "      <th>cpi</th>\n",
       "    </tr>\n",
       "  </thead>\n",
       "  <tbody>\n",
       "    <tr>\n",
       "      <th>count</th>\n",
       "      <td>50.000000</td>\n",
       "    </tr>\n",
       "    <tr>\n",
       "      <th>mean</th>\n",
       "      <td>4.894000</td>\n",
       "    </tr>\n",
       "    <tr>\n",
       "      <th>std</th>\n",
       "      <td>2.678974</td>\n",
       "    </tr>\n",
       "    <tr>\n",
       "      <th>min</th>\n",
       "      <td>0.800000</td>\n",
       "    </tr>\n",
       "    <tr>\n",
       "      <th>25%</th>\n",
       "      <td>2.575000</td>\n",
       "    </tr>\n",
       "    <tr>\n",
       "      <th>50%</th>\n",
       "      <td>3.950000</td>\n",
       "    </tr>\n",
       "    <tr>\n",
       "      <th>75%</th>\n",
       "      <td>7.475000</td>\n",
       "    </tr>\n",
       "    <tr>\n",
       "      <th>max</th>\n",
       "      <td>9.300000</td>\n",
       "    </tr>\n",
       "  </tbody>\n",
       "</table>\n",
       "</div>"
      ],
      "text/plain": [
       "             cpi\n",
       "count  50.000000\n",
       "mean    4.894000\n",
       "std     2.678974\n",
       "min     0.800000\n",
       "25%     2.575000\n",
       "50%     3.950000\n",
       "75%     7.475000\n",
       "max     9.300000"
      ]
     },
     "execution_count": 7,
     "metadata": {},
     "output_type": "execute_result"
    }
   ],
   "source": [
    "# Estatísticas univariadas\n",
    "df_corrupcao.describe()"
   ]
  },
  {
   "cell_type": "code",
   "execution_count": 8,
   "metadata": {},
   "outputs": [
    {
     "data": {
      "text/html": [
       "<div>\n",
       "<style scoped>\n",
       "    .dataframe tbody tr th:only-of-type {\n",
       "        vertical-align: middle;\n",
       "    }\n",
       "\n",
       "    .dataframe tbody tr th {\n",
       "        vertical-align: top;\n",
       "    }\n",
       "\n",
       "    .dataframe thead tr th {\n",
       "        text-align: left;\n",
       "    }\n",
       "\n",
       "    .dataframe thead tr:last-of-type th {\n",
       "        text-align: right;\n",
       "    }\n",
       "</style>\n",
       "<table border=\"1\" class=\"dataframe\">\n",
       "  <thead>\n",
       "    <tr>\n",
       "      <th></th>\n",
       "      <th colspan=\"8\" halign=\"left\">cpi</th>\n",
       "    </tr>\n",
       "    <tr>\n",
       "      <th></th>\n",
       "      <th>count</th>\n",
       "      <th>mean</th>\n",
       "      <th>std</th>\n",
       "      <th>min</th>\n",
       "      <th>25%</th>\n",
       "      <th>50%</th>\n",
       "      <th>75%</th>\n",
       "      <th>max</th>\n",
       "    </tr>\n",
       "    <tr>\n",
       "      <th>regiao</th>\n",
       "      <th></th>\n",
       "      <th></th>\n",
       "      <th></th>\n",
       "      <th></th>\n",
       "      <th></th>\n",
       "      <th></th>\n",
       "      <th></th>\n",
       "      <th></th>\n",
       "    </tr>\n",
       "  </thead>\n",
       "  <tbody>\n",
       "    <tr>\n",
       "      <th>America_do_sul</th>\n",
       "      <td>5.0</td>\n",
       "      <td>4.180000</td>\n",
       "      <td>1.237740</td>\n",
       "      <td>2.8</td>\n",
       "      <td>3.900</td>\n",
       "      <td>4.00</td>\n",
       "      <td>4.000</td>\n",
       "      <td>6.2</td>\n",
       "    </tr>\n",
       "    <tr>\n",
       "      <th>Asia</th>\n",
       "      <td>17.0</td>\n",
       "      <td>2.329412</td>\n",
       "      <td>0.898446</td>\n",
       "      <td>0.8</td>\n",
       "      <td>1.800</td>\n",
       "      <td>2.30</td>\n",
       "      <td>2.800</td>\n",
       "      <td>3.8</td>\n",
       "    </tr>\n",
       "    <tr>\n",
       "      <th>EUA_e_Canada</th>\n",
       "      <td>2.0</td>\n",
       "      <td>8.000000</td>\n",
       "      <td>1.272792</td>\n",
       "      <td>7.1</td>\n",
       "      <td>7.550</td>\n",
       "      <td>8.00</td>\n",
       "      <td>8.450</td>\n",
       "      <td>8.9</td>\n",
       "    </tr>\n",
       "    <tr>\n",
       "      <th>Europa</th>\n",
       "      <td>24.0</td>\n",
       "      <td>6.258333</td>\n",
       "      <td>2.272504</td>\n",
       "      <td>2.1</td>\n",
       "      <td>4.275</td>\n",
       "      <td>6.55</td>\n",
       "      <td>8.125</td>\n",
       "      <td>9.3</td>\n",
       "    </tr>\n",
       "    <tr>\n",
       "      <th>Oceania</th>\n",
       "      <td>2.0</td>\n",
       "      <td>9.000000</td>\n",
       "      <td>0.424264</td>\n",
       "      <td>8.7</td>\n",
       "      <td>8.850</td>\n",
       "      <td>9.00</td>\n",
       "      <td>9.150</td>\n",
       "      <td>9.3</td>\n",
       "    </tr>\n",
       "  </tbody>\n",
       "</table>\n",
       "</div>"
      ],
      "text/plain": [
       "                 cpi                                                  \n",
       "               count      mean       std  min    25%   50%    75%  max\n",
       "regiao                                                                \n",
       "America_do_sul   5.0  4.180000  1.237740  2.8  3.900  4.00  4.000  6.2\n",
       "Asia            17.0  2.329412  0.898446  0.8  1.800  2.30  2.800  3.8\n",
       "EUA_e_Canada     2.0  8.000000  1.272792  7.1  7.550  8.00  8.450  8.9\n",
       "Europa          24.0  6.258333  2.272504  2.1  4.275  6.55  8.125  9.3\n",
       "Oceania          2.0  9.000000  0.424264  8.7  8.850  9.00  9.150  9.3"
      ]
     },
     "execution_count": 8,
     "metadata": {},
     "output_type": "execute_result"
    }
   ],
   "source": [
    "# Estatísticas univariadas por região\n",
    "df_corrupcao.groupby('regiao').describe()"
   ]
  },
  {
   "cell_type": "code",
   "execution_count": 4,
   "metadata": {},
   "outputs": [
    {
     "data": {
      "text/html": [
       "<div>\n",
       "<style scoped>\n",
       "    .dataframe tbody tr th:only-of-type {\n",
       "        vertical-align: middle;\n",
       "    }\n",
       "\n",
       "    .dataframe tbody tr th {\n",
       "        vertical-align: top;\n",
       "    }\n",
       "\n",
       "    .dataframe thead th {\n",
       "        text-align: right;\n",
       "    }\n",
       "</style>\n",
       "<table border=\"1\" class=\"dataframe\">\n",
       "  <thead>\n",
       "    <tr style=\"text-align: right;\">\n",
       "      <th></th>\n",
       "      <th>contagem</th>\n",
       "      <th>%</th>\n",
       "    </tr>\n",
       "    <tr>\n",
       "      <th>regiao</th>\n",
       "      <th></th>\n",
       "      <th></th>\n",
       "    </tr>\n",
       "  </thead>\n",
       "  <tbody>\n",
       "    <tr>\n",
       "      <th>Europa</th>\n",
       "      <td>24</td>\n",
       "      <td>0.48</td>\n",
       "    </tr>\n",
       "    <tr>\n",
       "      <th>Asia</th>\n",
       "      <td>17</td>\n",
       "      <td>0.34</td>\n",
       "    </tr>\n",
       "    <tr>\n",
       "      <th>America_do_sul</th>\n",
       "      <td>5</td>\n",
       "      <td>0.10</td>\n",
       "    </tr>\n",
       "    <tr>\n",
       "      <th>Oceania</th>\n",
       "      <td>2</td>\n",
       "      <td>0.04</td>\n",
       "    </tr>\n",
       "    <tr>\n",
       "      <th>EUA_e_Canada</th>\n",
       "      <td>2</td>\n",
       "      <td>0.04</td>\n",
       "    </tr>\n",
       "  </tbody>\n",
       "</table>\n",
       "</div>"
      ],
      "text/plain": [
       "                contagem     %\n",
       "regiao                        \n",
       "Europa                24  0.48\n",
       "Asia                  17  0.34\n",
       "America_do_sul         5  0.10\n",
       "Oceania                2  0.04\n",
       "EUA_e_Canada           2  0.04"
      ]
     },
     "execution_count": 4,
     "metadata": {},
     "output_type": "execute_result"
    }
   ],
   "source": [
    "# In[3.1]: Tabela de frequências da variável 'regiao'\n",
    "\n",
    "# Função 'value_counts' do pacote 'pandas' sem e com o argumento 'normalize'\n",
    "#para gerar, respectivamente, as contagens e os percentuais\n",
    "contagem = df_corrupcao['regiao'].value_counts(dropna=False)\n",
    "percent = df_corrupcao['regiao'].value_counts(dropna=False, normalize=True)\n",
    "pd.concat([contagem, percent], axis=1, keys=['contagem', '%'], sort=False)"
   ]
  },
  {
   "cell_type": "code",
   "execution_count": 9,
   "metadata": {},
   "outputs": [
    {
     "data": {
      "text/html": [
       "<div>\n",
       "<style scoped>\n",
       "    .dataframe tbody tr th:only-of-type {\n",
       "        vertical-align: middle;\n",
       "    }\n",
       "\n",
       "    .dataframe tbody tr th {\n",
       "        vertical-align: top;\n",
       "    }\n",
       "\n",
       "    .dataframe thead th {\n",
       "        text-align: right;\n",
       "    }\n",
       "</style>\n",
       "<table border=\"1\" class=\"dataframe\">\n",
       "  <thead>\n",
       "    <tr style=\"text-align: right;\">\n",
       "      <th></th>\n",
       "      <th>pais</th>\n",
       "      <th>cpi</th>\n",
       "      <th>regiao</th>\n",
       "      <th>regiao_numerico</th>\n",
       "    </tr>\n",
       "  </thead>\n",
       "  <tbody>\n",
       "    <tr>\n",
       "      <th>0</th>\n",
       "      <td>Argentina</td>\n",
       "      <td>3.9</td>\n",
       "      <td>America_do_sul</td>\n",
       "      <td>1</td>\n",
       "    </tr>\n",
       "    <tr>\n",
       "      <th>1</th>\n",
       "      <td>Australia</td>\n",
       "      <td>8.7</td>\n",
       "      <td>Oceania</td>\n",
       "      <td>5</td>\n",
       "    </tr>\n",
       "    <tr>\n",
       "      <th>2</th>\n",
       "      <td>Austria</td>\n",
       "      <td>7.9</td>\n",
       "      <td>Europa</td>\n",
       "      <td>4</td>\n",
       "    </tr>\n",
       "    <tr>\n",
       "      <th>3</th>\n",
       "      <td>Belgium</td>\n",
       "      <td>7.1</td>\n",
       "      <td>Europa</td>\n",
       "      <td>4</td>\n",
       "    </tr>\n",
       "    <tr>\n",
       "      <th>4</th>\n",
       "      <td>Brazil</td>\n",
       "      <td>4.0</td>\n",
       "      <td>America_do_sul</td>\n",
       "      <td>1</td>\n",
       "    </tr>\n",
       "    <tr>\n",
       "      <th>5</th>\n",
       "      <td>Canada</td>\n",
       "      <td>8.9</td>\n",
       "      <td>EUA_e_Canada</td>\n",
       "      <td>3</td>\n",
       "    </tr>\n",
       "    <tr>\n",
       "      <th>6</th>\n",
       "      <td>Chile</td>\n",
       "      <td>6.2</td>\n",
       "      <td>America_do_sul</td>\n",
       "      <td>1</td>\n",
       "    </tr>\n",
       "    <tr>\n",
       "      <th>7</th>\n",
       "      <td>China</td>\n",
       "      <td>2.5</td>\n",
       "      <td>Asia</td>\n",
       "      <td>2</td>\n",
       "    </tr>\n",
       "    <tr>\n",
       "      <th>8</th>\n",
       "      <td>Colombia</td>\n",
       "      <td>4.0</td>\n",
       "      <td>America_do_sul</td>\n",
       "      <td>1</td>\n",
       "    </tr>\n",
       "    <tr>\n",
       "      <th>9</th>\n",
       "      <td>Cyprus</td>\n",
       "      <td>6.3</td>\n",
       "      <td>Europa</td>\n",
       "      <td>4</td>\n",
       "    </tr>\n",
       "  </tbody>\n",
       "</table>\n",
       "</div>"
      ],
      "text/plain": [
       "        pais  cpi          regiao  regiao_numerico\n",
       "0  Argentina  3.9  America_do_sul                1\n",
       "1  Australia  8.7         Oceania                5\n",
       "2    Austria  7.9          Europa                4\n",
       "3    Belgium  7.1          Europa                4\n",
       "4     Brazil  4.0  America_do_sul                1\n",
       "5     Canada  8.9    EUA_e_Canada                3\n",
       "6      Chile  6.2  America_do_sul                1\n",
       "7      China  2.5            Asia                2\n",
       "8   Colombia  4.0  America_do_sul                1\n",
       "9     Cyprus  6.3          Europa                4"
      ]
     },
     "execution_count": 9,
     "metadata": {},
     "output_type": "execute_result"
    }
   ],
   "source": [
    "# In[3.2]: Conversão dos dados de 'regiao' para dados numéricos, a fim de\n",
    "#se mostrar a estimação de modelo com o problema da ponderação arbitrária\n",
    "\n",
    "label_encoder = LabelEncoder()\n",
    "df_corrupcao['regiao_numerico'] = label_encoder.fit_transform(df_corrupcao['regiao'])\n",
    "df_corrupcao['regiao_numerico'] = df_corrupcao['regiao_numerico'] + 1\n",
    "df_corrupcao.head(10)"
   ]
  },
  {
   "cell_type": "code",
   "execution_count": 10,
   "metadata": {},
   "outputs": [
    {
     "name": "stdout",
     "output_type": "stream",
     "text": [
      "<class 'pandas.core.series.Series'>\n",
      "RangeIndex: 50 entries, 0 to 49\n",
      "Series name: regiao_numerico\n",
      "Non-Null Count  Dtype\n",
      "--------------  -----\n",
      "50 non-null     int64\n",
      "dtypes: int64(1)\n",
      "memory usage: 532.0 bytes\n"
     ]
    },
    {
     "data": {
      "text/html": [
       "<div>\n",
       "<style scoped>\n",
       "    .dataframe tbody tr th:only-of-type {\n",
       "        vertical-align: middle;\n",
       "    }\n",
       "\n",
       "    .dataframe tbody tr th {\n",
       "        vertical-align: top;\n",
       "    }\n",
       "\n",
       "    .dataframe thead th {\n",
       "        text-align: right;\n",
       "    }\n",
       "</style>\n",
       "<table border=\"1\" class=\"dataframe\">\n",
       "  <thead>\n",
       "    <tr style=\"text-align: right;\">\n",
       "      <th></th>\n",
       "      <th>cpi</th>\n",
       "      <th>regiao_numerico</th>\n",
       "    </tr>\n",
       "  </thead>\n",
       "  <tbody>\n",
       "    <tr>\n",
       "      <th>count</th>\n",
       "      <td>50.000000</td>\n",
       "      <td>50.000000</td>\n",
       "    </tr>\n",
       "    <tr>\n",
       "      <th>mean</th>\n",
       "      <td>4.894000</td>\n",
       "      <td>3.020000</td>\n",
       "    </tr>\n",
       "    <tr>\n",
       "      <th>std</th>\n",
       "      <td>2.678974</td>\n",
       "      <td>1.186489</td>\n",
       "    </tr>\n",
       "    <tr>\n",
       "      <th>min</th>\n",
       "      <td>0.800000</td>\n",
       "      <td>1.000000</td>\n",
       "    </tr>\n",
       "    <tr>\n",
       "      <th>25%</th>\n",
       "      <td>2.575000</td>\n",
       "      <td>2.000000</td>\n",
       "    </tr>\n",
       "    <tr>\n",
       "      <th>50%</th>\n",
       "      <td>3.950000</td>\n",
       "      <td>4.000000</td>\n",
       "    </tr>\n",
       "    <tr>\n",
       "      <th>75%</th>\n",
       "      <td>7.475000</td>\n",
       "      <td>4.000000</td>\n",
       "    </tr>\n",
       "    <tr>\n",
       "      <th>max</th>\n",
       "      <td>9.300000</td>\n",
       "      <td>5.000000</td>\n",
       "    </tr>\n",
       "  </tbody>\n",
       "</table>\n",
       "</div>"
      ],
      "text/plain": [
       "             cpi  regiao_numerico\n",
       "count  50.000000        50.000000\n",
       "mean    4.894000         3.020000\n",
       "std     2.678974         1.186489\n",
       "min     0.800000         1.000000\n",
       "25%     2.575000         2.000000\n",
       "50%     3.950000         4.000000\n",
       "75%     7.475000         4.000000\n",
       "max     9.300000         5.000000"
      ]
     },
     "execution_count": 10,
     "metadata": {},
     "output_type": "execute_result"
    }
   ],
   "source": [
    "# A nova variável 'regiao_numerico' é quantitativa (ERRO!), fato que\n",
    "#caracteriza a ponderação arbitrária!\n",
    "df_corrupcao['regiao_numerico'].info()\n",
    "df_corrupcao.describe()"
   ]
  },
  {
   "cell_type": "code",
   "execution_count": 12,
   "metadata": {},
   "outputs": [
    {
     "name": "stdout",
     "output_type": "stream",
     "text": [
      "                            OLS Regression Results                            \n",
      "==============================================================================\n",
      "Dep. Variable:                    cpi   R-squared:                       0.411\n",
      "Model:                            OLS   Adj. R-squared:                  0.399\n",
      "Method:                 Least Squares   F-statistic:                     33.56\n",
      "Date:                Tue, 06 Aug 2024   Prob (F-statistic):           5.19e-07\n",
      "Time:                        06:37:11   Log-Likelihood:                -106.46\n",
      "No. Observations:                  50   AIC:                             216.9\n",
      "Df Residuals:                      48   BIC:                             220.7\n",
      "Df Model:                           1                                         \n",
      "Covariance Type:            nonrobust                                         \n",
      "===================================================================================\n",
      "                      coef    std err          t      P>|t|      [0.025      0.975]\n",
      "-----------------------------------------------------------------------------------\n",
      "Intercept           0.5200      0.810      0.642      0.524      -1.109       2.149\n",
      "regiao_numerico     1.4483      0.250      5.793      0.000       0.946       1.951\n",
      "==============================================================================\n",
      "Omnibus:                        2.392   Durbin-Watson:                   1.464\n",
      "Prob(Omnibus):                  0.302   Jarque-Bera (JB):                1.392\n",
      "Skew:                           0.027   Prob(JB):                        0.499\n",
      "Kurtosis:                       2.184   Cond. No.                         9.69\n",
      "==============================================================================\n",
      "\n",
      "Notes:\n",
      "[1] Standard Errors assume that the covariance matrix of the errors is correctly specified.\n"
     ]
    }
   ],
   "source": [
    "# In[3.3]: Modelando com a variável preditora numérica, resultando na\n",
    "#estimação ERRADA dos parâmetros\n",
    "# PONDERAÇÃO ARBITRÁRIA!\n",
    "modelo_corrupcao_errado = sm.OLS.from_formula(\"cpi ~ regiao_numerico\",\n",
    "                                              df_corrupcao).fit()\n",
    "\n",
    "# Parâmetros do 'modelo_corrupcao_errado'\n",
    "print(modelo_corrupcao_errado.summary())"
   ]
  },
  {
   "cell_type": "code",
   "execution_count": 13,
   "metadata": {},
   "outputs": [
    {
     "data": {
      "image/png": "[encoded data removed]",
      "text/plain": [
       "<Figure size 1500x1000 with 1 Axes>"
      ]
     },
     "metadata": {},
     "output_type": "display_data"
    }
   ],
   "source": [
    "# In[3.4]: Plotando os fitted values do 'modelo_corrupcao_errado' considerando,\n",
    "#PROPOSITALMENTE, a ponderação arbitrária, ou seja, assumindo que as regiões\n",
    "#representam valores numéricos (América do Sul = 1; Ásia = 2; EUA e Canadá = 3;\n",
    "#Europa = 4; Oceania = 5).\n",
    "\n",
    "plt.figure(figsize=(15,10))\n",
    "\n",
    "ax =sns.regplot(\n",
    "    data=df_corrupcao,\n",
    "    x=\"regiao_numerico\", y=\"cpi\",\n",
    "    scatter_kws={\"s\": 200, \"color\": \"darkorange\", \"alpha\": 0.5},\n",
    "    line_kws={\"color\": \"indigo\"}\n",
    ")\n",
    "\n",
    "def label_point(x, y, val, ax):\n",
    "    a = pd.concat({'x': x, 'y': y, 'val': val}, axis=1)\n",
    "    for i, point in a.iterrows():\n",
    "        offset = 0\n",
    "        while ax.texts:\n",
    "            overlapping = False\n",
    "            for text in ax.texts:\n",
    "                overlapping |= text.get_position()[0] == (point['x'] + 0.05) and text.get_position()[1] == (point['y'] - 0.05 + offset)\n",
    "            if overlapping:\n",
    "                offset += 0.15\n",
    "            else:\n",
    "                break\n",
    "        ax.annotate(str(point['val']) + \" \" + str(point['y']),\n",
    "                    (point['x'] + 0.05,\n",
    "                     point['y'] - 0.05 + offset),\n",
    "                    fontsize=11)\n",
    "                \n",
    "plt.title('Resultado da Ponderação Arbitrária', fontsize=20)\n",
    "plt.xlabel('Região', fontsize=17)\n",
    "plt.ylabel('Corruption Perception Index', fontsize=17)\n",
    "plt.xticks(range(1, 6, 1), fontsize=14)\n",
    "plt.yticks(range(0, 11, 1), fontsize=14)\n",
    "label_point(x = df_corrupcao['regiao_numerico'],\n",
    "            y = df_corrupcao['cpi'],\n",
    "            val = df_corrupcao['pais'],\n",
    "            ax = plt.gca())\n",
    "plt.show()"
   ]
  },
  {
   "cell_type": "code",
   "execution_count": 14,
   "metadata": {},
   "outputs": [
    {
     "name": "stdout",
     "output_type": "stream",
     "text": [
      "<class 'pandas.core.series.Series'>\n",
      "RangeIndex: 50 entries, 0 to 49\n",
      "Series name: regiao\n",
      "Non-Null Count  Dtype \n",
      "--------------  ----- \n",
      "50 non-null     object\n",
      "dtypes: object(1)\n",
      "memory usage: 532.0+ bytes\n"
     ]
    }
   ],
   "source": [
    "# In[3.5]: Dummizando a variável 'regiao'. O código abaixo automaticamente fará:\n",
    "# a) o estabelecimento de dummies que representarão cada uma das regiões do dataset;\n",
    "# b) removerá a variável original a partir da qual houve a dummização;\n",
    "# c) estabelecerá como categoria de referência a primeira categoria, ou seja,\n",
    "#a categoria 'America_do_sul' por meio do argumento 'drop_first=True'.\n",
    "\n",
    "df_corrupcao_dummies = pd.get_dummies(df_corrupcao, columns=['regiao'],\n",
    "                                      dtype=int,\n",
    "                                      drop_first=True)\n",
    "\n",
    "df_corrupcao_dummies\n",
    "\n",
    "# A variável 'regiao' estava inicialmente definida como 'object' no dataframe\n",
    "#original 'df_corrupcao'\n",
    "df_corrupcao['regiao'].info()\n",
    "\n",
    "# Este procedimento de dummização também poderia ter sido realizado em uma\n",
    "#variável do tipo 'category' ou 'string'!"
   ]
  },
  {
   "cell_type": "code",
   "execution_count": 16,
   "metadata": {},
   "outputs": [
    {
     "name": "stdout",
     "output_type": "stream",
     "text": [
      "                            OLS Regression Results                            \n",
      "==============================================================================\n",
      "Dep. Variable:                    cpi   R-squared:                       0.603\n",
      "Model:                            OLS   Adj. R-squared:                  0.568\n",
      "Method:                 Least Squares   F-statistic:                     17.09\n",
      "Date:                Tue, 06 Aug 2024   Prob (F-statistic):           1.37e-08\n",
      "Time:                        06:39:18   Log-Likelihood:                -96.620\n",
      "No. Observations:                  50   AIC:                             203.2\n",
      "Df Residuals:                      45   BIC:                             212.8\n",
      "Df Model:                           4                                         \n",
      "Covariance Type:            nonrobust                                         \n",
      "=======================================================================================\n",
      "                          coef    std err          t      P>|t|      [0.025      0.975]\n",
      "---------------------------------------------------------------------------------------\n",
      "Intercept               4.1800      0.788      5.306      0.000       2.593       5.767\n",
      "regiao_Asia            -1.8506      0.896     -2.065      0.045      -3.655      -0.046\n",
      "regiao_EUA_e_Canada     3.8200      1.474      2.592      0.013       0.852       6.788\n",
      "regiao_Europa           2.0783      0.866      2.400      0.021       0.334       3.822\n",
      "regiao_Oceania          4.8200      1.474      3.271      0.002       1.852       7.788\n",
      "==============================================================================\n",
      "Omnibus:                        1.205   Durbin-Watson:                   1.928\n",
      "Prob(Omnibus):                  0.547   Jarque-Bera (JB):                1.083\n",
      "Skew:                          -0.347   Prob(JB):                        0.582\n",
      "Kurtosis:                       2.804   Cond. No.                         9.35\n",
      "==============================================================================\n",
      "\n",
      "Notes:\n",
      "[1] Standard Errors assume that the covariance matrix of the errors is correctly specified.\n"
     ]
    }
   ],
   "source": [
    "# In[3.6]: Estimação do modelo de regressão múltipla com n-1 dummies\n",
    "\n",
    "modelo_corrupcao_dummies = sm.OLS.from_formula(\"cpi ~ regiao_Asia + \\\n",
    "                                              regiao_EUA_e_Canada + \\\n",
    "                                              regiao_Europa + \\\n",
    "                                              regiao_Oceania\",\n",
    "                                              df_corrupcao_dummies).fit()\n",
    "\n",
    "# Parâmetros do 'modelo_corrupcao_dummies'\n",
    "print(modelo_corrupcao_dummies.summary())"
   ]
  },
  {
   "cell_type": "code",
   "execution_count": 18,
   "metadata": {},
   "outputs": [
    {
     "name": "stdout",
     "output_type": "stream",
     "text": [
      "Fórmula utilizada:  cpi ~ regiao_Asia + regiao_EUA_e_Canada + regiao_Europa + regiao_Oceania\n",
      "                            OLS Regression Results                            \n",
      "==============================================================================\n",
      "Dep. Variable:                    cpi   R-squared:                       0.603\n",
      "Model:                            OLS   Adj. R-squared:                  0.568\n",
      "Method:                 Least Squares   F-statistic:                     17.09\n",
      "Date:                Tue, 06 Aug 2024   Prob (F-statistic):           1.37e-08\n",
      "Time:                        06:39:45   Log-Likelihood:                -96.620\n",
      "No. Observations:                  50   AIC:                             203.2\n",
      "Df Residuals:                      45   BIC:                             212.8\n",
      "Df Model:                           4                                         \n",
      "Covariance Type:            nonrobust                                         \n",
      "=======================================================================================\n",
      "                          coef    std err          t      P>|t|      [0.025      0.975]\n",
      "---------------------------------------------------------------------------------------\n",
      "Intercept               4.1800      0.788      5.306      0.000       2.593       5.767\n",
      "regiao_Asia            -1.8506      0.896     -2.065      0.045      -3.655      -0.046\n",
      "regiao_EUA_e_Canada     3.8200      1.474      2.592      0.013       0.852       6.788\n",
      "regiao_Europa           2.0783      0.866      2.400      0.021       0.334       3.822\n",
      "regiao_Oceania          4.8200      1.474      3.271      0.002       1.852       7.788\n",
      "==============================================================================\n",
      "Omnibus:                        1.205   Durbin-Watson:                   1.928\n",
      "Prob(Omnibus):                  0.547   Jarque-Bera (JB):                1.083\n",
      "Skew:                          -0.347   Prob(JB):                        0.582\n",
      "Kurtosis:                       2.804   Cond. No.                         9.35\n",
      "==============================================================================\n",
      "\n",
      "Notes:\n",
      "[1] Standard Errors assume that the covariance matrix of the errors is correctly specified.\n"
     ]
    }
   ],
   "source": [
    "# In[3.7]: Outro método de estimação (sugestão de uso para muitas dummies no dataset)\n",
    "\n",
    "# Definição da fórmula utilizada no modelo\n",
    "lista_colunas = list(df_corrupcao_dummies.drop(columns=['cpi','pais',\n",
    "                                                        'regiao_numerico']).columns)\n",
    "formula_dummies_modelo = ' + '.join(lista_colunas)\n",
    "formula_dummies_modelo = \"cpi ~ \" + formula_dummies_modelo\n",
    "print(\"Fórmula utilizada: \",formula_dummies_modelo)\n",
    "\n",
    "# Estimação\n",
    "modelo_corrupcao_dummies = sm.OLS.from_formula(formula_dummies_modelo,\n",
    "                                               df_corrupcao_dummies).fit()\n",
    "\n",
    "# Parâmetros do 'modelo_corrupcao_dummies'\n",
    "print(modelo_corrupcao_dummies.summary())"
   ]
  },
  {
   "cell_type": "code",
   "execution_count": 19,
   "metadata": {},
   "outputs": [
    {
     "data": {
      "text/html": [
       "<div>\n",
       "<style scoped>\n",
       "    .dataframe tbody tr th:only-of-type {\n",
       "        vertical-align: middle;\n",
       "    }\n",
       "\n",
       "    .dataframe tbody tr th {\n",
       "        vertical-align: top;\n",
       "    }\n",
       "\n",
       "    .dataframe thead th {\n",
       "        text-align: right;\n",
       "    }\n",
       "</style>\n",
       "<table border=\"1\" class=\"dataframe\">\n",
       "  <thead>\n",
       "    <tr style=\"text-align: right;\">\n",
       "      <th></th>\n",
       "      <th>pais</th>\n",
       "      <th>cpi</th>\n",
       "      <th>regiao_numerico</th>\n",
       "      <th>regiao_Asia</th>\n",
       "      <th>regiao_EUA_e_Canada</th>\n",
       "      <th>regiao_Europa</th>\n",
       "      <th>regiao_Oceania</th>\n",
       "      <th>fitted</th>\n",
       "    </tr>\n",
       "  </thead>\n",
       "  <tbody>\n",
       "    <tr>\n",
       "      <th>0</th>\n",
       "      <td>Argentina</td>\n",
       "      <td>3.9</td>\n",
       "      <td>1</td>\n",
       "      <td>0</td>\n",
       "      <td>0</td>\n",
       "      <td>0</td>\n",
       "      <td>0</td>\n",
       "      <td>4.180000</td>\n",
       "    </tr>\n",
       "    <tr>\n",
       "      <th>1</th>\n",
       "      <td>Australia</td>\n",
       "      <td>8.7</td>\n",
       "      <td>5</td>\n",
       "      <td>0</td>\n",
       "      <td>0</td>\n",
       "      <td>0</td>\n",
       "      <td>1</td>\n",
       "      <td>9.000000</td>\n",
       "    </tr>\n",
       "    <tr>\n",
       "      <th>2</th>\n",
       "      <td>Austria</td>\n",
       "      <td>7.9</td>\n",
       "      <td>4</td>\n",
       "      <td>0</td>\n",
       "      <td>0</td>\n",
       "      <td>1</td>\n",
       "      <td>0</td>\n",
       "      <td>6.258333</td>\n",
       "    </tr>\n",
       "    <tr>\n",
       "      <th>3</th>\n",
       "      <td>Belgium</td>\n",
       "      <td>7.1</td>\n",
       "      <td>4</td>\n",
       "      <td>0</td>\n",
       "      <td>0</td>\n",
       "      <td>1</td>\n",
       "      <td>0</td>\n",
       "      <td>6.258333</td>\n",
       "    </tr>\n",
       "    <tr>\n",
       "      <th>4</th>\n",
       "      <td>Brazil</td>\n",
       "      <td>4.0</td>\n",
       "      <td>1</td>\n",
       "      <td>0</td>\n",
       "      <td>0</td>\n",
       "      <td>0</td>\n",
       "      <td>0</td>\n",
       "      <td>4.180000</td>\n",
       "    </tr>\n",
       "    <tr>\n",
       "      <th>5</th>\n",
       "      <td>Canada</td>\n",
       "      <td>8.9</td>\n",
       "      <td>3</td>\n",
       "      <td>0</td>\n",
       "      <td>1</td>\n",
       "      <td>0</td>\n",
       "      <td>0</td>\n",
       "      <td>8.000000</td>\n",
       "    </tr>\n",
       "    <tr>\n",
       "      <th>6</th>\n",
       "      <td>Chile</td>\n",
       "      <td>6.2</td>\n",
       "      <td>1</td>\n",
       "      <td>0</td>\n",
       "      <td>0</td>\n",
       "      <td>0</td>\n",
       "      <td>0</td>\n",
       "      <td>4.180000</td>\n",
       "    </tr>\n",
       "    <tr>\n",
       "      <th>7</th>\n",
       "      <td>China</td>\n",
       "      <td>2.5</td>\n",
       "      <td>2</td>\n",
       "      <td>1</td>\n",
       "      <td>0</td>\n",
       "      <td>0</td>\n",
       "      <td>0</td>\n",
       "      <td>2.329412</td>\n",
       "    </tr>\n",
       "    <tr>\n",
       "      <th>8</th>\n",
       "      <td>Colombia</td>\n",
       "      <td>4.0</td>\n",
       "      <td>1</td>\n",
       "      <td>0</td>\n",
       "      <td>0</td>\n",
       "      <td>0</td>\n",
       "      <td>0</td>\n",
       "      <td>4.180000</td>\n",
       "    </tr>\n",
       "    <tr>\n",
       "      <th>9</th>\n",
       "      <td>Cyprus</td>\n",
       "      <td>6.3</td>\n",
       "      <td>4</td>\n",
       "      <td>0</td>\n",
       "      <td>0</td>\n",
       "      <td>1</td>\n",
       "      <td>0</td>\n",
       "      <td>6.258333</td>\n",
       "    </tr>\n",
       "    <tr>\n",
       "      <th>10</th>\n",
       "      <td>Czech Rep.</td>\n",
       "      <td>4.6</td>\n",
       "      <td>4</td>\n",
       "      <td>0</td>\n",
       "      <td>0</td>\n",
       "      <td>1</td>\n",
       "      <td>0</td>\n",
       "      <td>6.258333</td>\n",
       "    </tr>\n",
       "    <tr>\n",
       "      <th>11</th>\n",
       "      <td>Denmark</td>\n",
       "      <td>9.3</td>\n",
       "      <td>4</td>\n",
       "      <td>0</td>\n",
       "      <td>0</td>\n",
       "      <td>1</td>\n",
       "      <td>0</td>\n",
       "      <td>6.258333</td>\n",
       "    </tr>\n",
       "    <tr>\n",
       "      <th>12</th>\n",
       "      <td>Egypt</td>\n",
       "      <td>2.1</td>\n",
       "      <td>2</td>\n",
       "      <td>1</td>\n",
       "      <td>0</td>\n",
       "      <td>0</td>\n",
       "      <td>0</td>\n",
       "      <td>2.329412</td>\n",
       "    </tr>\n",
       "    <tr>\n",
       "      <th>13</th>\n",
       "      <td>France</td>\n",
       "      <td>6.8</td>\n",
       "      <td>4</td>\n",
       "      <td>0</td>\n",
       "      <td>0</td>\n",
       "      <td>1</td>\n",
       "      <td>0</td>\n",
       "      <td>6.258333</td>\n",
       "    </tr>\n",
       "    <tr>\n",
       "      <th>14</th>\n",
       "      <td>Germany</td>\n",
       "      <td>7.9</td>\n",
       "      <td>4</td>\n",
       "      <td>0</td>\n",
       "      <td>0</td>\n",
       "      <td>1</td>\n",
       "      <td>0</td>\n",
       "      <td>6.258333</td>\n",
       "    </tr>\n",
       "    <tr>\n",
       "      <th>15</th>\n",
       "      <td>Greece</td>\n",
       "      <td>3.5</td>\n",
       "      <td>4</td>\n",
       "      <td>0</td>\n",
       "      <td>0</td>\n",
       "      <td>1</td>\n",
       "      <td>0</td>\n",
       "      <td>6.258333</td>\n",
       "    </tr>\n",
       "    <tr>\n",
       "      <th>16</th>\n",
       "      <td>Iceland</td>\n",
       "      <td>8.5</td>\n",
       "      <td>4</td>\n",
       "      <td>0</td>\n",
       "      <td>0</td>\n",
       "      <td>1</td>\n",
       "      <td>0</td>\n",
       "      <td>6.258333</td>\n",
       "    </tr>\n",
       "    <tr>\n",
       "      <th>17</th>\n",
       "      <td>India</td>\n",
       "      <td>2.3</td>\n",
       "      <td>2</td>\n",
       "      <td>1</td>\n",
       "      <td>0</td>\n",
       "      <td>0</td>\n",
       "      <td>0</td>\n",
       "      <td>2.329412</td>\n",
       "    </tr>\n",
       "    <tr>\n",
       "      <th>18</th>\n",
       "      <td>Indonesia</td>\n",
       "      <td>1.8</td>\n",
       "      <td>2</td>\n",
       "      <td>1</td>\n",
       "      <td>0</td>\n",
       "      <td>0</td>\n",
       "      <td>0</td>\n",
       "      <td>2.329412</td>\n",
       "    </tr>\n",
       "    <tr>\n",
       "      <th>19</th>\n",
       "      <td>Ireland</td>\n",
       "      <td>8.0</td>\n",
       "      <td>4</td>\n",
       "      <td>0</td>\n",
       "      <td>0</td>\n",
       "      <td>1</td>\n",
       "      <td>0</td>\n",
       "      <td>6.258333</td>\n",
       "    </tr>\n",
       "    <tr>\n",
       "      <th>20</th>\n",
       "      <td>Italy</td>\n",
       "      <td>3.9</td>\n",
       "      <td>4</td>\n",
       "      <td>0</td>\n",
       "      <td>0</td>\n",
       "      <td>1</td>\n",
       "      <td>0</td>\n",
       "      <td>6.258333</td>\n",
       "    </tr>\n",
       "    <tr>\n",
       "      <th>21</th>\n",
       "      <td>Kazakhstan</td>\n",
       "      <td>1.9</td>\n",
       "      <td>2</td>\n",
       "      <td>1</td>\n",
       "      <td>0</td>\n",
       "      <td>0</td>\n",
       "      <td>0</td>\n",
       "      <td>2.329412</td>\n",
       "    </tr>\n",
       "    <tr>\n",
       "      <th>22</th>\n",
       "      <td>Kuwait</td>\n",
       "      <td>2.8</td>\n",
       "      <td>2</td>\n",
       "      <td>1</td>\n",
       "      <td>0</td>\n",
       "      <td>0</td>\n",
       "      <td>0</td>\n",
       "      <td>2.329412</td>\n",
       "    </tr>\n",
       "    <tr>\n",
       "      <th>23</th>\n",
       "      <td>Lebanon</td>\n",
       "      <td>1.5</td>\n",
       "      <td>2</td>\n",
       "      <td>1</td>\n",
       "      <td>0</td>\n",
       "      <td>0</td>\n",
       "      <td>0</td>\n",
       "      <td>2.329412</td>\n",
       "    </tr>\n",
       "    <tr>\n",
       "      <th>24</th>\n",
       "      <td>Malaysia</td>\n",
       "      <td>3.4</td>\n",
       "      <td>2</td>\n",
       "      <td>1</td>\n",
       "      <td>0</td>\n",
       "      <td>0</td>\n",
       "      <td>0</td>\n",
       "      <td>2.329412</td>\n",
       "    </tr>\n",
       "    <tr>\n",
       "      <th>25</th>\n",
       "      <td>Netherlands</td>\n",
       "      <td>8.8</td>\n",
       "      <td>4</td>\n",
       "      <td>0</td>\n",
       "      <td>0</td>\n",
       "      <td>1</td>\n",
       "      <td>0</td>\n",
       "      <td>6.258333</td>\n",
       "    </tr>\n",
       "    <tr>\n",
       "      <th>26</th>\n",
       "      <td>New Zealand</td>\n",
       "      <td>9.3</td>\n",
       "      <td>5</td>\n",
       "      <td>0</td>\n",
       "      <td>0</td>\n",
       "      <td>0</td>\n",
       "      <td>1</td>\n",
       "      <td>9.000000</td>\n",
       "    </tr>\n",
       "    <tr>\n",
       "      <th>27</th>\n",
       "      <td>Norway</td>\n",
       "      <td>8.6</td>\n",
       "      <td>4</td>\n",
       "      <td>0</td>\n",
       "      <td>0</td>\n",
       "      <td>1</td>\n",
       "      <td>0</td>\n",
       "      <td>6.258333</td>\n",
       "    </tr>\n",
       "    <tr>\n",
       "      <th>28</th>\n",
       "      <td>Oman</td>\n",
       "      <td>3.3</td>\n",
       "      <td>2</td>\n",
       "      <td>1</td>\n",
       "      <td>0</td>\n",
       "      <td>0</td>\n",
       "      <td>0</td>\n",
       "      <td>2.329412</td>\n",
       "    </tr>\n",
       "    <tr>\n",
       "      <th>29</th>\n",
       "      <td>Philippines</td>\n",
       "      <td>1.4</td>\n",
       "      <td>2</td>\n",
       "      <td>1</td>\n",
       "      <td>0</td>\n",
       "      <td>0</td>\n",
       "      <td>0</td>\n",
       "      <td>2.329412</td>\n",
       "    </tr>\n",
       "    <tr>\n",
       "      <th>30</th>\n",
       "      <td>Poland</td>\n",
       "      <td>5.3</td>\n",
       "      <td>4</td>\n",
       "      <td>0</td>\n",
       "      <td>0</td>\n",
       "      <td>1</td>\n",
       "      <td>0</td>\n",
       "      <td>6.258333</td>\n",
       "    </tr>\n",
       "    <tr>\n",
       "      <th>31</th>\n",
       "      <td>Portugal</td>\n",
       "      <td>6.0</td>\n",
       "      <td>4</td>\n",
       "      <td>0</td>\n",
       "      <td>0</td>\n",
       "      <td>1</td>\n",
       "      <td>0</td>\n",
       "      <td>6.258333</td>\n",
       "    </tr>\n",
       "    <tr>\n",
       "      <th>32</th>\n",
       "      <td>Romania</td>\n",
       "      <td>3.7</td>\n",
       "      <td>4</td>\n",
       "      <td>0</td>\n",
       "      <td>0</td>\n",
       "      <td>1</td>\n",
       "      <td>0</td>\n",
       "      <td>6.258333</td>\n",
       "    </tr>\n",
       "    <tr>\n",
       "      <th>33</th>\n",
       "      <td>Russia</td>\n",
       "      <td>2.1</td>\n",
       "      <td>4</td>\n",
       "      <td>0</td>\n",
       "      <td>0</td>\n",
       "      <td>1</td>\n",
       "      <td>0</td>\n",
       "      <td>6.258333</td>\n",
       "    </tr>\n",
       "    <tr>\n",
       "      <th>34</th>\n",
       "      <td>Saudi Arabia</td>\n",
       "      <td>3.7</td>\n",
       "      <td>2</td>\n",
       "      <td>1</td>\n",
       "      <td>0</td>\n",
       "      <td>0</td>\n",
       "      <td>0</td>\n",
       "      <td>2.329412</td>\n",
       "    </tr>\n",
       "    <tr>\n",
       "      <th>35</th>\n",
       "      <td>Serbia</td>\n",
       "      <td>3.5</td>\n",
       "      <td>4</td>\n",
       "      <td>0</td>\n",
       "      <td>0</td>\n",
       "      <td>1</td>\n",
       "      <td>0</td>\n",
       "      <td>6.258333</td>\n",
       "    </tr>\n",
       "    <tr>\n",
       "      <th>36</th>\n",
       "      <td>South Africa</td>\n",
       "      <td>2.8</td>\n",
       "      <td>2</td>\n",
       "      <td>1</td>\n",
       "      <td>0</td>\n",
       "      <td>0</td>\n",
       "      <td>0</td>\n",
       "      <td>2.329412</td>\n",
       "    </tr>\n",
       "    <tr>\n",
       "      <th>37</th>\n",
       "      <td>Spain</td>\n",
       "      <td>6.1</td>\n",
       "      <td>4</td>\n",
       "      <td>0</td>\n",
       "      <td>0</td>\n",
       "      <td>1</td>\n",
       "      <td>0</td>\n",
       "      <td>6.258333</td>\n",
       "    </tr>\n",
       "    <tr>\n",
       "      <th>38</th>\n",
       "      <td>Sweden</td>\n",
       "      <td>9.2</td>\n",
       "      <td>4</td>\n",
       "      <td>0</td>\n",
       "      <td>0</td>\n",
       "      <td>1</td>\n",
       "      <td>0</td>\n",
       "      <td>6.258333</td>\n",
       "    </tr>\n",
       "    <tr>\n",
       "      <th>39</th>\n",
       "      <td>Switzerland</td>\n",
       "      <td>8.7</td>\n",
       "      <td>4</td>\n",
       "      <td>0</td>\n",
       "      <td>0</td>\n",
       "      <td>1</td>\n",
       "      <td>0</td>\n",
       "      <td>6.258333</td>\n",
       "    </tr>\n",
       "    <tr>\n",
       "      <th>40</th>\n",
       "      <td>Taiwan</td>\n",
       "      <td>3.8</td>\n",
       "      <td>2</td>\n",
       "      <td>1</td>\n",
       "      <td>0</td>\n",
       "      <td>0</td>\n",
       "      <td>0</td>\n",
       "      <td>2.329412</td>\n",
       "    </tr>\n",
       "    <tr>\n",
       "      <th>41</th>\n",
       "      <td>Thailand</td>\n",
       "      <td>2.5</td>\n",
       "      <td>2</td>\n",
       "      <td>1</td>\n",
       "      <td>0</td>\n",
       "      <td>0</td>\n",
       "      <td>0</td>\n",
       "      <td>2.329412</td>\n",
       "    </tr>\n",
       "    <tr>\n",
       "      <th>42</th>\n",
       "      <td>Turkey</td>\n",
       "      <td>4.4</td>\n",
       "      <td>4</td>\n",
       "      <td>0</td>\n",
       "      <td>0</td>\n",
       "      <td>1</td>\n",
       "      <td>0</td>\n",
       "      <td>6.258333</td>\n",
       "    </tr>\n",
       "    <tr>\n",
       "      <th>43</th>\n",
       "      <td>Ukraine</td>\n",
       "      <td>2.4</td>\n",
       "      <td>4</td>\n",
       "      <td>0</td>\n",
       "      <td>0</td>\n",
       "      <td>1</td>\n",
       "      <td>0</td>\n",
       "      <td>6.258333</td>\n",
       "    </tr>\n",
       "    <tr>\n",
       "      <th>44</th>\n",
       "      <td>United Kingdom</td>\n",
       "      <td>7.6</td>\n",
       "      <td>4</td>\n",
       "      <td>0</td>\n",
       "      <td>0</td>\n",
       "      <td>1</td>\n",
       "      <td>0</td>\n",
       "      <td>6.258333</td>\n",
       "    </tr>\n",
       "    <tr>\n",
       "      <th>45</th>\n",
       "      <td>United States</td>\n",
       "      <td>7.1</td>\n",
       "      <td>3</td>\n",
       "      <td>0</td>\n",
       "      <td>1</td>\n",
       "      <td>0</td>\n",
       "      <td>0</td>\n",
       "      <td>8.000000</td>\n",
       "    </tr>\n",
       "    <tr>\n",
       "      <th>46</th>\n",
       "      <td>Venezuela</td>\n",
       "      <td>2.8</td>\n",
       "      <td>1</td>\n",
       "      <td>0</td>\n",
       "      <td>0</td>\n",
       "      <td>0</td>\n",
       "      <td>0</td>\n",
       "      <td>4.180000</td>\n",
       "    </tr>\n",
       "    <tr>\n",
       "      <th>47</th>\n",
       "      <td>Jordan</td>\n",
       "      <td>2.0</td>\n",
       "      <td>2</td>\n",
       "      <td>1</td>\n",
       "      <td>0</td>\n",
       "      <td>0</td>\n",
       "      <td>0</td>\n",
       "      <td>2.329412</td>\n",
       "    </tr>\n",
       "    <tr>\n",
       "      <th>48</th>\n",
       "      <td>Syria</td>\n",
       "      <td>1.0</td>\n",
       "      <td>2</td>\n",
       "      <td>1</td>\n",
       "      <td>0</td>\n",
       "      <td>0</td>\n",
       "      <td>0</td>\n",
       "      <td>2.329412</td>\n",
       "    </tr>\n",
       "    <tr>\n",
       "      <th>49</th>\n",
       "      <td>Iraq</td>\n",
       "      <td>0.8</td>\n",
       "      <td>2</td>\n",
       "      <td>1</td>\n",
       "      <td>0</td>\n",
       "      <td>0</td>\n",
       "      <td>0</td>\n",
       "      <td>2.329412</td>\n",
       "    </tr>\n",
       "  </tbody>\n",
       "</table>\n",
       "</div>"
      ],
      "text/plain": [
       "              pais  cpi  regiao_numerico  regiao_Asia  regiao_EUA_e_Canada  \\\n",
       "0        Argentina  3.9                1            0                    0   \n",
       "1        Australia  8.7                5            0                    0   \n",
       "2          Austria  7.9                4            0                    0   \n",
       "3          Belgium  7.1                4            0                    0   \n",
       "4           Brazil  4.0                1            0                    0   \n",
       "5           Canada  8.9                3            0                    1   \n",
       "6            Chile  6.2                1            0                    0   \n",
       "7            China  2.5                2            1                    0   \n",
       "8         Colombia  4.0                1            0                    0   \n",
       "9           Cyprus  6.3                4            0                    0   \n",
       "10      Czech Rep.  4.6                4            0                    0   \n",
       "11         Denmark  9.3                4            0                    0   \n",
       "12           Egypt  2.1                2            1                    0   \n",
       "13          France  6.8                4            0                    0   \n",
       "14         Germany  7.9                4            0                    0   \n",
       "15          Greece  3.5                4            0                    0   \n",
       "16         Iceland  8.5                4            0                    0   \n",
       "17           India  2.3                2            1                    0   \n",
       "18       Indonesia  1.8                2            1                    0   \n",
       "19         Ireland  8.0                4            0                    0   \n",
       "20           Italy  3.9                4            0                    0   \n",
       "21      Kazakhstan  1.9                2            1                    0   \n",
       "22          Kuwait  2.8                2            1                    0   \n",
       "23         Lebanon  1.5                2            1                    0   \n",
       "24        Malaysia  3.4                2            1                    0   \n",
       "25     Netherlands  8.8                4            0                    0   \n",
       "26     New Zealand  9.3                5            0                    0   \n",
       "27          Norway  8.6                4            0                    0   \n",
       "28            Oman  3.3                2            1                    0   \n",
       "29     Philippines  1.4                2            1                    0   \n",
       "30          Poland  5.3                4            0                    0   \n",
       "31        Portugal  6.0                4            0                    0   \n",
       "32         Romania  3.7                4            0                    0   \n",
       "33          Russia  2.1                4            0                    0   \n",
       "34    Saudi Arabia  3.7                2            1                    0   \n",
       "35          Serbia  3.5                4            0                    0   \n",
       "36    South Africa  2.8                2            1                    0   \n",
       "37           Spain  6.1                4            0                    0   \n",
       "38          Sweden  9.2                4            0                    0   \n",
       "39     Switzerland  8.7                4            0                    0   \n",
       "40          Taiwan  3.8                2            1                    0   \n",
       "41        Thailand  2.5                2            1                    0   \n",
       "42          Turkey  4.4                4            0                    0   \n",
       "43         Ukraine  2.4                4            0                    0   \n",
       "44  United Kingdom  7.6                4            0                    0   \n",
       "45   United States  7.1                3            0                    1   \n",
       "46       Venezuela  2.8                1            0                    0   \n",
       "47          Jordan  2.0                2            1                    0   \n",
       "48           Syria  1.0                2            1                    0   \n",
       "49            Iraq  0.8                2            1                    0   \n",
       "\n",
       "    regiao_Europa  regiao_Oceania    fitted  \n",
       "0               0               0  4.180000  \n",
       "1               0               1  9.000000  \n",
       "2               1               0  6.258333  \n",
       "3               1               0  6.258333  \n",
       "4               0               0  4.180000  \n",
       "5               0               0  8.000000  \n",
       "6               0               0  4.180000  \n",
       "7               0               0  2.329412  \n",
       "8               0               0  4.180000  \n",
       "9               1               0  6.258333  \n",
       "10              1               0  6.258333  \n",
       "11              1               0  6.258333  \n",
       "12              0               0  2.329412  \n",
       "13              1               0  6.258333  \n",
       "14              1               0  6.258333  \n",
       "15              1               0  6.258333  \n",
       "16              1               0  6.258333  \n",
       "17              0               0  2.329412  \n",
       "18              0               0  2.329412  \n",
       "19              1               0  6.258333  \n",
       "20              1               0  6.258333  \n",
       "21              0               0  2.329412  \n",
       "22              0               0  2.329412  \n",
       "23              0               0  2.329412  \n",
       "24              0               0  2.329412  \n",
       "25              1               0  6.258333  \n",
       "26              0               1  9.000000  \n",
       "27              1               0  6.258333  \n",
       "28              0               0  2.329412  \n",
       "29              0               0  2.329412  \n",
       "30              1               0  6.258333  \n",
       "31              1               0  6.258333  \n",
       "32              1               0  6.258333  \n",
       "33              1               0  6.258333  \n",
       "34              0               0  2.329412  \n",
       "35              1               0  6.258333  \n",
       "36              0               0  2.329412  \n",
       "37              1               0  6.258333  \n",
       "38              1               0  6.258333  \n",
       "39              1               0  6.258333  \n",
       "40              0               0  2.329412  \n",
       "41              0               0  2.329412  \n",
       "42              1               0  6.258333  \n",
       "43              1               0  6.258333  \n",
       "44              1               0  6.258333  \n",
       "45              0               0  8.000000  \n",
       "46              0               0  4.180000  \n",
       "47              0               0  2.329412  \n",
       "48              0               0  2.329412  \n",
       "49              0               0  2.329412  "
      ]
     },
     "execution_count": 19,
     "metadata": {},
     "output_type": "execute_result"
    }
   ],
   "source": [
    "# In[3.8]: Plotando o 'modelo_corrupcao_dummies' de forma interpolada\n",
    "\n",
    "# Fitted values do 'modelo_corrupcao_dummies' no dataset 'df_corrupcao_dummies'\n",
    "df_corrupcao_dummies['fitted'] = modelo_corrupcao_dummies.fittedvalues\n",
    "df_corrupcao_dummies"
   ]
  },
  {
   "cell_type": "code",
   "execution_count": 20,
   "metadata": {},
   "outputs": [
    {
     "data": {
      "image/png": "[encoded data removed]",
      "text/plain": [
       "<Figure size 1500x1000 with 1 Axes>"
      ]
     },
     "metadata": {},
     "output_type": "display_data"
    }
   ],
   "source": [
    "# In[3.9]: Gráfico propriamente dito\n",
    "\n",
    "from scipy import interpolate\n",
    "\n",
    "plt.figure(figsize=(15, 10))\n",
    "\n",
    "df2 = df_corrupcao_dummies[['regiao_numerico',\n",
    "                            'fitted']].groupby(['regiao_numerico']).median().reset_index()\n",
    "x = df2['regiao_numerico']\n",
    "y = df2['fitted']\n",
    "\n",
    "tck = interpolate.splrep(x, y, k=2)\n",
    "xnew = np.arange(1, 5, 0.1)\n",
    "ynew = interpolate.splev(xnew, tck, der=0)\n",
    "\n",
    "def label_point(x, y, val, ax):\n",
    "    a = pd.concat({'x': x, 'y': y, 'val': val}, axis=1)\n",
    "    for i, point in a.iterrows():\n",
    "        offset = 0\n",
    "        while ax.texts:\n",
    "            overlapping = False\n",
    "            for text in ax.texts:\n",
    "                overlapping |= text.get_position()[0] == (point['x'] + 0.05) and text.get_position()[1] == (point['y'] - 0.05 + offset)\n",
    "            if overlapping:\n",
    "                offset += 0.15\n",
    "            else:\n",
    "                break\n",
    "        ax.annotate(str(point['val']) + \" \" + str(point['y']),\n",
    "                    (point['x'] + 0.05,\n",
    "                     point['y'] - 0.05 + offset),\n",
    "                    fontsize=11)\n",
    "\n",
    "plt.scatter(df_corrupcao_dummies['regiao_numerico'],\n",
    "            df_corrupcao_dummies['cpi'], color='darkorange', s=200, alpha=0.5)\n",
    "plt.scatter(df_corrupcao_dummies['regiao_numerico'],\n",
    "            df_corrupcao_dummies['fitted'], color='limegreen', s=240)\n",
    "plt.plot(xnew, ynew, color='indigo', linewidth=2.5)\n",
    "plt.title('Ajuste Não Linear do Modelo com Variáveis Dummy', fontsize=20)\n",
    "plt.xlabel('Região', fontsize=17)\n",
    "plt.ylabel('Corruption Perception Index', fontsize=17)\n",
    "plt.xticks(range(1, 6, 1), fontsize=14)\n",
    "plt.yticks(range(0, 11, 1), fontsize=14)\n",
    "label_point(x=df_corrupcao_dummies['regiao_numerico'],\n",
    "            y=df_corrupcao_dummies['cpi'],\n",
    "            val=df_corrupcao_dummies['pais'],\n",
    "            ax=plt.gca())\n",
    "plt.show()"
   ]
  },
  {
   "cell_type": "code",
   "execution_count": 21,
   "metadata": {},
   "outputs": [
    {
     "data": {
      "application/vnd.plotly.v1+json": {
       "config": {
        "plotlyServerURL": "https://plot.ly"
       },
       "data": [
        {
         "marker": {
          "color": "darkorange",
          "opacity": 0.5,
          "size": 14
         },
         "mode": "markers",
         "name": "CPI",
         "type": "scatter",
         "x": [
          1,
          5,
          4,
          4,
          1,
          3,
          1,
          2,
          1,
          4,
          4,
          4,
          2,
          4,
          4,
          4,
          4,
          2,
          2,
          4,
          4,
          2,
          2,
          2,
          2,
          4,
          5,
          4,
          2,
          2,
          4,
          4,
          4,
          4,
          2,
          4,
          2,
          4,
          4,
          4,
          2,
          2,
          4,
          4,
          4,
          3,
          1,
          2,
          2,
          2
         ],
         "y": [
          3.9,
          8.7,
          7.9,
          7.1,
          4,
          8.9,
          6.2,
          2.5,
          4,
          6.3,
          4.6,
          9.3,
          2.1,
          6.8,
          7.9,
          3.5,
          8.5,
          2.3,
          1.8,
          8,
          3.9,
          1.9,
          2.8,
          1.5,
          3.4,
          8.8,
          9.3,
          8.6,
          3.3,
          1.4,
          5.3,
          6,
          3.7,
          2.1,
          3.7,
          3.5,
          2.8,
          6.1,
          9.2,
          8.7,
          3.8,
          2.5,
          4.4,
          2.4,
          7.6,
          7.1,
          2.8,
          2,
          1,
          0.8
         ]
        },
        {
         "marker": {
          "color": "limegreen",
          "size": 17
         },
         "mode": "markers",
         "name": "Fitted",
         "type": "scatter",
         "x": [
          1,
          5,
          4,
          4,
          1,
          3,
          1,
          2,
          1,
          4,
          4,
          4,
          2,
          4,
          4,
          4,
          4,
          2,
          2,
          4,
          4,
          2,
          2,
          2,
          2,
          4,
          5,
          4,
          2,
          2,
          4,
          4,
          4,
          4,
          2,
          4,
          2,
          4,
          4,
          4,
          2,
          2,
          4,
          4,
          4,
          3,
          1,
          2,
          2,
          2
         ],
         "y": [
          4.18,
          9.000000000000002,
          6.2583333333333275,
          6.2583333333333275,
          4.18,
          8.000000000000002,
          4.18,
          2.3294117647058865,
          4.18,
          6.2583333333333275,
          6.2583333333333275,
          6.2583333333333275,
          2.3294117647058865,
          6.2583333333333275,
          6.2583333333333275,
          6.2583333333333275,
          6.2583333333333275,
          2.3294117647058865,
          2.3294117647058865,
          6.2583333333333275,
          6.2583333333333275,
          2.3294117647058865,
          2.3294117647058865,
          2.3294117647058865,
          2.3294117647058865,
          6.2583333333333275,
          9.000000000000002,
          6.2583333333333275,
          2.3294117647058865,
          2.3294117647058865,
          6.2583333333333275,
          6.2583333333333275,
          6.2583333333333275,
          6.2583333333333275,
          2.3294117647058865,
          6.2583333333333275,
          2.3294117647058865,
          6.2583333333333275,
          6.2583333333333275,
          6.2583333333333275,
          2.3294117647058865,
          2.3294117647058865,
          6.2583333333333275,
          6.2583333333333275,
          6.2583333333333275,
          8.000000000000002,
          4.18,
          2.3294117647058865,
          2.3294117647058865,
          2.3294117647058865
         ]
        },
        {
         "line": {
          "color": "indigo",
          "width": 3.5
         },
         "mode": "lines",
         "name": "Interpolated",
         "type": "scatter",
         "x": [
          1,
          1.1,
          1.2000000000000002,
          1.3000000000000003,
          1.4000000000000004,
          1.5000000000000004,
          1.6000000000000005,
          1.7000000000000006,
          1.8000000000000007,
          1.9000000000000008,
          2.000000000000001,
          2.100000000000001,
          2.200000000000001,
          2.300000000000001,
          2.4000000000000012,
          2.5000000000000013,
          2.6000000000000014,
          2.7000000000000015,
          2.8000000000000016,
          2.9000000000000017,
          3.0000000000000018,
          3.100000000000002,
          3.200000000000002,
          3.300000000000002,
          3.400000000000002,
          3.500000000000002,
          3.6000000000000023,
          3.7000000000000024,
          3.8000000000000025,
          3.9000000000000026,
          4.000000000000003,
          4.100000000000003,
          4.200000000000003,
          4.3000000000000025,
          4.400000000000003,
          4.5000000000000036,
          4.600000000000003,
          4.700000000000003,
          4.800000000000003,
          4.900000000000004
         ],
         "y": [
          4.179999999999999,
          3.5259931512605034,
          2.976196974789915,
          2.5306114705882354,
          2.1892366386554625,
          1.9520724789915977,
          1.8191189915966408,
          1.790376176470591,
          1.8658440336134499,
          2.045522563025216,
          2.329411764705889,
          2.7175116386554707,
          3.2098221848739596,
          3.806343403361356,
          4.5070752941176595,
          5.312017857142873,
          6.105175462184888,
          6.770552478991609,
          7.3081489075630355,
          7.717964747899168,
          8.000000000000005,
          8.154254663865549,
          8.180728739495798,
          8.079422226890753,
          7.850335126050413,
          7.493467436974777,
          7.107455686274498,
          6.790936400560213,
          6.543909579831922,
          6.3663752240896265,
          6.258333333333324,
          6.219783907563019,
          6.250726946778707,
          6.35116245098039,
          6.5210904201680675,
          6.7605108543417405,
          7.069423753501407,
          7.447829117647068,
          7.895726946778727,
          8.41311724089638
         ]
        }
       ],
       "layout": {
        "annotations": [
         {
          "font": {
           "color": "black",
           "size": 11
          },
          "showarrow": false,
          "text": "Argentina 3.9",
          "textangle": 0,
          "x": 1,
          "xref": "x",
          "xshift": 50,
          "y": 3.9,
          "yref": "y",
          "yshift": 0
         },
         {
          "font": {
           "color": "black",
           "size": 11
          },
          "showarrow": false,
          "text": "Australia 8.7",
          "textangle": 0,
          "x": 5,
          "xref": "x",
          "xshift": 50,
          "y": 8.7,
          "yref": "y",
          "yshift": 0
         },
         {
          "font": {
           "color": "black",
           "size": 11
          },
          "showarrow": false,
          "text": "Austria 7.9",
          "textangle": 0,
          "x": 4,
          "xref": "x",
          "xshift": 50,
          "y": 7.9,
          "yref": "y",
          "yshift": 0
         },
         {
          "font": {
           "color": "black",
           "size": 11
          },
          "showarrow": false,
          "text": "Belgium 7.1",
          "textangle": 0,
          "x": 4,
          "xref": "x",
          "xshift": 50,
          "y": 7.1,
          "yref": "y",
          "yshift": 0
         },
         {
          "font": {
           "color": "black",
           "size": 11
          },
          "showarrow": false,
          "text": "Brazil 4.0",
          "textangle": 0,
          "x": 1,
          "xref": "x",
          "xshift": 50,
          "y": 4,
          "yref": "y",
          "yshift": 0
         },
         {
          "font": {
           "color": "black",
           "size": 11
          },
          "showarrow": false,
          "text": "Canada 8.9",
          "textangle": 0,
          "x": 3,
          "xref": "x",
          "xshift": 50,
          "y": 8.9,
          "yref": "y",
          "yshift": 0
         },
         {
          "font": {
           "color": "black",
           "size": 11
          },
          "showarrow": false,
          "text": "Chile 6.2",
          "textangle": 0,
          "x": 1,
          "xref": "x",
          "xshift": 50,
          "y": 6.2,
          "yref": "y",
          "yshift": 0
         },
         {
          "font": {
           "color": "black",
           "size": 11
          },
          "showarrow": false,
          "text": "China 2.5",
          "textangle": 0,
          "x": 2,
          "xref": "x",
          "xshift": 50,
          "y": 2.5,
          "yref": "y",
          "yshift": 0
         },
         {
          "font": {
           "color": "black",
           "size": 11
          },
          "showarrow": false,
          "text": "Colombia 4.0",
          "textangle": 0,
          "x": 1,
          "xref": "x",
          "xshift": 50,
          "y": 4,
          "yref": "y",
          "yshift": 0
         },
         {
          "font": {
           "color": "black",
           "size": 11
          },
          "showarrow": false,
          "text": "Cyprus 6.3",
          "textangle": 0,
          "x": 4,
          "xref": "x",
          "xshift": 50,
          "y": 6.3,
          "yref": "y",
          "yshift": 0
         },
         {
          "font": {
           "color": "black",
           "size": 11
          },
          "showarrow": false,
          "text": "Czech Rep. 4.6",
          "textangle": 0,
          "x": 4,
          "xref": "x",
          "xshift": 50,
          "y": 4.6,
          "yref": "y",
          "yshift": 0
         },
         {
          "font": {
           "color": "black",
           "size": 11
          },
          "showarrow": false,
          "text": "Denmark 9.3",
          "textangle": 0,
          "x": 4,
          "xref": "x",
          "xshift": 50,
          "y": 9.3,
          "yref": "y",
          "yshift": 0
         },
         {
          "font": {
           "color": "black",
           "size": 11
          },
          "showarrow": false,
          "text": "Egypt 2.1",
          "textangle": 0,
          "x": 2,
          "xref": "x",
          "xshift": 50,
          "y": 2.1,
          "yref": "y",
          "yshift": 0
         },
         {
          "font": {
           "color": "black",
           "size": 11
          },
          "showarrow": false,
          "text": "France 6.8",
          "textangle": 0,
          "x": 4,
          "xref": "x",
          "xshift": 50,
          "y": 6.8,
          "yref": "y",
          "yshift": 0
         },
         {
          "font": {
           "color": "black",
           "size": 11
          },
          "showarrow": false,
          "text": "Germany 7.9",
          "textangle": 0,
          "x": 4,
          "xref": "x",
          "xshift": 50,
          "y": 7.9,
          "yref": "y",
          "yshift": 0
         },
         {
          "font": {
           "color": "black",
           "size": 11
          },
          "showarrow": false,
          "text": "Greece 3.5",
          "textangle": 0,
          "x": 4,
          "xref": "x",
          "xshift": 50,
          "y": 3.5,
          "yref": "y",
          "yshift": 0
         },
         {
          "font": {
           "color": "black",
           "size": 11
          },
          "showarrow": false,
          "text": "Iceland 8.5",
          "textangle": 0,
          "x": 4,
          "xref": "x",
          "xshift": 50,
          "y": 8.5,
          "yref": "y",
          "yshift": 0
         },
         {
          "font": {
           "color": "black",
           "size": 11
          },
          "showarrow": false,
          "text": "India 2.3",
          "textangle": 0,
          "x": 2,
          "xref": "x",
          "xshift": 50,
          "y": 2.3,
          "yref": "y",
          "yshift": 0
         },
         {
          "font": {
           "color": "black",
           "size": 11
          },
          "showarrow": false,
          "text": "Indonesia 1.8",
          "textangle": 0,
          "x": 2,
          "xref": "x",
          "xshift": 50,
          "y": 1.8,
          "yref": "y",
          "yshift": 0
         },
         {
          "font": {
           "color": "black",
           "size": 11
          },
          "showarrow": false,
          "text": "Ireland 8.0",
          "textangle": 0,
          "x": 4,
          "xref": "x",
          "xshift": 50,
          "y": 8,
          "yref": "y",
          "yshift": 0
         },
         {
          "font": {
           "color": "black",
           "size": 11
          },
          "showarrow": false,
          "text": "Italy 3.9",
          "textangle": 0,
          "x": 4,
          "xref": "x",
          "xshift": 50,
          "y": 3.9,
          "yref": "y",
          "yshift": 0
         },
         {
          "font": {
           "color": "black",
           "size": 11
          },
          "showarrow": false,
          "text": "Kazakhstan 1.9",
          "textangle": 0,
          "x": 2,
          "xref": "x",
          "xshift": 50,
          "y": 1.9,
          "yref": "y",
          "yshift": 0
         },
         {
          "font": {
           "color": "black",
           "size": 11
          },
          "showarrow": false,
          "text": "Kuwait 2.8",
          "textangle": 0,
          "x": 2,
          "xref": "x",
          "xshift": 50,
          "y": 2.8,
          "yref": "y",
          "yshift": 0
         },
         {
          "font": {
           "color": "black",
           "size": 11
          },
          "showarrow": false,
          "text": "Lebanon 1.5",
          "textangle": 0,
          "x": 2,
          "xref": "x",
          "xshift": 50,
          "y": 1.5,
          "yref": "y",
          "yshift": 0
         },
         {
          "font": {
           "color": "black",
           "size": 11
          },
          "showarrow": false,
          "text": "Malaysia 3.4",
          "textangle": 0,
          "x": 2,
          "xref": "x",
          "xshift": 50,
          "y": 3.4,
          "yref": "y",
          "yshift": 0
         },
         {
          "font": {
           "color": "black",
           "size": 11
          },
          "showarrow": false,
          "text": "Netherlands 8.8",
          "textangle": 0,
          "x": 4,
          "xref": "x",
          "xshift": 50,
          "y": 8.8,
          "yref": "y",
          "yshift": 0
         },
         {
          "font": {
           "color": "black",
           "size": 11
          },
          "showarrow": false,
          "text": "New Zealand 9.3",
          "textangle": 0,
          "x": 5,
          "xref": "x",
          "xshift": 50,
          "y": 9.3,
          "yref": "y",
          "yshift": 0
         },
         {
          "font": {
           "color": "black",
           "size": 11
          },
          "showarrow": false,
          "text": "Norway 8.6",
          "textangle": 0,
          "x": 4,
          "xref": "x",
          "xshift": 50,
          "y": 8.6,
          "yref": "y",
          "yshift": 0
         },
         {
          "font": {
           "color": "black",
           "size": 11
          },
          "showarrow": false,
          "text": "Oman 3.3",
          "textangle": 0,
          "x": 2,
          "xref": "x",
          "xshift": 50,
          "y": 3.3,
          "yref": "y",
          "yshift": 0
         },
         {
          "font": {
           "color": "black",
           "size": 11
          },
          "showarrow": false,
          "text": "Philippines 1.4",
          "textangle": 0,
          "x": 2,
          "xref": "x",
          "xshift": 50,
          "y": 1.4,
          "yref": "y",
          "yshift": 0
         },
         {
          "font": {
           "color": "black",
           "size": 11
          },
          "showarrow": false,
          "text": "Poland 5.3",
          "textangle": 0,
          "x": 4,
          "xref": "x",
          "xshift": 50,
          "y": 5.3,
          "yref": "y",
          "yshift": 0
         },
         {
          "font": {
           "color": "black",
           "size": 11
          },
          "showarrow": false,
          "text": "Portugal 6.0",
          "textangle": 0,
          "x": 4,
          "xref": "x",
          "xshift": 50,
          "y": 6,
          "yref": "y",
          "yshift": 0
         },
         {
          "font": {
           "color": "black",
           "size": 11
          },
          "showarrow": false,
          "text": "Romania 3.7",
          "textangle": 0,
          "x": 4,
          "xref": "x",
          "xshift": 50,
          "y": 3.7,
          "yref": "y",
          "yshift": 0
         },
         {
          "font": {
           "color": "black",
           "size": 11
          },
          "showarrow": false,
          "text": "Russia 2.1",
          "textangle": 0,
          "x": 4,
          "xref": "x",
          "xshift": 50,
          "y": 2.1,
          "yref": "y",
          "yshift": 0
         },
         {
          "font": {
           "color": "black",
           "size": 11
          },
          "showarrow": false,
          "text": "Saudi Arabia 3.7",
          "textangle": 0,
          "x": 2,
          "xref": "x",
          "xshift": 50,
          "y": 3.7,
          "yref": "y",
          "yshift": 0
         },
         {
          "font": {
           "color": "black",
           "size": 11
          },
          "showarrow": false,
          "text": "Serbia 3.5",
          "textangle": 0,
          "x": 4,
          "xref": "x",
          "xshift": 50,
          "y": 3.5,
          "yref": "y",
          "yshift": 0
         },
         {
          "font": {
           "color": "black",
           "size": 11
          },
          "showarrow": false,
          "text": "South Africa 2.8",
          "textangle": 0,
          "x": 2,
          "xref": "x",
          "xshift": 50,
          "y": 2.8,
          "yref": "y",
          "yshift": 0
         },
         {
          "font": {
           "color": "black",
           "size": 11
          },
          "showarrow": false,
          "text": "Spain 6.1",
          "textangle": 0,
          "x": 4,
          "xref": "x",
          "xshift": 50,
          "y": 6.1,
          "yref": "y",
          "yshift": 0
         },
         {
          "font": {
           "color": "black",
           "size": 11
          },
          "showarrow": false,
          "text": "Sweden 9.2",
          "textangle": 0,
          "x": 4,
          "xref": "x",
          "xshift": 50,
          "y": 9.2,
          "yref": "y",
          "yshift": 0
         },
         {
          "font": {
           "color": "black",
           "size": 11
          },
          "showarrow": false,
          "text": "Switzerland 8.7",
          "textangle": 0,
          "x": 4,
          "xref": "x",
          "xshift": 50,
          "y": 8.7,
          "yref": "y",
          "yshift": 0
         },
         {
          "font": {
           "color": "black",
           "size": 11
          },
          "showarrow": false,
          "text": "Taiwan 3.8",
          "textangle": 0,
          "x": 2,
          "xref": "x",
          "xshift": 50,
          "y": 3.8,
          "yref": "y",
          "yshift": 0
         },
         {
          "font": {
           "color": "black",
           "size": 11
          },
          "showarrow": false,
          "text": "Thailand 2.5",
          "textangle": 0,
          "x": 2,
          "xref": "x",
          "xshift": 50,
          "y": 2.5,
          "yref": "y",
          "yshift": 0
         },
         {
          "font": {
           "color": "black",
           "size": 11
          },
          "showarrow": false,
          "text": "Turkey 4.4",
          "textangle": 0,
          "x": 4,
          "xref": "x",
          "xshift": 50,
          "y": 4.4,
          "yref": "y",
          "yshift": 0
         },
         {
          "font": {
           "color": "black",
           "size": 11
          },
          "showarrow": false,
          "text": "Ukraine 2.4",
          "textangle": 0,
          "x": 4,
          "xref": "x",
          "xshift": 50,
          "y": 2.4,
          "yref": "y",
          "yshift": 0
         },
         {
          "font": {
           "color": "black",
           "size": 11
          },
          "showarrow": false,
          "text": "United Kingdom 7.6",
          "textangle": 0,
          "x": 4,
          "xref": "x",
          "xshift": 50,
          "y": 7.6,
          "yref": "y",
          "yshift": 0
         },
         {
          "font": {
           "color": "black",
           "size": 11
          },
          "showarrow": false,
          "text": "United States 7.1",
          "textangle": 0,
          "x": 3,
          "xref": "x",
          "xshift": 50,
          "y": 7.1,
          "yref": "y",
          "yshift": 0
         },
         {
          "font": {
           "color": "black",
           "size": 11
          },
          "showarrow": false,
          "text": "Venezuela 2.8",
          "textangle": 0,
          "x": 1,
          "xref": "x",
          "xshift": 50,
          "y": 2.8,
          "yref": "y",
          "yshift": 0
         },
         {
          "font": {
           "color": "black",
           "size": 11
          },
          "showarrow": false,
          "text": "Jordan 2.0",
          "textangle": 0,
          "x": 2,
          "xref": "x",
          "xshift": 50,
          "y": 2,
          "yref": "y",
          "yshift": 0
         },
         {
          "font": {
           "color": "black",
           "size": 11
          },
          "showarrow": false,
          "text": "Syria 1.0",
          "textangle": 0,
          "x": 2,
          "xref": "x",
          "xshift": 50,
          "y": 1,
          "yref": "y",
          "yshift": 0
         },
         {
          "font": {
           "color": "black",
           "size": 11
          },
          "showarrow": false,
          "text": "Iraq 0.8",
          "textangle": 0,
          "x": 2,
          "xref": "x",
          "xshift": 50,
          "y": 0.8,
          "yref": "y",
          "yshift": 0
         }
        ],
        "template": {
         "data": {
          "bar": [
           {
            "error_x": {
             "color": "#2a3f5f"
            },
            "error_y": {
             "color": "#2a3f5f"
            },
            "marker": {
             "line": {
              "color": "white",
              "width": 0.5
             },
             "pattern": {
              "fillmode": "overlay",
              "size": 10,
              "solidity": 0.2
             }
            },
            "type": "bar"
           }
          ],
          "barpolar": [
           {
            "marker": {
             "line": {
              "color": "white",
              "width": 0.5
             },
             "pattern": {
              "fillmode": "overlay",
              "size": 10,
              "solidity": 0.2
             }
            },
            "type": "barpolar"
           }
          ],
          "carpet": [
           {
            "aaxis": {
             "endlinecolor": "#2a3f5f",
             "gridcolor": "#C8D4E3",
             "linecolor": "#C8D4E3",
             "minorgridcolor": "#C8D4E3",
             "startlinecolor": "#2a3f5f"
            },
            "baxis": {
             "endlinecolor": "#2a3f5f",
             "gridcolor": "#C8D4E3",
             "linecolor": "#C8D4E3",
             "minorgridcolor": "#C8D4E3",
             "startlinecolor": "#2a3f5f"
            },
            "type": "carpet"
           }
          ],
          "choropleth": [
           {
            "colorbar": {
             "outlinewidth": 0,
             "ticks": ""
            },
            "type": "choropleth"
           }
          ],
          "contour": [
           {
            "colorbar": {
             "outlinewidth": 0,
             "ticks": ""
            },
            "colorscale": [
             [
              0,
              "#0d0887"
             ],
             [
              0.1111111111111111,
              "#46039f"
             ],
             [
              0.2222222222222222,
              "#7201a8"
             ],
             [
              0.3333333333333333,
              "#9c179e"
             ],
             [
              0.4444444444444444,
              "#bd3786"
             ],
             [
              0.5555555555555556,
              "#d8576b"
             ],
             [
              0.6666666666666666,
              "#ed7953"
             ],
             [
              0.7777777777777778,
              "#fb9f3a"
             ],
             [
              0.8888888888888888,
              "#fdca26"
             ],
             [
              1,
              "#f0f921"
             ]
            ],
            "type": "contour"
           }
          ],
          "contourcarpet": [
           {
            "colorbar": {
             "outlinewidth": 0,
             "ticks": ""
            },
            "type": "contourcarpet"
           }
          ],
          "heatmap": [
           {
            "colorbar": {
             "outlinewidth": 0,
             "ticks": ""
            },
            "colorscale": [
             [
              0,
              "#0d0887"
             ],
             [
              0.1111111111111111,
              "#46039f"
             ],
             [
              0.2222222222222222,
              "#7201a8"
             ],
             [
              0.3333333333333333,
              "#9c179e"
             ],
             [
              0.4444444444444444,
              "#bd3786"
             ],
             [
              0.5555555555555556,
              "#d8576b"
             ],
             [
              0.6666666666666666,
              "#ed7953"
             ],
             [
              0.7777777777777778,
              "#fb9f3a"
             ],
             [
              0.8888888888888888,
              "#fdca26"
             ],
             [
              1,
              "#f0f921"
             ]
            ],
            "type": "heatmap"
           }
          ],
          "heatmapgl": [
           {
            "colorbar": {
             "outlinewidth": 0,
             "ticks": ""
            },
            "colorscale": [
             [
              0,
              "#0d0887"
             ],
             [
              0.1111111111111111,
              "#46039f"
             ],
             [
              0.2222222222222222,
              "#7201a8"
             ],
             [
              0.3333333333333333,
              "#9c179e"
             ],
             [
              0.4444444444444444,
              "#bd3786"
             ],
             [
              0.5555555555555556,
              "#d8576b"
             ],
             [
              0.6666666666666666,
              "#ed7953"
             ],
             [
              0.7777777777777778,
              "#fb9f3a"
             ],
             [
              0.8888888888888888,
              "#fdca26"
             ],
             [
              1,
              "#f0f921"
             ]
            ],
            "type": "heatmapgl"
           }
          ],
          "histogram": [
           {
            "marker": {
             "pattern": {
              "fillmode": "overlay",
              "size": 10,
              "solidity": 0.2
             }
            },
            "type": "histogram"
           }
          ],
          "histogram2d": [
           {
            "colorbar": {
             "outlinewidth": 0,
             "ticks": ""
            },
            "colorscale": [
             [
              0,
              "#0d0887"
             ],
             [
              0.1111111111111111,
              "#46039f"
             ],
             [
              0.2222222222222222,
              "#7201a8"
             ],
             [
              0.3333333333333333,
              "#9c179e"
             ],
             [
              0.4444444444444444,
              "#bd3786"
             ],
             [
              0.5555555555555556,
              "#d8576b"
             ],
             [
              0.6666666666666666,
              "#ed7953"
             ],
             [
              0.7777777777777778,
              "#fb9f3a"
             ],
             [
              0.8888888888888888,
              "#fdca26"
             ],
             [
              1,
              "#f0f921"
             ]
            ],
            "type": "histogram2d"
           }
          ],
          "histogram2dcontour": [
           {
            "colorbar": {
             "outlinewidth": 0,
             "ticks": ""
            },
            "colorscale": [
             [
              0,
              "#0d0887"
             ],
             [
              0.1111111111111111,
              "#46039f"
             ],
             [
              0.2222222222222222,
              "#7201a8"
             ],
             [
              0.3333333333333333,
              "#9c179e"
             ],
             [
              0.4444444444444444,
              "#bd3786"
             ],
             [
              0.5555555555555556,
              "#d8576b"
             ],
             [
              0.6666666666666666,
              "#ed7953"
             ],
             [
              0.7777777777777778,
              "#fb9f3a"
             ],
             [
              0.8888888888888888,
              "#fdca26"
             ],
             [
              1,
              "#f0f921"
             ]
            ],
            "type": "histogram2dcontour"
           }
          ],
          "mesh3d": [
           {
            "colorbar": {
             "outlinewidth": 0,
             "ticks": ""
            },
            "type": "mesh3d"
           }
          ],
          "parcoords": [
           {
            "line": {
             "colorbar": {
              "outlinewidth": 0,
              "ticks": ""
             }
            },
            "type": "parcoords"
           }
          ],
          "pie": [
           {
            "automargin": true,
            "type": "pie"
           }
          ],
          "scatter": [
           {
            "fillpattern": {
             "fillmode": "overlay",
             "size": 10,
             "solidity": 0.2
            },
            "type": "scatter"
           }
          ],
          "scatter3d": [
           {
            "line": {
             "colorbar": {
              "outlinewidth": 0,
              "ticks": ""
             }
            },
            "marker": {
             "colorbar": {
              "outlinewidth": 0,
              "ticks": ""
             }
            },
            "type": "scatter3d"
           }
          ],
          "scattercarpet": [
           {
            "marker": {
             "colorbar": {
              "outlinewidth": 0,
              "ticks": ""
             }
            },
            "type": "scattercarpet"
           }
          ],
          "scattergeo": [
           {
            "marker": {
             "colorbar": {
              "outlinewidth": 0,
              "ticks": ""
             }
            },
            "type": "scattergeo"
           }
          ],
          "scattergl": [
           {
            "marker": {
             "colorbar": {
              "outlinewidth": 0,
              "ticks": ""
             }
            },
            "type": "scattergl"
           }
          ],
          "scattermapbox": [
           {
            "marker": {
             "colorbar": {
              "outlinewidth": 0,
              "ticks": ""
             }
            },
            "type": "scattermapbox"
           }
          ],
          "scatterpolar": [
           {
            "marker": {
             "colorbar": {
              "outlinewidth": 0,
              "ticks": ""
             }
            },
            "type": "scatterpolar"
           }
          ],
          "scatterpolargl": [
           {
            "marker": {
             "colorbar": {
              "outlinewidth": 0,
              "ticks": ""
             }
            },
            "type": "scatterpolargl"
           }
          ],
          "scatterternary": [
           {
            "marker": {
             "colorbar": {
              "outlinewidth": 0,
              "ticks": ""
             }
            },
            "type": "scatterternary"
           }
          ],
          "surface": [
           {
            "colorbar": {
             "outlinewidth": 0,
             "ticks": ""
            },
            "colorscale": [
             [
              0,
              "#0d0887"
             ],
             [
              0.1111111111111111,
              "#46039f"
             ],
             [
              0.2222222222222222,
              "#7201a8"
             ],
             [
              0.3333333333333333,
              "#9c179e"
             ],
             [
              0.4444444444444444,
              "#bd3786"
             ],
             [
              0.5555555555555556,
              "#d8576b"
             ],
             [
              0.6666666666666666,
              "#ed7953"
             ],
             [
              0.7777777777777778,
              "#fb9f3a"
             ],
             [
              0.8888888888888888,
              "#fdca26"
             ],
             [
              1,
              "#f0f921"
             ]
            ],
            "type": "surface"
           }
          ],
          "table": [
           {
            "cells": {
             "fill": {
              "color": "#EBF0F8"
             },
             "line": {
              "color": "white"
             }
            },
            "header": {
             "fill": {
              "color": "#C8D4E3"
             },
             "line": {
              "color": "white"
             }
            },
            "type": "table"
           }
          ]
         },
         "layout": {
          "annotationdefaults": {
           "arrowcolor": "#2a3f5f",
           "arrowhead": 0,
           "arrowwidth": 1
          },
          "autotypenumbers": "strict",
          "coloraxis": {
           "colorbar": {
            "outlinewidth": 0,
            "ticks": ""
           }
          },
          "colorscale": {
           "diverging": [
            [
             0,
             "#8e0152"
            ],
            [
             0.1,
             "#c51b7d"
            ],
            [
             0.2,
             "#de77ae"
            ],
            [
             0.3,
             "#f1b6da"
            ],
            [
             0.4,
             "#fde0ef"
            ],
            [
             0.5,
             "#f7f7f7"
            ],
            [
             0.6,
             "#e6f5d0"
            ],
            [
             0.7,
             "#b8e186"
            ],
            [
             0.8,
             "#7fbc41"
            ],
            [
             0.9,
             "#4d9221"
            ],
            [
             1,
             "#276419"
            ]
           ],
           "sequential": [
            [
             0,
             "#0d0887"
            ],
            [
             0.1111111111111111,
             "#46039f"
            ],
            [
             0.2222222222222222,
             "#7201a8"
            ],
            [
             0.3333333333333333,
             "#9c179e"
            ],
            [
             0.4444444444444444,
             "#bd3786"
            ],
            [
             0.5555555555555556,
             "#d8576b"
            ],
            [
             0.6666666666666666,
             "#ed7953"
            ],
            [
             0.7777777777777778,
             "#fb9f3a"
            ],
            [
             0.8888888888888888,
             "#fdca26"
            ],
            [
             1,
             "#f0f921"
            ]
           ],
           "sequentialminus": [
            [
             0,
             "#0d0887"
            ],
            [
             0.1111111111111111,
             "#46039f"
            ],
            [
             0.2222222222222222,
             "#7201a8"
            ],
            [
             0.3333333333333333,
             "#9c179e"
            ],
            [
             0.4444444444444444,
             "#bd3786"
            ],
            [
             0.5555555555555556,
             "#d8576b"
            ],
            [
             0.6666666666666666,
             "#ed7953"
            ],
            [
             0.7777777777777778,
             "#fb9f3a"
            ],
            [
             0.8888888888888888,
             "#fdca26"
            ],
            [
             1,
             "#f0f921"
            ]
           ]
          },
          "colorway": [
           "#636efa",
           "#EF553B",
           "#00cc96",
           "#ab63fa",
           "#FFA15A",
           "#19d3f3",
           "#FF6692",
           "#B6E880",
           "#FF97FF",
           "#FECB52"
          ],
          "font": {
           "color": "#2a3f5f"
          },
          "geo": {
           "bgcolor": "white",
           "lakecolor": "white",
           "landcolor": "white",
           "showlakes": true,
           "showland": true,
           "subunitcolor": "#C8D4E3"
          },
          "hoverlabel": {
           "align": "left"
          },
          "hovermode": "closest",
          "mapbox": {
           "style": "light"
          },
          "paper_bgcolor": "white",
          "plot_bgcolor": "white",
          "polar": {
           "angularaxis": {
            "gridcolor": "#EBF0F8",
            "linecolor": "#EBF0F8",
            "ticks": ""
           },
           "bgcolor": "white",
           "radialaxis": {
            "gridcolor": "#EBF0F8",
            "linecolor": "#EBF0F8",
            "ticks": ""
           }
          },
          "scene": {
           "xaxis": {
            "backgroundcolor": "white",
            "gridcolor": "#DFE8F3",
            "gridwidth": 2,
            "linecolor": "#EBF0F8",
            "showbackground": true,
            "ticks": "",
            "zerolinecolor": "#EBF0F8"
           },
           "yaxis": {
            "backgroundcolor": "white",
            "gridcolor": "#DFE8F3",
            "gridwidth": 2,
            "linecolor": "#EBF0F8",
            "showbackground": true,
            "ticks": "",
            "zerolinecolor": "#EBF0F8"
           },
           "zaxis": {
            "backgroundcolor": "white",
            "gridcolor": "#DFE8F3",
            "gridwidth": 2,
            "linecolor": "#EBF0F8",
            "showbackground": true,
            "ticks": "",
            "zerolinecolor": "#EBF0F8"
           }
          },
          "shapedefaults": {
           "line": {
            "color": "#2a3f5f"
           }
          },
          "ternary": {
           "aaxis": {
            "gridcolor": "#DFE8F3",
            "linecolor": "#A2B1C6",
            "ticks": ""
           },
           "baxis": {
            "gridcolor": "#DFE8F3",
            "linecolor": "#A2B1C6",
            "ticks": ""
           },
           "bgcolor": "white",
           "caxis": {
            "gridcolor": "#DFE8F3",
            "linecolor": "#A2B1C6",
            "ticks": ""
           }
          },
          "title": {
           "x": 0.05
          },
          "xaxis": {
           "automargin": true,
           "gridcolor": "#EBF0F8",
           "linecolor": "#EBF0F8",
           "ticks": "",
           "title": {
            "standoff": 15
           },
           "zerolinecolor": "#EBF0F8",
           "zerolinewidth": 2
          },
          "yaxis": {
           "automargin": true,
           "gridcolor": "#EBF0F8",
           "linecolor": "#EBF0F8",
           "ticks": "",
           "title": {
            "standoff": 15
           },
           "zerolinecolor": "#EBF0F8",
           "zerolinewidth": 2
          }
         }
        },
        "title": {
         "font": {
          "color": "black",
          "family": "Arial",
          "size": 20
         },
         "text": "Ajuste Não Linear do Modelo com Variáveis Dummy",
         "x": 0.5,
         "xanchor": "center",
         "y": 0.95,
         "yanchor": "top"
        },
        "xaxis": {
         "gridcolor": "lightgray",
         "gridwidth": 1,
         "showgrid": true,
         "tickfont": {
          "size": 14
         },
         "tickvals": [
          1,
          2,
          3,
          4,
          5
         ],
         "title": {
          "text": "Região"
         }
        },
        "yaxis": {
         "gridcolor": "lightgray",
         "gridwidth": 1,
         "showgrid": true,
         "tickfont": {
          "size": 14
         },
         "tickvals": [
          0,
          1,
          2,
          3,
          4,
          5,
          6,
          7,
          8,
          9,
          10
         ],
         "title": {
          "text": "Corruption Perception Index"
         }
        }
       }
      }
     },
     "metadata": {},
     "output_type": "display_data"
    }
   ],
   "source": [
    "# In[3.10]: Gráfico gerado em HTML e aberto no browser, com interação\n",
    "#(figura 'EXEMPLO3.html' salva na pasta do curso)\n",
    "\n",
    "df2 = df_corrupcao_dummies[['regiao_numerico',\n",
    "                            'fitted']].groupby(['regiao_numerico']).median().reset_index()\n",
    "x = df2['regiao_numerico']\n",
    "y = df2['fitted']\n",
    "\n",
    "tck = interpolate.splrep(x, y, k=2)\n",
    "xnew = np.arange(1, 5, 0.1)\n",
    "ynew = interpolate.splev(xnew, tck, der=0)\n",
    "\n",
    "fig = go.Figure()\n",
    "\n",
    "fig.add_trace(go.Scatter(\n",
    "    x=df_corrupcao_dummies['regiao_numerico'],\n",
    "    y=df_corrupcao_dummies['cpi'],\n",
    "    mode='markers',\n",
    "    name='CPI',\n",
    "    marker=dict(color='darkorange', size=14, opacity=0.5)\n",
    "))\n",
    "\n",
    "fig.add_trace(go.Scatter(\n",
    "    x=df_corrupcao_dummies['regiao_numerico'],\n",
    "    y=df_corrupcao_dummies['fitted'],\n",
    "    mode='markers',\n",
    "    name='Fitted',\n",
    "    marker=dict(color='limegreen', size=17)\n",
    "))\n",
    "\n",
    "fig.add_trace(go.Scatter(\n",
    "    x=xnew,\n",
    "    y=ynew,\n",
    "    mode='lines',\n",
    "    name='Interpolated',\n",
    "    line=dict(color='indigo', width=3.5)\n",
    "))\n",
    "\n",
    "fig.update_layout(title={\n",
    "        'text': 'Ajuste Não Linear do Modelo com Variáveis Dummy',\n",
    "        'font': {'size': 20, 'color': 'black', 'family': 'Arial'},\n",
    "        'x': 0.5,\n",
    "        'y': 0.95,\n",
    "        'xanchor': 'center',\n",
    "        'yanchor': 'top'\n",
    "    },\n",
    "    xaxis=dict(title='Região'),\n",
    "    yaxis=dict(title='Corruption Perception Index'),\n",
    "    xaxis_tickvals=list(range(1, 6)),\n",
    "    yaxis_tickvals=list(range(0, 11)),\n",
    "    xaxis_tickfont=dict(size=14),\n",
    "    yaxis_tickfont=dict(size=14),\n",
    "    template='plotly_white')\n",
    "\n",
    "for i in range(len(df_corrupcao_dummies)):\n",
    "    fig.add_annotation(\n",
    "        x=df_corrupcao_dummies['regiao_numerico'][i],\n",
    "        y=df_corrupcao_dummies['cpi'][i],\n",
    "        text=str(df_corrupcao_dummies['pais'][i]) + ' ' + str(df_corrupcao_dummies['cpi'][i]),\n",
    "        showarrow=False,\n",
    "        font=dict(size=11, color='black'),\n",
    "        xshift=50,\n",
    "        yshift=0,\n",
    "        textangle=0\n",
    "    )\n",
    "\n",
    "fig.update_annotations(dict(xref=\"x\", yref=\"y\"))\n",
    "fig.update_xaxes(showgrid=True, gridwidth=1, gridcolor='lightgray')\n",
    "fig.update_yaxes(showgrid=True, gridwidth=1, gridcolor='lightgray')\n",
    "\n",
    "fig.show()"
   ]
  }
 ],
 "metadata": {
  "kernelspec": {
   "display_name": ".venv",
   "language": "python",
   "name": "python3"
  },
  "language_info": {
   "codemirror_mode": {
    "name": "ipython",
    "version": 3
   },
   "file_extension": ".py",
   "mimetype": "text/x-python",
   "name": "python",
   "nbconvert_exporter": "python",
   "pygments_lexer": "ipython3",
   "version": "3.12.1"
  }
 },
 "nbformat": 4,
 "nbformat_minor": 2
}
