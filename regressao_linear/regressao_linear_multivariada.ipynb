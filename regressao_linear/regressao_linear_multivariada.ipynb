{
 "cells": [
  {
   "cell_type": "code",
   "execution_count": 1,
   "metadata": {},
   "outputs": [],
   "source": [
    "import pandas as pd # manipulação de dados em formato de dataframe\n",
    "import numpy as np # operações matemáticas\n",
    "import seaborn as sns # visualização gráfica\n",
    "import matplotlib.pyplot as plt # visualização gráfica\n",
    "import plotly.graph_objects as go # gráficos 3D\n",
    "from scipy.stats import pearsonr # correlações de Pearson\n",
    "import statsmodels.api as sm # estimação de modelos\n",
    "from statsmodels.iolib.summary2 import summary_col # comparação entre modelos\n",
    "from sklearn.preprocessing import LabelEncoder # transformação de dados\n",
    "import pingouin as pg # outro modo para obtenção de matrizes de correlações\n",
    "import emojis # inserção de emojis em gráficos\n",
    "from statstests.process import stepwise # procedimento Stepwise\n",
    "from statstests.tests import shapiro_francia # teste de Shapiro-Francia\n",
    "from scipy.stats import boxcox # transformação de Box-Cox\n",
    "from scipy.stats import norm # para plotagem da curva normal\n",
    "from scipy import stats # utilizado na definição da função 'breusch_pagan_test'"
   ]
  },
  {
   "cell_type": "code",
   "execution_count": 2,
   "metadata": {},
   "outputs": [
    {
     "name": "stdout",
     "output_type": "stream",
     "text": [
      "<class 'pandas.core.frame.DataFrame'>\n",
      "RangeIndex: 50 entries, 0 to 49\n",
      "Data columns (total 4 columns):\n",
      " #   Column  Non-Null Count  Dtype  \n",
      "---  ------  --------------  -----  \n",
      " 0   pais    50 non-null     object \n",
      " 1   cpi     50 non-null     float64\n",
      " 2   idade   50 non-null     int64  \n",
      " 3   horas   50 non-null     float64\n",
      "dtypes: float64(2), int64(1), object(1)\n",
      "memory usage: 1.7+ KB\n"
     ]
    },
    {
     "data": {
      "text/plain": [
       "None"
      ]
     },
     "metadata": {},
     "output_type": "display_data"
    },
    {
     "data": {
      "text/html": [
       "<div>\n",
       "<style scoped>\n",
       "    .dataframe tbody tr th:only-of-type {\n",
       "        vertical-align: middle;\n",
       "    }\n",
       "\n",
       "    .dataframe tbody tr th {\n",
       "        vertical-align: top;\n",
       "    }\n",
       "\n",
       "    .dataframe thead th {\n",
       "        text-align: right;\n",
       "    }\n",
       "</style>\n",
       "<table border=\"1\" class=\"dataframe\">\n",
       "  <thead>\n",
       "    <tr style=\"text-align: right;\">\n",
       "      <th></th>\n",
       "      <th>cpi</th>\n",
       "      <th>idade</th>\n",
       "      <th>horas</th>\n",
       "    </tr>\n",
       "  </thead>\n",
       "  <tbody>\n",
       "    <tr>\n",
       "      <th>count</th>\n",
       "      <td>50.000000</td>\n",
       "      <td>50.000000</td>\n",
       "      <td>50.000000</td>\n",
       "    </tr>\n",
       "    <tr>\n",
       "      <th>mean</th>\n",
       "      <td>4.894000</td>\n",
       "      <td>60.480000</td>\n",
       "      <td>32.660000</td>\n",
       "    </tr>\n",
       "    <tr>\n",
       "      <th>std</th>\n",
       "      <td>2.678974</td>\n",
       "      <td>10.022913</td>\n",
       "      <td>2.431091</td>\n",
       "    </tr>\n",
       "    <tr>\n",
       "      <th>min</th>\n",
       "      <td>0.800000</td>\n",
       "      <td>34.000000</td>\n",
       "      <td>26.800000</td>\n",
       "    </tr>\n",
       "    <tr>\n",
       "      <th>25%</th>\n",
       "      <td>2.575000</td>\n",
       "      <td>58.000000</td>\n",
       "      <td>31.400000</td>\n",
       "    </tr>\n",
       "    <tr>\n",
       "      <th>50%</th>\n",
       "      <td>3.950000</td>\n",
       "      <td>62.000000</td>\n",
       "      <td>32.600000</td>\n",
       "    </tr>\n",
       "    <tr>\n",
       "      <th>75%</th>\n",
       "      <td>7.475000</td>\n",
       "      <td>66.750000</td>\n",
       "      <td>34.400000</td>\n",
       "    </tr>\n",
       "    <tr>\n",
       "      <th>max</th>\n",
       "      <td>9.300000</td>\n",
       "      <td>79.000000</td>\n",
       "      <td>38.100000</td>\n",
       "    </tr>\n",
       "  </tbody>\n",
       "</table>\n",
       "</div>"
      ],
      "text/plain": [
       "             cpi      idade      horas\n",
       "count  50.000000  50.000000  50.000000\n",
       "mean    4.894000  60.480000  32.660000\n",
       "std     2.678974  10.022913   2.431091\n",
       "min     0.800000  34.000000  26.800000\n",
       "25%     2.575000  58.000000  31.400000\n",
       "50%     3.950000  62.000000  32.600000\n",
       "75%     7.475000  66.750000  34.400000\n",
       "max     9.300000  79.000000  38.100000"
      ]
     },
     "metadata": {},
     "output_type": "display_data"
    }
   ],
   "source": [
    "# Carregando o DataFrame\n",
    "df_paises = pd.read_csv('../data/paises.csv', delimiter=',', encoding=\"utf-8\")\n",
    "\n",
    "#Características das variáveis do dataset\n",
    "display(df_paises.info())\n",
    "\n",
    "#Estatísticas univariadas\n",
    "display(df_paises.describe())"
   ]
  },
  {
   "cell_type": "code",
   "execution_count": 3,
   "metadata": {},
   "outputs": [
    {
     "data": {
      "application/vnd.plotly.v1+json": {
       "config": {
        "plotlyServerURL": "https://plot.ly"
       },
       "data": [
        {
         "marker": {
          "color": "darkorchid",
          "opacity": 0.7,
          "size": 10
         },
         "mode": "markers",
         "type": "scatter3d",
         "x": [
          35,
          32,
          32,
          30.1,
          35,
          33.4,
          34,
          34,
          33,
          32,
          38.1,
          30,
          32,
          30,
          27.5,
          30,
          31,
          29.8,
          33.5,
          32,
          31.3,
          35.1,
          32,
          33.9,
          32.4,
          31.7,
          32.8,
          26.8,
          31,
          27.1,
          33.2,
          34.7,
          38,
          33.2,
          34.5,
          34.9,
          33.8,
          34.5,
          37.8,
          31.8,
          30,
          32,
          32,
          34.1,
          31.2,
          34.5,
          32.8,
          32.1,
          34.5,
          34.9
         ],
         "y": [
          72,
          64,
          72,
          67,
          59,
          61,
          70,
          49,
          79,
          58,
          42,
          76,
          59,
          70,
          66,
          60,
          53,
          56,
          63,
          42,
          63,
          66,
          58,
          44,
          62,
          39,
          73,
          61,
          65,
          64,
          58,
          75,
          50,
          69,
          67,
          46,
          58,
          61,
          64,
          62,
          70,
          65,
          34,
          63,
          68,
          61,
          44,
          60,
          65,
          51
         ],
         "z": [
          3.9,
          8.7,
          7.9,
          7.1,
          4,
          8.9,
          6.2,
          2.5,
          4,
          6.3,
          4.6,
          9.3,
          2.1,
          6.8,
          7.9,
          3.5,
          8.5,
          2.3,
          1.8,
          0.8,
          8,
          3.9,
          2,
          1.9,
          2.8,
          1.5,
          3.4,
          8.8,
          9.3,
          8.6,
          3.3,
          1.4,
          5.3,
          6,
          3.7,
          2.1,
          3.7,
          3.5,
          2.8,
          6.1,
          9.2,
          8.7,
          1,
          3.8,
          2.5,
          4.4,
          2.4,
          7.6,
          7.1,
          2.8
         ]
        }
       ],
       "layout": {
        "height": 800,
        "margin": {
         "b": 0,
         "l": 0,
         "r": 0,
         "t": 0
        },
        "plot_bgcolor": "white",
        "scene": {
         "xaxis": {
          "backgroundcolor": "whitesmoke",
          "gridcolor": "rgb(200, 200, 200)",
          "title": {
           "text": "horas"
          }
         },
         "yaxis": {
          "backgroundcolor": "whitesmoke",
          "gridcolor": "rgb(200, 200, 200)",
          "title": {
           "text": "idade"
          }
         },
         "zaxis": {
          "backgroundcolor": "whitesmoke",
          "gridcolor": "rgb(200, 200, 200)",
          "title": {
           "text": "cpi"
          }
         }
        },
        "template": {
         "data": {
          "bar": [
           {
            "error_x": {
             "color": "#2a3f5f"
            },
            "error_y": {
             "color": "#2a3f5f"
            },
            "marker": {
             "line": {
              "color": "#E5ECF6",
              "width": 0.5
             },
             "pattern": {
              "fillmode": "overlay",
              "size": 10,
              "solidity": 0.2
             }
            },
            "type": "bar"
           }
          ],
          "barpolar": [
           {
            "marker": {
             "line": {
              "color": "#E5ECF6",
              "width": 0.5
             },
             "pattern": {
              "fillmode": "overlay",
              "size": 10,
              "solidity": 0.2
             }
            },
            "type": "barpolar"
           }
          ],
          "carpet": [
           {
            "aaxis": {
             "endlinecolor": "#2a3f5f",
             "gridcolor": "white",
             "linecolor": "white",
             "minorgridcolor": "white",
             "startlinecolor": "#2a3f5f"
            },
            "baxis": {
             "endlinecolor": "#2a3f5f",
             "gridcolor": "white",
             "linecolor": "white",
             "minorgridcolor": "white",
             "startlinecolor": "#2a3f5f"
            },
            "type": "carpet"
           }
          ],
          "choropleth": [
           {
            "colorbar": {
             "outlinewidth": 0,
             "ticks": ""
            },
            "type": "choropleth"
           }
          ],
          "contour": [
           {
            "colorbar": {
             "outlinewidth": 0,
             "ticks": ""
            },
            "colorscale": [
             [
              0,
              "#0d0887"
             ],
             [
              0.1111111111111111,
              "#46039f"
             ],
             [
              0.2222222222222222,
              "#7201a8"
             ],
             [
              0.3333333333333333,
              "#9c179e"
             ],
             [
              0.4444444444444444,
              "#bd3786"
             ],
             [
              0.5555555555555556,
              "#d8576b"
             ],
             [
              0.6666666666666666,
              "#ed7953"
             ],
             [
              0.7777777777777778,
              "#fb9f3a"
             ],
             [
              0.8888888888888888,
              "#fdca26"
             ],
             [
              1,
              "#f0f921"
             ]
            ],
            "type": "contour"
           }
          ],
          "contourcarpet": [
           {
            "colorbar": {
             "outlinewidth": 0,
             "ticks": ""
            },
            "type": "contourcarpet"
           }
          ],
          "heatmap": [
           {
            "colorbar": {
             "outlinewidth": 0,
             "ticks": ""
            },
            "colorscale": [
             [
              0,
              "#0d0887"
             ],
             [
              0.1111111111111111,
              "#46039f"
             ],
             [
              0.2222222222222222,
              "#7201a8"
             ],
             [
              0.3333333333333333,
              "#9c179e"
             ],
             [
              0.4444444444444444,
              "#bd3786"
             ],
             [
              0.5555555555555556,
              "#d8576b"
             ],
             [
              0.6666666666666666,
              "#ed7953"
             ],
             [
              0.7777777777777778,
              "#fb9f3a"
             ],
             [
              0.8888888888888888,
              "#fdca26"
             ],
             [
              1,
              "#f0f921"
             ]
            ],
            "type": "heatmap"
           }
          ],
          "heatmapgl": [
           {
            "colorbar": {
             "outlinewidth": 0,
             "ticks": ""
            },
            "colorscale": [
             [
              0,
              "#0d0887"
             ],
             [
              0.1111111111111111,
              "#46039f"
             ],
             [
              0.2222222222222222,
              "#7201a8"
             ],
             [
              0.3333333333333333,
              "#9c179e"
             ],
             [
              0.4444444444444444,
              "#bd3786"
             ],
             [
              0.5555555555555556,
              "#d8576b"
             ],
             [
              0.6666666666666666,
              "#ed7953"
             ],
             [
              0.7777777777777778,
              "#fb9f3a"
             ],
             [
              0.8888888888888888,
              "#fdca26"
             ],
             [
              1,
              "#f0f921"
             ]
            ],
            "type": "heatmapgl"
           }
          ],
          "histogram": [
           {
            "marker": {
             "pattern": {
              "fillmode": "overlay",
              "size": 10,
              "solidity": 0.2
             }
            },
            "type": "histogram"
           }
          ],
          "histogram2d": [
           {
            "colorbar": {
             "outlinewidth": 0,
             "ticks": ""
            },
            "colorscale": [
             [
              0,
              "#0d0887"
             ],
             [
              0.1111111111111111,
              "#46039f"
             ],
             [
              0.2222222222222222,
              "#7201a8"
             ],
             [
              0.3333333333333333,
              "#9c179e"
             ],
             [
              0.4444444444444444,
              "#bd3786"
             ],
             [
              0.5555555555555556,
              "#d8576b"
             ],
             [
              0.6666666666666666,
              "#ed7953"
             ],
             [
              0.7777777777777778,
              "#fb9f3a"
             ],
             [
              0.8888888888888888,
              "#fdca26"
             ],
             [
              1,
              "#f0f921"
             ]
            ],
            "type": "histogram2d"
           }
          ],
          "histogram2dcontour": [
           {
            "colorbar": {
             "outlinewidth": 0,
             "ticks": ""
            },
            "colorscale": [
             [
              0,
              "#0d0887"
             ],
             [
              0.1111111111111111,
              "#46039f"
             ],
             [
              0.2222222222222222,
              "#7201a8"
             ],
             [
              0.3333333333333333,
              "#9c179e"
             ],
             [
              0.4444444444444444,
              "#bd3786"
             ],
             [
              0.5555555555555556,
              "#d8576b"
             ],
             [
              0.6666666666666666,
              "#ed7953"
             ],
             [
              0.7777777777777778,
              "#fb9f3a"
             ],
             [
              0.8888888888888888,
              "#fdca26"
             ],
             [
              1,
              "#f0f921"
             ]
            ],
            "type": "histogram2dcontour"
           }
          ],
          "mesh3d": [
           {
            "colorbar": {
             "outlinewidth": 0,
             "ticks": ""
            },
            "type": "mesh3d"
           }
          ],
          "parcoords": [
           {
            "line": {
             "colorbar": {
              "outlinewidth": 0,
              "ticks": ""
             }
            },
            "type": "parcoords"
           }
          ],
          "pie": [
           {
            "automargin": true,
            "type": "pie"
           }
          ],
          "scatter": [
           {
            "fillpattern": {
             "fillmode": "overlay",
             "size": 10,
             "solidity": 0.2
            },
            "type": "scatter"
           }
          ],
          "scatter3d": [
           {
            "line": {
             "colorbar": {
              "outlinewidth": 0,
              "ticks": ""
             }
            },
            "marker": {
             "colorbar": {
              "outlinewidth": 0,
              "ticks": ""
             }
            },
            "type": "scatter3d"
           }
          ],
          "scattercarpet": [
           {
            "marker": {
             "colorbar": {
              "outlinewidth": 0,
              "ticks": ""
             }
            },
            "type": "scattercarpet"
           }
          ],
          "scattergeo": [
           {
            "marker": {
             "colorbar": {
              "outlinewidth": 0,
              "ticks": ""
             }
            },
            "type": "scattergeo"
           }
          ],
          "scattergl": [
           {
            "marker": {
             "colorbar": {
              "outlinewidth": 0,
              "ticks": ""
             }
            },
            "type": "scattergl"
           }
          ],
          "scattermapbox": [
           {
            "marker": {
             "colorbar": {
              "outlinewidth": 0,
              "ticks": ""
             }
            },
            "type": "scattermapbox"
           }
          ],
          "scatterpolar": [
           {
            "marker": {
             "colorbar": {
              "outlinewidth": 0,
              "ticks": ""
             }
            },
            "type": "scatterpolar"
           }
          ],
          "scatterpolargl": [
           {
            "marker": {
             "colorbar": {
              "outlinewidth": 0,
              "ticks": ""
             }
            },
            "type": "scatterpolargl"
           }
          ],
          "scatterternary": [
           {
            "marker": {
             "colorbar": {
              "outlinewidth": 0,
              "ticks": ""
             }
            },
            "type": "scatterternary"
           }
          ],
          "surface": [
           {
            "colorbar": {
             "outlinewidth": 0,
             "ticks": ""
            },
            "colorscale": [
             [
              0,
              "#0d0887"
             ],
             [
              0.1111111111111111,
              "#46039f"
             ],
             [
              0.2222222222222222,
              "#7201a8"
             ],
             [
              0.3333333333333333,
              "#9c179e"
             ],
             [
              0.4444444444444444,
              "#bd3786"
             ],
             [
              0.5555555555555556,
              "#d8576b"
             ],
             [
              0.6666666666666666,
              "#ed7953"
             ],
             [
              0.7777777777777778,
              "#fb9f3a"
             ],
             [
              0.8888888888888888,
              "#fdca26"
             ],
             [
              1,
              "#f0f921"
             ]
            ],
            "type": "surface"
           }
          ],
          "table": [
           {
            "cells": {
             "fill": {
              "color": "#EBF0F8"
             },
             "line": {
              "color": "white"
             }
            },
            "header": {
             "fill": {
              "color": "#C8D4E3"
             },
             "line": {
              "color": "white"
             }
            },
            "type": "table"
           }
          ]
         },
         "layout": {
          "annotationdefaults": {
           "arrowcolor": "#2a3f5f",
           "arrowhead": 0,
           "arrowwidth": 1
          },
          "autotypenumbers": "strict",
          "coloraxis": {
           "colorbar": {
            "outlinewidth": 0,
            "ticks": ""
           }
          },
          "colorscale": {
           "diverging": [
            [
             0,
             "#8e0152"
            ],
            [
             0.1,
             "#c51b7d"
            ],
            [
             0.2,
             "#de77ae"
            ],
            [
             0.3,
             "#f1b6da"
            ],
            [
             0.4,
             "#fde0ef"
            ],
            [
             0.5,
             "#f7f7f7"
            ],
            [
             0.6,
             "#e6f5d0"
            ],
            [
             0.7,
             "#b8e186"
            ],
            [
             0.8,
             "#7fbc41"
            ],
            [
             0.9,
             "#4d9221"
            ],
            [
             1,
             "#276419"
            ]
           ],
           "sequential": [
            [
             0,
             "#0d0887"
            ],
            [
             0.1111111111111111,
             "#46039f"
            ],
            [
             0.2222222222222222,
             "#7201a8"
            ],
            [
             0.3333333333333333,
             "#9c179e"
            ],
            [
             0.4444444444444444,
             "#bd3786"
            ],
            [
             0.5555555555555556,
             "#d8576b"
            ],
            [
             0.6666666666666666,
             "#ed7953"
            ],
            [
             0.7777777777777778,
             "#fb9f3a"
            ],
            [
             0.8888888888888888,
             "#fdca26"
            ],
            [
             1,
             "#f0f921"
            ]
           ],
           "sequentialminus": [
            [
             0,
             "#0d0887"
            ],
            [
             0.1111111111111111,
             "#46039f"
            ],
            [
             0.2222222222222222,
             "#7201a8"
            ],
            [
             0.3333333333333333,
             "#9c179e"
            ],
            [
             0.4444444444444444,
             "#bd3786"
            ],
            [
             0.5555555555555556,
             "#d8576b"
            ],
            [
             0.6666666666666666,
             "#ed7953"
            ],
            [
             0.7777777777777778,
             "#fb9f3a"
            ],
            [
             0.8888888888888888,
             "#fdca26"
            ],
            [
             1,
             "#f0f921"
            ]
           ]
          },
          "colorway": [
           "#636efa",
           "#EF553B",
           "#00cc96",
           "#ab63fa",
           "#FFA15A",
           "#19d3f3",
           "#FF6692",
           "#B6E880",
           "#FF97FF",
           "#FECB52"
          ],
          "font": {
           "color": "#2a3f5f"
          },
          "geo": {
           "bgcolor": "white",
           "lakecolor": "white",
           "landcolor": "#E5ECF6",
           "showlakes": true,
           "showland": true,
           "subunitcolor": "white"
          },
          "hoverlabel": {
           "align": "left"
          },
          "hovermode": "closest",
          "mapbox": {
           "style": "light"
          },
          "paper_bgcolor": "white",
          "plot_bgcolor": "#E5ECF6",
          "polar": {
           "angularaxis": {
            "gridcolor": "white",
            "linecolor": "white",
            "ticks": ""
           },
           "bgcolor": "#E5ECF6",
           "radialaxis": {
            "gridcolor": "white",
            "linecolor": "white",
            "ticks": ""
           }
          },
          "scene": {
           "xaxis": {
            "backgroundcolor": "#E5ECF6",
            "gridcolor": "white",
            "gridwidth": 2,
            "linecolor": "white",
            "showbackground": true,
            "ticks": "",
            "zerolinecolor": "white"
           },
           "yaxis": {
            "backgroundcolor": "#E5ECF6",
            "gridcolor": "white",
            "gridwidth": 2,
            "linecolor": "white",
            "showbackground": true,
            "ticks": "",
            "zerolinecolor": "white"
           },
           "zaxis": {
            "backgroundcolor": "#E5ECF6",
            "gridcolor": "white",
            "gridwidth": 2,
            "linecolor": "white",
            "showbackground": true,
            "ticks": "",
            "zerolinecolor": "white"
           }
          },
          "shapedefaults": {
           "line": {
            "color": "#2a3f5f"
           }
          },
          "ternary": {
           "aaxis": {
            "gridcolor": "white",
            "linecolor": "white",
            "ticks": ""
           },
           "baxis": {
            "gridcolor": "white",
            "linecolor": "white",
            "ticks": ""
           },
           "bgcolor": "#E5ECF6",
           "caxis": {
            "gridcolor": "white",
            "linecolor": "white",
            "ticks": ""
           }
          },
          "title": {
           "x": 0.05
          },
          "xaxis": {
           "automargin": true,
           "gridcolor": "white",
           "linecolor": "white",
           "ticks": "",
           "title": {
            "standoff": 15
           },
           "zerolinecolor": "white",
           "zerolinewidth": 2
          },
          "yaxis": {
           "automargin": true,
           "gridcolor": "white",
           "linecolor": "white",
           "ticks": "",
           "title": {
            "standoff": 15
           },
           "zerolinecolor": "white",
           "zerolinewidth": 2
          }
         }
        },
        "width": 800
       }
      }
     },
     "metadata": {},
     "output_type": "display_data"
    }
   ],
   "source": [
    "# Gráfico 3D com scatter \n",
    "trace = go.Scatter3d(\n",
    "    x=df_paises['horas'], \n",
    "    y=df_paises['idade'], \n",
    "    z=df_paises['cpi'], \n",
    "    mode='markers',\n",
    "    marker={\n",
    "        'size': 10,\n",
    "        'color': 'darkorchid',\n",
    "        'opacity': 0.7,\n",
    "    },\n",
    ")\n",
    "\n",
    "layout = go.Layout(\n",
    "    margin={'l': 0, 'r': 0, 'b': 0, 't': 0},\n",
    "    width=800,\n",
    "    height=800,\n",
    "    plot_bgcolor='white',\n",
    "    scene=dict(\n",
    "        xaxis=dict(\n",
    "            gridcolor='rgb(200, 200, 200)',\n",
    "            backgroundcolor='whitesmoke'\n",
    "        ),\n",
    "        yaxis=dict(\n",
    "            gridcolor='rgb(200, 200, 200)',\n",
    "            backgroundcolor='whitesmoke'\n",
    "        ),\n",
    "        zaxis=dict(\n",
    "            gridcolor='rgb(200, 200, 200)',\n",
    "            backgroundcolor='whitesmoke'\n",
    "        )\n",
    "    )\n",
    ")\n",
    "\n",
    "data = [trace]\n",
    "\n",
    "plot_figure = go.Figure(data=data, layout=layout)\n",
    "plot_figure.update_layout(scene=dict(\n",
    "    xaxis_title='horas',\n",
    "    yaxis_title='idade',\n",
    "    zaxis_title='cpi'\n",
    "))\n",
    "\n",
    "plot_figure.show()"
   ]
  },
  {
   "cell_type": "code",
   "execution_count": 4,
   "metadata": {},
   "outputs": [
    {
     "name": "stdout",
     "output_type": "stream",
     "text": [
      "País com mais horas trabalhadas:\n"
     ]
    },
    {
     "data": {
      "text/plain": [
       "pais     Czech_Rep\n",
       "cpi            4.6\n",
       "idade           42\n",
       "horas         38.1\n",
       "Name: 10, dtype: object"
      ]
     },
     "execution_count": 4,
     "metadata": {},
     "output_type": "execute_result"
    }
   ],
   "source": [
    "# País com mais horas trabalhadas\n",
    "print(\"País com mais horas trabalhadas:\")\n",
    "df_paises.loc[df_paises.horas.idxmax()]"
   ]
  },
  {
   "cell_type": "code",
   "execution_count": 5,
   "metadata": {},
   "outputs": [
    {
     "name": "stdout",
     "output_type": "stream",
     "text": [
      "            cpi     idade     horas\n",
      "cpi    1.000000  0.442838 -0.435724\n",
      "idade  0.442838  1.000000 -0.191748\n",
      "horas -0.435724 -0.191748  1.000000\n"
     ]
    },
    {
     "data": {
      "image/png": "[encoded data removed]",
      "text/plain": [
       "<Figure size 1500x1000 with 2 Axes>"
      ]
     },
     "metadata": {},
     "output_type": "display_data"
    }
   ],
   "source": [
    "# Matriz de correlações\n",
    "\n",
    "correlation_matrix = df_paises.iloc[:,1:4].corr()\n",
    "print(correlation_matrix)\n",
    "\n",
    "# Mapa de calor com as correlações entre todas as variáveis quantitativas\n",
    "plt.figure(figsize=(15, 10))\n",
    "heatmap = sns.heatmap(correlation_matrix, annot=True, fmt=\".4f\",\n",
    "                      cmap=plt.cm.viridis_r,\n",
    "                      annot_kws={'size': 25}, vmin=-1, vmax=1)\n",
    "heatmap.set_xticklabels(heatmap.get_xticklabels(), fontsize=17)\n",
    "heatmap.set_yticklabels(heatmap.get_yticklabels(), fontsize=17)\n",
    "cbar = heatmap.collections[0].colorbar\n",
    "cbar.ax.tick_params(labelsize=17)\n",
    "plt.show()\n",
    "\n",
    "# Paletas de cores ('_r' reverte a sequência de cores):\n",
    "# viridis\n",
    "# inferno\n",
    "# magma\n",
    "# cividis\n",
    "# coolwarm\n",
    "# Blues\n",
    "# Greens\n",
    "# Reds"
   ]
  },
  {
   "cell_type": "code",
   "execution_count": 7,
   "metadata": {},
   "outputs": [
    {
     "data": {
      "image/png": "[encoded data removed]",
      "text/plain": [
       "<Figure size 640x480 with 2 Axes>"
      ]
     },
     "metadata": {},
     "output_type": "display_data"
    }
   ],
   "source": [
    "# Diagrama interessante (grafo) que mostra a inter-relação entre as\n",
    "# variáveis e a magnitude das correlações entre elas\n",
    "\n",
    "import networkx as nx\n",
    "import matplotlib.pyplot as plt\n",
    "import matplotlib.cm as cm\n",
    "\n",
    "# Criação de um grafo direcionado\n",
    "G = nx.DiGraph()\n",
    "\n",
    "# Adição das variáveis como nós do grafo\n",
    "for variable in correlation_matrix.columns:\n",
    "    G.add_node(variable)\n",
    "\n",
    "# Adição das arestas com espessuras proporcionais às correlações\n",
    "for i, variable1 in enumerate(correlation_matrix.columns):\n",
    "    for j, variable2 in enumerate(correlation_matrix.columns):\n",
    "        if i != j:\n",
    "            correlation = correlation_matrix.iloc[i, j]\n",
    "            if abs(correlation) > 0:\n",
    "                G.add_edge(variable1, variable2, weight=correlation)\n",
    "\n",
    "# Obtenção da lista de correlações das arestas\n",
    "correlations = [d[\"weight\"] for _, _, d in G.edges(data=True)]\n",
    "\n",
    "# Definição da dimensão dos nós\n",
    "node_size = 2700\n",
    "\n",
    "# Definição da cor dos nós\n",
    "node_color = 'black'\n",
    "\n",
    "# Definição da escala de cores das retas (correspondência com as correlações)\n",
    "cmap = plt.colormaps.get_cmap('coolwarm_r')\n",
    "\n",
    "# Criação de uma lista de espessuras das arestas proporcional às correlações\n",
    "edge_widths = [abs(d[\"weight\"]) * 25 for _, _, d in G.edges(data=True)]\n",
    "\n",
    "# Criação do layout do grafo com maior distância entre os nós\n",
    "pos = nx.spring_layout(G, k=0.75)  # k para controlar a distância entre os nós\n",
    "\n",
    "# Desenho dos nós e das arestas com base nas correlações e espessuras\n",
    "nx.draw_networkx_nodes(G, pos, node_size=node_size, node_color=node_color)\n",
    "nx.draw_networkx_edges(G, pos, width=edge_widths, edge_color=correlations,\n",
    "                       edge_cmap=cmap, alpha=0.7)\n",
    "\n",
    "# Adição dos rótulos dos nós\n",
    "labels = {node: node for node in G.nodes}\n",
    "nx.draw_networkx_labels(G, pos, labels, font_size=10, font_color='white')\n",
    "\n",
    "# Ajuste dos limites dos eixos\n",
    "ax = plt.gca()\n",
    "ax.margins(0.1)\n",
    "plt.axis(\"off\")\n",
    "\n",
    "# Criação da legenda com a escala de cores definida\n",
    "smp = cm.ScalarMappable(cmap=cmap)\n",
    "smp.set_array([min(correlations), max(correlations)])\n",
    "cbar = plt.colorbar(smp, ax=ax, label='Correlação')\n",
    "\n",
    "# Exibição do gráfico\n",
    "plt.show()"
   ]
  },
  {
   "cell_type": "code",
   "execution_count": 8,
   "metadata": {},
   "outputs": [
    {
     "name": "stderr",
     "output_type": "stream",
     "text": [
      "c:\\Users\\guilh\\OneDrive\\MBA\\Machine Learning\\Supervisionado\\Regressão Linear\\regressao_linear\\.venv\\Lib\\site-packages\\pingouin\\correlation.py:1116: FutureWarning:\n",
      "\n",
      "DataFrame.applymap has been deprecated. Use DataFrame.map instead.\n",
      "\n"
     ]
    },
    {
     "data": {
      "text/html": [
       "<div>\n",
       "<style scoped>\n",
       "    .dataframe tbody tr th:only-of-type {\n",
       "        vertical-align: middle;\n",
       "    }\n",
       "\n",
       "    .dataframe tbody tr th {\n",
       "        vertical-align: top;\n",
       "    }\n",
       "\n",
       "    .dataframe thead th {\n",
       "        text-align: right;\n",
       "    }\n",
       "</style>\n",
       "<table border=\"1\" class=\"dataframe\">\n",
       "  <thead>\n",
       "    <tr style=\"text-align: right;\">\n",
       "      <th></th>\n",
       "      <th>cpi</th>\n",
       "      <th>idade</th>\n",
       "      <th>horas</th>\n",
       "    </tr>\n",
       "  </thead>\n",
       "  <tbody>\n",
       "    <tr>\n",
       "      <th>cpi</th>\n",
       "      <td>-</td>\n",
       "      <td>***</td>\n",
       "      <td>***</td>\n",
       "    </tr>\n",
       "    <tr>\n",
       "      <th>idade</th>\n",
       "      <td>0.442838</td>\n",
       "      <td>-</td>\n",
       "      <td></td>\n",
       "    </tr>\n",
       "    <tr>\n",
       "      <th>horas</th>\n",
       "      <td>-0.435724</td>\n",
       "      <td>-0.191748</td>\n",
       "      <td>-</td>\n",
       "    </tr>\n",
       "  </tbody>\n",
       "</table>\n",
       "</div>"
      ],
      "text/plain": [
       "             cpi      idade horas\n",
       "cpi            -        ***   ***\n",
       "idade   0.442838          -      \n",
       "horas  -0.435724  -0.191748     -"
      ]
     },
     "execution_count": 8,
     "metadata": {},
     "output_type": "execute_result"
    }
   ],
   "source": [
    "# Matriz de correlações mais elaborada, com uso da função 'rcorr' do\n",
    "# pacote 'pingouin'\n",
    "\n",
    "import pingouin as pg\n",
    "\n",
    "correlation_matrix2 = pg.rcorr(df_paises, method='pearson',\n",
    "                               upper='pval', decimals=6,\n",
    "                               pval_stars={0.01: '***',\n",
    "                                           0.05: '**',\n",
    "                                           0.10: '*'})\n",
    "correlation_matrix2"
   ]
  },
  {
   "cell_type": "code",
   "execution_count": 9,
   "metadata": {},
   "outputs": [
    {
     "data": {
      "text/plain": [
       "<Figure size 2000x1000 with 0 Axes>"
      ]
     },
     "metadata": {},
     "output_type": "display_data"
    },
    {
     "data": {
      "image/png": "[encoded data removed]",
      "text/plain": [
       "<Figure size 1275x750 with 12 Axes>"
      ]
     },
     "metadata": {},
     "output_type": "display_data"
    }
   ],
   "source": [
    "# Gráfico com distribuições das variáveis, scatters, valores das\n",
    "# correlações e respectivas significâncias estatísticas\n",
    "\n",
    "def corrfunc(x, y, **kws):\n",
    "    (r, p) = pearsonr(x, y)\n",
    "    ax = plt.gca()\n",
    "    ax.annotate(\"r = {:.3f}\".format(r),\n",
    "                xy=(.02, .9), xycoords=ax.transAxes, fontsize=14)\n",
    "    ax.annotate(\"p = {:.3f}\".format(p),\n",
    "                xy=(.02, .8), xycoords=ax.transAxes, fontsize=14)\n",
    "\n",
    "# Configuração do gráfico\n",
    "sns.set_theme(style=\"whitegrid\", palette=\"viridis\")\n",
    "\n",
    "plt.figure(figsize=(20,10))\n",
    "graph = sns.pairplot(df_paises, diag_kind=\"kde\", plot_kws={\"color\": \"darkorchid\"},\n",
    "                     height=2.5, aspect=1.7)\n",
    "graph.map(corrfunc)\n",
    "for ax in graph.axes.flat:\n",
    "    ax.set_xlabel(ax.get_xlabel(), fontsize=14)\n",
    "    ax.set_ylabel(ax.get_ylabel(), fontsize=14)\n",
    "plt.show()"
   ]
  },
  {
   "cell_type": "code",
   "execution_count": 16,
   "metadata": {},
   "outputs": [],
   "source": [
    "# Estimação de um modelo de regressão múltipla com as variáveis do\n",
    "# dataframe 'df_paises'\n",
    "\n",
    "# Estimando o modelo de regressão múltipla por OLS\n",
    "modelo_paises = sm.OLS.from_formula(\"cpi ~ idade + horas\", df_paises).fit()"
   ]
  },
  {
   "cell_type": "code",
   "execution_count": 19,
   "metadata": {},
   "outputs": [
    {
     "name": "stdout",
     "output_type": "stream",
     "text": [
      "Quantidade de observações 50.0 igual a quantidade de linhas 50\n"
     ]
    }
   ],
   "source": [
    "# Comparando quantidade de linhas com quantidade de observações\n",
    "print(f\"Quantidade de observações {modelo_paises.nobs} igual a quantidade de linhas {df_paises.shape[0]}\")"
   ]
  },
  {
   "cell_type": "code",
   "execution_count": 29,
   "metadata": {},
   "outputs": [
    {
     "name": "stdout",
     "output_type": "stream",
     "text": [
      "Graus de liberdade do Modelo: 2.0\n",
      "Graus de Liberdade dos Resíduos: 47.0\n",
      "Estatística F: 11.26\n",
      "F Crítico: 3.20\n",
      "P-value de F: 0.000101\n",
      "\n",
      "Estatística F maior que F Crítico, portanto há modelo!!!!!\n"
     ]
    }
   ],
   "source": [
    "# Graus de Liberdade\n",
    "graus_liberdade_modelo = modelo_paises.df_model # Quantidade de Variáveis\n",
    "graus_liberdade_dos_erros = modelo_paises.df_resid # Quantidade de observações - 1 (intercepto) - 2 (quantidade de variáveis, \n",
    "                                                   # pois não se pode ter uma convergência do modelo se tiver uma quantidade \n",
    "                                                   # maior de colunas do que de linhas)\n",
    "# Somatorio dos quadrados do modelo (SQM)\n",
    "sqm = modelo_paises.ess\n",
    "# Soma dos erros ao quadrado (SQErro)\n",
    "sqerro = modelo_paises.ssr\n",
    "\n",
    "# Estatística F\n",
    "F = (sqm / graus_liberdade_modelo) / (sqerro / graus_liberdade_dos_erros)\n",
    "\n",
    "# Definição do p-value associado ao F Calculado\n",
    "from scipy.stats import f\n",
    "\n",
    "p_value_f = 1 - f.cdf(F, graus_liberdade_modelo, graus_liberdade_dos_erros)\n",
    "\n",
    "# Cálculo do F Crítico\n",
    "f_critico = f.ppf(0.95, graus_liberdade_modelo, graus_liberdade_dos_erros)\n",
    "\n",
    "\n",
    "print(f\"Graus de liberdade do Modelo: {graus_liberdade_modelo}\\nGraus de Liberdade dos Resíduos: {graus_liberdade_dos_erros}\")\n",
    "print(f\"Estatística F: {F:.2f}\")\n",
    "print(f\"F Crítico: {f_critico:.2f}\")\n",
    "print(f\"P-value de F: {p_value_f:.6f}\")\n",
    "\n",
    "print(\"\\nEstatística F maior que F Crítico, portanto há modelo!!!!!\")"
   ]
  },
  {
   "cell_type": "code",
   "execution_count": 10,
   "metadata": {},
   "outputs": [
    {
     "name": "stdout",
     "output_type": "stream",
     "text": [
      "                            OLS Regression Results                            \n",
      "==============================================================================\n",
      "Dep. Variable:                    cpi   R-squared:                       0.324\n",
      "Model:                            OLS   Adj. R-squared:                  0.295\n",
      "Method:                 Least Squares   F-statistic:                     11.26\n",
      "Date:                Sat, 10 Aug 2024   Prob (F-statistic):           0.000101\n",
      "Time:                        08:10:55   Log-Likelihood:                -109.93\n",
      "No. Observations:                  50   AIC:                             225.9\n",
      "Df Residuals:                      47   BIC:                             231.6\n",
      "Df Model:                           2                                         \n",
      "Covariance Type:            nonrobust                                         \n",
      "==============================================================================\n",
      "                 coef    std err          t      P>|t|      [0.025      0.975]\n",
      "------------------------------------------------------------------------------\n",
      "Intercept     11.9719      5.165      2.318      0.025       1.581      22.363\n",
      "idade          0.0997      0.033      3.052      0.004       0.034       0.165\n",
      "horas         -0.4013      0.135     -2.980      0.005      -0.672      -0.130\n",
      "==============================================================================\n",
      "Omnibus:                        3.389   Durbin-Watson:                   1.822\n",
      "Prob(Omnibus):                  0.184   Jarque-Bera (JB):                1.762\n",
      "Skew:                           0.131   Prob(JB):                        0.414\n",
      "Kurtosis:                       2.119   Cond. No.                     1.13e+03\n",
      "==============================================================================\n",
      "\n",
      "Notes:\n",
      "[1] Standard Errors assume that the covariance matrix of the errors is correctly specified.\n",
      "[2] The condition number is large, 1.13e+03. This might indicate that there are\n",
      "strong multicollinearity or other numerical problems.\n",
      "R2 ajustado: 0.295099700531963\n"
     ]
    }
   ],
   "source": [
    "# Constatação equivalente a aterior porém utilizando apenas uma função!\n",
    "\n",
    "# Resumo estatístico do 'modelo_paises'\n",
    "print(modelo_paises.summary())\n",
    "\n",
    "# Cálculo do R² ajustado (slide 31 da apostila)\n",
    "r2_ajust = 1-((len(df_paises.index)-1)/(len(df_paises.index)-\\\n",
    "                                          modelo_paises.params.count()))*\\\n",
    "    (1-modelo_paises.rsquared)\n",
    "print(f\"R2 ajustado: {r2_ajust}\") # modo direto: modelo_paises.rsquared_adj"
   ]
  },
  {
   "cell_type": "markdown",
   "metadata": {},
   "source": [
    "**Interpretações do resumo da regressão:**\n",
    "\n",
    " - Ao menos um beta é estatísticamente significante, já que o p-value da estatística F (Prob (F-statistic)) é maior que 0;\n",
    " - Os p-values da estatística t para cada uma das variáveis também são maiores que 0 e estatísticamente significantes, inclusive o alfa!\n",
    "\n",
    "Interpretação dos resultados do resumo:"
   ]
  },
  {
   "attachments": {
    "image.png": {
     "image/png": "[encoded data removed]"
    }
   },
   "cell_type": "markdown",
   "metadata": {},
   "source": [
    "![image.png](attachment:image.png)"
   ]
  },
  {
   "cell_type": "markdown",
   "metadata": {},
   "source": [
    "Observações Finais:\n",
    "\n",
    " - O R² ajustado não demonstra o percentual de variância da variável dependente, ele só serve para comparar modelos!!!"
   ]
  },
  {
   "attachments": {
    "image.png": {
     "image/png": "[encoded data removed]"
    }
   },
   "cell_type": "markdown",
   "metadata": {},
   "source": [
    "![image.png](attachment:image.png)\n",
    "\n",
    "*Exemplo levando em consideração o modelo da aula*"
   ]
  },
  {
   "cell_type": "code",
   "execution_count": 11,
   "metadata": {},
   "outputs": [
    {
     "data": {
      "text/plain": [
       "np.float64(11.971915314376107)"
      ]
     },
     "execution_count": 11,
     "metadata": {},
     "output_type": "execute_result"
    }
   ],
   "source": [
    "# Cálculo utilizando os próprios parâmetros estimados do modelo\n",
    "modelo_paises.params.iloc[0]"
   ]
  },
  {
   "cell_type": "code",
   "execution_count": 12,
   "metadata": {},
   "outputs": [
    {
     "data": {
      "text/html": [
       "<div>\n",
       "<style scoped>\n",
       "    .dataframe tbody tr th:only-of-type {\n",
       "        vertical-align: middle;\n",
       "    }\n",
       "\n",
       "    .dataframe tbody tr th {\n",
       "        vertical-align: top;\n",
       "    }\n",
       "\n",
       "    .dataframe thead th {\n",
       "        text-align: right;\n",
       "    }\n",
       "</style>\n",
       "<table border=\"1\" class=\"dataframe\">\n",
       "  <thead>\n",
       "    <tr style=\"text-align: right;\">\n",
       "      <th></th>\n",
       "      <th>pais</th>\n",
       "      <th>cpi</th>\n",
       "      <th>idade</th>\n",
       "      <th>horas</th>\n",
       "      <th>cpifit</th>\n",
       "    </tr>\n",
       "  </thead>\n",
       "  <tbody>\n",
       "    <tr>\n",
       "      <th>0</th>\n",
       "      <td>Argentina</td>\n",
       "      <td>3.9</td>\n",
       "      <td>72</td>\n",
       "      <td>35.0</td>\n",
       "      <td>5.103394</td>\n",
       "    </tr>\n",
       "    <tr>\n",
       "      <th>1</th>\n",
       "      <td>Australia</td>\n",
       "      <td>8.7</td>\n",
       "      <td>64</td>\n",
       "      <td>32.0</td>\n",
       "      <td>5.509820</td>\n",
       "    </tr>\n",
       "    <tr>\n",
       "      <th>2</th>\n",
       "      <td>Austria</td>\n",
       "      <td>7.9</td>\n",
       "      <td>72</td>\n",
       "      <td>32.0</td>\n",
       "      <td>6.307405</td>\n",
       "    </tr>\n",
       "    <tr>\n",
       "      <th>3</th>\n",
       "      <td>Belgium</td>\n",
       "      <td>7.1</td>\n",
       "      <td>67</td>\n",
       "      <td>30.1</td>\n",
       "      <td>6.571454</td>\n",
       "    </tr>\n",
       "    <tr>\n",
       "      <th>4</th>\n",
       "      <td>Brazil</td>\n",
       "      <td>4.0</td>\n",
       "      <td>59</td>\n",
       "      <td>35.0</td>\n",
       "      <td>3.807319</td>\n",
       "    </tr>\n",
       "  </tbody>\n",
       "</table>\n",
       "</div>"
      ],
      "text/plain": [
       "        pais  cpi  idade  horas    cpifit\n",
       "0  Argentina  3.9     72   35.0  5.103394\n",
       "1  Australia  8.7     64   32.0  5.509820\n",
       "2    Austria  7.9     72   32.0  6.307405\n",
       "3    Belgium  7.1     67   30.1  6.571454\n",
       "4     Brazil  4.0     59   35.0  3.807319"
      ]
     },
     "execution_count": 12,
     "metadata": {},
     "output_type": "execute_result"
    }
   ],
   "source": [
    "# Salvando os fitted values na base de dados\n",
    "\n",
    "df_paises['cpifit'] = modelo_paises.fittedvalues\n",
    "df_paises.head()"
   ]
  },
  {
   "cell_type": "code",
   "execution_count": 13,
   "metadata": {},
   "outputs": [
    {
     "data": {
      "application/vnd.plotly.v1+json": {
       "config": {
        "plotlyServerURL": "https://plot.ly"
       },
       "data": [
        {
         "marker": {
          "color": "darkorchid",
          "opacity": 0.7,
          "size": 10
         },
         "mode": "markers",
         "type": "scatter3d",
         "x": [
          35,
          32,
          32,
          30.1,
          35,
          33.4,
          34,
          34,
          33,
          32,
          38.1,
          30,
          32,
          30,
          27.5,
          30,
          31,
          29.8,
          33.5,
          32,
          31.3,
          35.1,
          32,
          33.9,
          32.4,
          31.7,
          32.8,
          26.8,
          31,
          27.1,
          33.2,
          34.7,
          38,
          33.2,
          34.5,
          34.9,
          33.8,
          34.5,
          37.8,
          31.8,
          30,
          32,
          32,
          34.1,
          31.2,
          34.5,
          32.8,
          32.1,
          34.5,
          34.9
         ],
         "y": [
          72,
          64,
          72,
          67,
          59,
          61,
          70,
          49,
          79,
          58,
          42,
          76,
          59,
          70,
          66,
          60,
          53,
          56,
          63,
          42,
          63,
          66,
          58,
          44,
          62,
          39,
          73,
          61,
          65,
          64,
          58,
          75,
          50,
          69,
          67,
          46,
          58,
          61,
          64,
          62,
          70,
          65,
          34,
          63,
          68,
          61,
          44,
          60,
          65,
          51
         ],
         "z": [
          3.9,
          8.7,
          7.9,
          7.1,
          4,
          8.9,
          6.2,
          2.5,
          4,
          6.3,
          4.6,
          9.3,
          2.1,
          6.8,
          7.9,
          3.5,
          8.5,
          2.3,
          1.8,
          0.8,
          8,
          3.9,
          2,
          1.9,
          2.8,
          1.5,
          3.4,
          8.8,
          9.3,
          8.6,
          3.3,
          1.4,
          5.3,
          6,
          3.7,
          2.1,
          3.7,
          3.5,
          2.8,
          6.1,
          9.2,
          8.7,
          1,
          3.8,
          2.5,
          4.4,
          2.4,
          7.6,
          7.1,
          2.8
         ]
        },
        {
         "color": "orange",
         "opacity": 0.5,
         "type": "mesh3d",
         "x": [
          35,
          32,
          32,
          30.1,
          35,
          33.4,
          34,
          34,
          33,
          32,
          38.1,
          30,
          32,
          30,
          27.5,
          30,
          31,
          29.8,
          33.5,
          32,
          31.3,
          35.1,
          32,
          33.9,
          32.4,
          31.7,
          32.8,
          26.8,
          31,
          27.1,
          33.2,
          34.7,
          38,
          33.2,
          34.5,
          34.9,
          33.8,
          34.5,
          37.8,
          31.8,
          30,
          32,
          32,
          34.1,
          31.2,
          34.5,
          32.8,
          32.1,
          34.5,
          34.9
         ],
         "y": [
          72,
          64,
          72,
          67,
          59,
          61,
          70,
          49,
          79,
          58,
          42,
          76,
          59,
          70,
          66,
          60,
          53,
          56,
          63,
          42,
          63,
          66,
          58,
          44,
          62,
          39,
          73,
          61,
          65,
          64,
          58,
          75,
          50,
          69,
          67,
          46,
          58,
          61,
          64,
          62,
          70,
          65,
          34,
          63,
          68,
          61,
          44,
          60,
          65,
          51
         ],
         "z": [
          5.103394349413976,
          5.509819595334671,
          6.307404506292427,
          6.571453702966848,
          3.8073188691076227,
          4.648853847182235,
          5.305334840634021,
          3.2116744493699123,
          6.603954584420978,
          4.911630912116353,
          0.868307104547994,
          7.50887039969027,
          5.011329025986074,
          6.910681716471956,
          7.515231058391785,
          5.913700577774762,
          4.814477061727239,
          5.595175466087778,
          4.808116403025725,
          3.3164610902008445,
          5.6910571847365885,
          4.465071994299709,
          4.911630912116353,
          2.7533175519172643,
          5.14988868001144,
          3.1377677642795327,
          6.0860332449945584,
          7.297676192314826,
          6.010854428163875,
          7.476369518236139,
          4.430026849364971,
          5.522889706710979,
          1.706025687401699,
          5.526706101931886,
          4.805572139545121,
          2.5513770606972224,
          4.189224817989284,
          4.207383456326803,
          3.182066625369667,
          5.390690711387129,
          6.910681716471956,
          5.6095177092043915,
          2.5188761792430903,
          4.567314371650034,
          6.229681425981134,
          4.207383456326803,
          3.1947879427726966,
          5.070893467959846,
          4.606175911805683,
          3.0498676300458194
         ]
        }
       ],
       "layout": {
        "height": 800,
        "margin": {
         "b": 0,
         "l": 0,
         "r": 0,
         "t": 0
        },
        "plot_bgcolor": "white",
        "scene": {
         "xaxis": {
          "backgroundcolor": "whitesmoke",
          "gridcolor": "rgb(200, 200, 200)",
          "title": {
           "text": "horas"
          }
         },
         "yaxis": {
          "backgroundcolor": "whitesmoke",
          "gridcolor": "rgb(200, 200, 200)",
          "title": {
           "text": "idade"
          }
         },
         "zaxis": {
          "backgroundcolor": "whitesmoke",
          "gridcolor": "rgb(200, 200, 200)",
          "title": {
           "text": "cpi"
          }
         }
        },
        "template": {
         "data": {
          "bar": [
           {
            "error_x": {
             "color": "#2a3f5f"
            },
            "error_y": {
             "color": "#2a3f5f"
            },
            "marker": {
             "line": {
              "color": "#E5ECF6",
              "width": 0.5
             },
             "pattern": {
              "fillmode": "overlay",
              "size": 10,
              "solidity": 0.2
             }
            },
            "type": "bar"
           }
          ],
          "barpolar": [
           {
            "marker": {
             "line": {
              "color": "#E5ECF6",
              "width": 0.5
             },
             "pattern": {
              "fillmode": "overlay",
              "size": 10,
              "solidity": 0.2
             }
            },
            "type": "barpolar"
           }
          ],
          "carpet": [
           {
            "aaxis": {
             "endlinecolor": "#2a3f5f",
             "gridcolor": "white",
             "linecolor": "white",
             "minorgridcolor": "white",
             "startlinecolor": "#2a3f5f"
            },
            "baxis": {
             "endlinecolor": "#2a3f5f",
             "gridcolor": "white",
             "linecolor": "white",
             "minorgridcolor": "white",
             "startlinecolor": "#2a3f5f"
            },
            "type": "carpet"
           }
          ],
          "choropleth": [
           {
            "colorbar": {
             "outlinewidth": 0,
             "ticks": ""
            },
            "type": "choropleth"
           }
          ],
          "contour": [
           {
            "colorbar": {
             "outlinewidth": 0,
             "ticks": ""
            },
            "colorscale": [
             [
              0,
              "#0d0887"
             ],
             [
              0.1111111111111111,
              "#46039f"
             ],
             [
              0.2222222222222222,
              "#7201a8"
             ],
             [
              0.3333333333333333,
              "#9c179e"
             ],
             [
              0.4444444444444444,
              "#bd3786"
             ],
             [
              0.5555555555555556,
              "#d8576b"
             ],
             [
              0.6666666666666666,
              "#ed7953"
             ],
             [
              0.7777777777777778,
              "#fb9f3a"
             ],
             [
              0.8888888888888888,
              "#fdca26"
             ],
             [
              1,
              "#f0f921"
             ]
            ],
            "type": "contour"
           }
          ],
          "contourcarpet": [
           {
            "colorbar": {
             "outlinewidth": 0,
             "ticks": ""
            },
            "type": "contourcarpet"
           }
          ],
          "heatmap": [
           {
            "colorbar": {
             "outlinewidth": 0,
             "ticks": ""
            },
            "colorscale": [
             [
              0,
              "#0d0887"
             ],
             [
              0.1111111111111111,
              "#46039f"
             ],
             [
              0.2222222222222222,
              "#7201a8"
             ],
             [
              0.3333333333333333,
              "#9c179e"
             ],
             [
              0.4444444444444444,
              "#bd3786"
             ],
             [
              0.5555555555555556,
              "#d8576b"
             ],
             [
              0.6666666666666666,
              "#ed7953"
             ],
             [
              0.7777777777777778,
              "#fb9f3a"
             ],
             [
              0.8888888888888888,
              "#fdca26"
             ],
             [
              1,
              "#f0f921"
             ]
            ],
            "type": "heatmap"
           }
          ],
          "heatmapgl": [
           {
            "colorbar": {
             "outlinewidth": 0,
             "ticks": ""
            },
            "colorscale": [
             [
              0,
              "#0d0887"
             ],
             [
              0.1111111111111111,
              "#46039f"
             ],
             [
              0.2222222222222222,
              "#7201a8"
             ],
             [
              0.3333333333333333,
              "#9c179e"
             ],
             [
              0.4444444444444444,
              "#bd3786"
             ],
             [
              0.5555555555555556,
              "#d8576b"
             ],
             [
              0.6666666666666666,
              "#ed7953"
             ],
             [
              0.7777777777777778,
              "#fb9f3a"
             ],
             [
              0.8888888888888888,
              "#fdca26"
             ],
             [
              1,
              "#f0f921"
             ]
            ],
            "type": "heatmapgl"
           }
          ],
          "histogram": [
           {
            "marker": {
             "pattern": {
              "fillmode": "overlay",
              "size": 10,
              "solidity": 0.2
             }
            },
            "type": "histogram"
           }
          ],
          "histogram2d": [
           {
            "colorbar": {
             "outlinewidth": 0,
             "ticks": ""
            },
            "colorscale": [
             [
              0,
              "#0d0887"
             ],
             [
              0.1111111111111111,
              "#46039f"
             ],
             [
              0.2222222222222222,
              "#7201a8"
             ],
             [
              0.3333333333333333,
              "#9c179e"
             ],
             [
              0.4444444444444444,
              "#bd3786"
             ],
             [
              0.5555555555555556,
              "#d8576b"
             ],
             [
              0.6666666666666666,
              "#ed7953"
             ],
             [
              0.7777777777777778,
              "#fb9f3a"
             ],
             [
              0.8888888888888888,
              "#fdca26"
             ],
             [
              1,
              "#f0f921"
             ]
            ],
            "type": "histogram2d"
           }
          ],
          "histogram2dcontour": [
           {
            "colorbar": {
             "outlinewidth": 0,
             "ticks": ""
            },
            "colorscale": [
             [
              0,
              "#0d0887"
             ],
             [
              0.1111111111111111,
              "#46039f"
             ],
             [
              0.2222222222222222,
              "#7201a8"
             ],
             [
              0.3333333333333333,
              "#9c179e"
             ],
             [
              0.4444444444444444,
              "#bd3786"
             ],
             [
              0.5555555555555556,
              "#d8576b"
             ],
             [
              0.6666666666666666,
              "#ed7953"
             ],
             [
              0.7777777777777778,
              "#fb9f3a"
             ],
             [
              0.8888888888888888,
              "#fdca26"
             ],
             [
              1,
              "#f0f921"
             ]
            ],
            "type": "histogram2dcontour"
           }
          ],
          "mesh3d": [
           {
            "colorbar": {
             "outlinewidth": 0,
             "ticks": ""
            },
            "type": "mesh3d"
           }
          ],
          "parcoords": [
           {
            "line": {
             "colorbar": {
              "outlinewidth": 0,
              "ticks": ""
             }
            },
            "type": "parcoords"
           }
          ],
          "pie": [
           {
            "automargin": true,
            "type": "pie"
           }
          ],
          "scatter": [
           {
            "fillpattern": {
             "fillmode": "overlay",
             "size": 10,
             "solidity": 0.2
            },
            "type": "scatter"
           }
          ],
          "scatter3d": [
           {
            "line": {
             "colorbar": {
              "outlinewidth": 0,
              "ticks": ""
             }
            },
            "marker": {
             "colorbar": {
              "outlinewidth": 0,
              "ticks": ""
             }
            },
            "type": "scatter3d"
           }
          ],
          "scattercarpet": [
           {
            "marker": {
             "colorbar": {
              "outlinewidth": 0,
              "ticks": ""
             }
            },
            "type": "scattercarpet"
           }
          ],
          "scattergeo": [
           {
            "marker": {
             "colorbar": {
              "outlinewidth": 0,
              "ticks": ""
             }
            },
            "type": "scattergeo"
           }
          ],
          "scattergl": [
           {
            "marker": {
             "colorbar": {
              "outlinewidth": 0,
              "ticks": ""
             }
            },
            "type": "scattergl"
           }
          ],
          "scattermapbox": [
           {
            "marker": {
             "colorbar": {
              "outlinewidth": 0,
              "ticks": ""
             }
            },
            "type": "scattermapbox"
           }
          ],
          "scatterpolar": [
           {
            "marker": {
             "colorbar": {
              "outlinewidth": 0,
              "ticks": ""
             }
            },
            "type": "scatterpolar"
           }
          ],
          "scatterpolargl": [
           {
            "marker": {
             "colorbar": {
              "outlinewidth": 0,
              "ticks": ""
             }
            },
            "type": "scatterpolargl"
           }
          ],
          "scatterternary": [
           {
            "marker": {
             "colorbar": {
              "outlinewidth": 0,
              "ticks": ""
             }
            },
            "type": "scatterternary"
           }
          ],
          "surface": [
           {
            "colorbar": {
             "outlinewidth": 0,
             "ticks": ""
            },
            "colorscale": [
             [
              0,
              "#0d0887"
             ],
             [
              0.1111111111111111,
              "#46039f"
             ],
             [
              0.2222222222222222,
              "#7201a8"
             ],
             [
              0.3333333333333333,
              "#9c179e"
             ],
             [
              0.4444444444444444,
              "#bd3786"
             ],
             [
              0.5555555555555556,
              "#d8576b"
             ],
             [
              0.6666666666666666,
              "#ed7953"
             ],
             [
              0.7777777777777778,
              "#fb9f3a"
             ],
             [
              0.8888888888888888,
              "#fdca26"
             ],
             [
              1,
              "#f0f921"
             ]
            ],
            "type": "surface"
           }
          ],
          "table": [
           {
            "cells": {
             "fill": {
              "color": "#EBF0F8"
             },
             "line": {
              "color": "white"
             }
            },
            "header": {
             "fill": {
              "color": "#C8D4E3"
             },
             "line": {
              "color": "white"
             }
            },
            "type": "table"
           }
          ]
         },
         "layout": {
          "annotationdefaults": {
           "arrowcolor": "#2a3f5f",
           "arrowhead": 0,
           "arrowwidth": 1
          },
          "autotypenumbers": "strict",
          "coloraxis": {
           "colorbar": {
            "outlinewidth": 0,
            "ticks": ""
           }
          },
          "colorscale": {
           "diverging": [
            [
             0,
             "#8e0152"
            ],
            [
             0.1,
             "#c51b7d"
            ],
            [
             0.2,
             "#de77ae"
            ],
            [
             0.3,
             "#f1b6da"
            ],
            [
             0.4,
             "#fde0ef"
            ],
            [
             0.5,
             "#f7f7f7"
            ],
            [
             0.6,
             "#e6f5d0"
            ],
            [
             0.7,
             "#b8e186"
            ],
            [
             0.8,
             "#7fbc41"
            ],
            [
             0.9,
             "#4d9221"
            ],
            [
             1,
             "#276419"
            ]
           ],
           "sequential": [
            [
             0,
             "#0d0887"
            ],
            [
             0.1111111111111111,
             "#46039f"
            ],
            [
             0.2222222222222222,
             "#7201a8"
            ],
            [
             0.3333333333333333,
             "#9c179e"
            ],
            [
             0.4444444444444444,
             "#bd3786"
            ],
            [
             0.5555555555555556,
             "#d8576b"
            ],
            [
             0.6666666666666666,
             "#ed7953"
            ],
            [
             0.7777777777777778,
             "#fb9f3a"
            ],
            [
             0.8888888888888888,
             "#fdca26"
            ],
            [
             1,
             "#f0f921"
            ]
           ],
           "sequentialminus": [
            [
             0,
             "#0d0887"
            ],
            [
             0.1111111111111111,
             "#46039f"
            ],
            [
             0.2222222222222222,
             "#7201a8"
            ],
            [
             0.3333333333333333,
             "#9c179e"
            ],
            [
             0.4444444444444444,
             "#bd3786"
            ],
            [
             0.5555555555555556,
             "#d8576b"
            ],
            [
             0.6666666666666666,
             "#ed7953"
            ],
            [
             0.7777777777777778,
             "#fb9f3a"
            ],
            [
             0.8888888888888888,
             "#fdca26"
            ],
            [
             1,
             "#f0f921"
            ]
           ]
          },
          "colorway": [
           "#636efa",
           "#EF553B",
           "#00cc96",
           "#ab63fa",
           "#FFA15A",
           "#19d3f3",
           "#FF6692",
           "#B6E880",
           "#FF97FF",
           "#FECB52"
          ],
          "font": {
           "color": "#2a3f5f"
          },
          "geo": {
           "bgcolor": "white",
           "lakecolor": "white",
           "landcolor": "#E5ECF6",
           "showlakes": true,
           "showland": true,
           "subunitcolor": "white"
          },
          "hoverlabel": {
           "align": "left"
          },
          "hovermode": "closest",
          "mapbox": {
           "style": "light"
          },
          "paper_bgcolor": "white",
          "plot_bgcolor": "#E5ECF6",
          "polar": {
           "angularaxis": {
            "gridcolor": "white",
            "linecolor": "white",
            "ticks": ""
           },
           "bgcolor": "#E5ECF6",
           "radialaxis": {
            "gridcolor": "white",
            "linecolor": "white",
            "ticks": ""
           }
          },
          "scene": {
           "xaxis": {
            "backgroundcolor": "#E5ECF6",
            "gridcolor": "white",
            "gridwidth": 2,
            "linecolor": "white",
            "showbackground": true,
            "ticks": "",
            "zerolinecolor": "white"
           },
           "yaxis": {
            "backgroundcolor": "#E5ECF6",
            "gridcolor": "white",
            "gridwidth": 2,
            "linecolor": "white",
            "showbackground": true,
            "ticks": "",
            "zerolinecolor": "white"
           },
           "zaxis": {
            "backgroundcolor": "#E5ECF6",
            "gridcolor": "white",
            "gridwidth": 2,
            "linecolor": "white",
            "showbackground": true,
            "ticks": "",
            "zerolinecolor": "white"
           }
          },
          "shapedefaults": {
           "line": {
            "color": "#2a3f5f"
           }
          },
          "ternary": {
           "aaxis": {
            "gridcolor": "white",
            "linecolor": "white",
            "ticks": ""
           },
           "baxis": {
            "gridcolor": "white",
            "linecolor": "white",
            "ticks": ""
           },
           "bgcolor": "#E5ECF6",
           "caxis": {
            "gridcolor": "white",
            "linecolor": "white",
            "ticks": ""
           }
          },
          "title": {
           "x": 0.05
          },
          "xaxis": {
           "automargin": true,
           "gridcolor": "white",
           "linecolor": "white",
           "ticks": "",
           "title": {
            "standoff": 15
           },
           "zerolinecolor": "white",
           "zerolinewidth": 2
          },
          "yaxis": {
           "automargin": true,
           "gridcolor": "white",
           "linecolor": "white",
           "ticks": "",
           "title": {
            "standoff": 15
           },
           "zerolinecolor": "white",
           "zerolinewidth": 2
          }
         }
        },
        "width": 800
       }
      }
     },
     "metadata": {},
     "output_type": "display_data"
    }
   ],
   "source": [
    "# Gráfico 3D com scatter e fitted values (superfície espacial)\n",
    "# resultantes do 'modelo_paises'\n",
    "trace = go.Scatter3d(\n",
    "    x=df_paises['horas'], \n",
    "    y=df_paises['idade'], \n",
    "    z=df_paises['cpi'], \n",
    "    mode='markers',\n",
    "    marker={\n",
    "        'size': 10,\n",
    "        'color': 'darkorchid',\n",
    "        'opacity': 0.7,\n",
    "    },\n",
    ")\n",
    "\n",
    "layout = go.Layout(\n",
    "    margin={'l': 0, 'r': 0, 'b': 0, 't': 0},\n",
    "    width=800,\n",
    "    height=800,\n",
    "    plot_bgcolor='white',\n",
    "    scene=dict(\n",
    "        xaxis=dict(\n",
    "            gridcolor='rgb(200, 200, 200)',\n",
    "            backgroundcolor='whitesmoke'\n",
    "        ),\n",
    "        yaxis=dict(\n",
    "            gridcolor='rgb(200, 200, 200)',\n",
    "            backgroundcolor='whitesmoke'\n",
    "        ),\n",
    "        zaxis=dict(\n",
    "            gridcolor='rgb(200, 200, 200)',\n",
    "            backgroundcolor='whitesmoke'\n",
    "        )\n",
    "    )\n",
    ")\n",
    "\n",
    "data = [trace]\n",
    "\n",
    "plot_figure = go.Figure(data=data, layout=layout)\n",
    "plot_figure.add_trace(go.Mesh3d(\n",
    "                    x=df_paises['horas'], \n",
    "                    y=df_paises['idade'], \n",
    "                    z=df_paises['cpifit'], \n",
    "                    opacity=0.5,\n",
    "                    color='orange'\n",
    "                  ))\n",
    "plot_figure.update_layout(scene = dict(\n",
    "                        xaxis_title='horas',\n",
    "                        yaxis_title='idade',\n",
    "                        zaxis_title='cpi'))\n",
    "\n",
    "plot_figure.show()"
   ]
  },
  {
   "cell_type": "markdown",
   "metadata": {},
   "source": [
    "__Para modelos multivariados o plot não é de uma reta de regressão, mas sim um hiperplano!__"
   ]
  }
 ],
 "metadata": {
  "kernelspec": {
   "display_name": ".venv",
   "language": "python",
   "name": "python3"
  },
  "language_info": {
   "codemirror_mode": {
    "name": "ipython",
    "version": 3
   },
   "file_extension": ".py",
   "mimetype": "text/x-python",
   "name": "python",
   "nbconvert_exporter": "python",
   "pygments_lexer": "ipython3",
   "version": "3.12.1"
  }
 },
 "nbformat": 4,
 "nbformat_minor": 2
}
