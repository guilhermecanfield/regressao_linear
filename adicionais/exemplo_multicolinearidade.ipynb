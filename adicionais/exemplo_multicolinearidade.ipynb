{
 "cells": [
  {
   "cell_type": "code",
   "execution_count": 1,
   "metadata": {},
   "outputs": [],
   "source": [
    "import pandas as pd # manipulação de dados em formato de dataframe\n",
    "import numpy as np # operações matemáticas\n",
    "import seaborn as sns # visualização gráfica\n",
    "import matplotlib.pyplot as plt # visualização gráfica\n",
    "import plotly.graph_objects as go # gráficos 3D\n",
    "from scipy.stats import pearsonr # correlações de Pearson\n",
    "import statsmodels.api as sm # estimação de modelos\n",
    "from statsmodels.iolib.summary2 import summary_col # comparação entre modelos\n",
    "from sklearn.preprocessing import LabelEncoder # transformação de dados\n",
    "import pingouin as pg # outro modo para obtenção de matrizes de correlações\n",
    "import emojis # inserção de emojis em gráficos\n",
    "from statstests.process import stepwise # procedimento Stepwise\n",
    "from statstests.tests import shapiro_francia # teste de Shapiro-Francia\n",
    "from scipy.stats import boxcox # transformação de Box-Cox\n",
    "from scipy.stats import norm # para plotagem da curva normal\n",
    "from scipy import stats # utilizado na definição da função 'breusch_pagan_test'"
   ]
  },
  {
   "cell_type": "code",
   "execution_count": 5,
   "metadata": {},
   "outputs": [
    {
     "name": "stdout",
     "output_type": "stream",
     "text": [
      "                            OLS Regression Results                            \n",
      "==============================================================================\n",
      "Dep. Variable:                salario   R-squared:                       0.075\n",
      "Model:                            OLS   Adj. R-squared:                  0.003\n",
      "Method:                 Least Squares   F-statistic:                     1.048\n",
      "Date:                Tue, 13 Aug 2024   Prob (F-statistic):              0.325\n",
      "Time:                        19:46:39   Log-Likelihood:                -106.35\n",
      "No. Observations:                  15   AIC:                             216.7\n",
      "Df Residuals:                      13   BIC:                             218.1\n",
      "Df Model:                           1                                         \n",
      "Covariance Type:            nonrobust                                         \n",
      "==============================================================================\n",
      "                 coef    std err          t      P>|t|      [0.025      0.975]\n",
      "------------------------------------------------------------------------------\n",
      "Intercept   2225.5645    205.346     10.838      0.000    1781.942    2669.187\n",
      "rh1          -26.9379     26.308     -1.024      0.325     -83.772      29.896\n",
      "==============================================================================\n",
      "Omnibus:                        1.302   Durbin-Watson:                   1.341\n",
      "Prob(Omnibus):                  0.521   Jarque-Bera (JB):                0.795\n",
      "Skew:                           0.068   Prob(JB):                        0.672\n",
      "Kurtosis:                       1.880   Cond. No.                         20.2\n",
      "==============================================================================\n",
      "\n",
      "Notes:\n",
      "[1] Standard Errors assume that the covariance matrix of the errors is correctly specified.\n"
     ]
    },
    {
     "name": "stderr",
     "output_type": "stream",
     "text": [
      "c:\\Users\\guilh\\OneDrive\\MBA\\Machine Learning\\Supervisionado\\Regressão Linear\\regressao_linear\\.venv\\Lib\\site-packages\\scipy\\stats\\_axis_nan_policy.py:418: UserWarning: `kurtosistest` p-value may be inaccurate with fewer than 20 observations; only n=15 observations were given.\n",
      "  return hypotest_fun_in(*args, **kwds)\n"
     ]
    }
   ],
   "source": [
    "# Carregando o dataset\n",
    "df_salarios = pd.read_csv('../data/salarios.csv', delimiter=',')\n",
    "\n",
    "# Modelo auxiliar 1 - somento com a preditora em rh1\n",
    "modelo1 = sm.OLS.from_formula('salario ~ rh1', df_salarios).fit()\n",
    "\n",
    "print(modelo1.summary())"
   ]
  },
  {
   "cell_type": "code",
   "execution_count": 7,
   "metadata": {},
   "outputs": [
    {
     "name": "stdout",
     "output_type": "stream",
     "text": [
      "                            OLS Regression Results                            \n",
      "==============================================================================\n",
      "Dep. Variable:                    rh1   R-squared:                       0.070\n",
      "Model:                            OLS   Adj. R-squared:                 -0.001\n",
      "Method:                 Least Squares   F-statistic:                    0.9825\n",
      "Date:                Tue, 13 Aug 2024   Prob (F-statistic):              0.340\n",
      "Time:                        19:47:53   Log-Likelihood:                -37.523\n",
      "No. Observations:                  15   AIC:                             79.05\n",
      "Df Residuals:                      13   BIC:                             80.46\n",
      "Df Model:                           1                                         \n",
      "Covariance Type:            nonrobust                                         \n",
      "================================================================================\n",
      "                   coef    std err          t      P>|t|      [0.025      0.975]\n",
      "--------------------------------------------------------------------------------\n",
      "Intercept        9.6001      2.575      3.728      0.003       4.037      15.164\n",
      "econometria1    -0.3781      0.382     -0.991      0.340      -1.202       0.446\n",
      "==============================================================================\n",
      "Omnibus:                        2.062   Durbin-Watson:                   1.918\n",
      "Prob(Omnibus):                  0.357   Jarque-Bera (JB):                1.177\n",
      "Skew:                          -0.368   Prob(JB):                        0.555\n",
      "Kurtosis:                       1.841   Cond. No.                         21.6\n",
      "==============================================================================\n",
      "\n",
      "Notes:\n",
      "[1] Standard Errors assume that the covariance matrix of the errors is correctly specified.\n"
     ]
    },
    {
     "name": "stderr",
     "output_type": "stream",
     "text": [
      "c:\\Users\\guilh\\OneDrive\\MBA\\Machine Learning\\Supervisionado\\Regressão Linear\\regressao_linear\\.venv\\Lib\\site-packages\\scipy\\stats\\_axis_nan_policy.py:418: UserWarning: `kurtosistest` p-value may be inaccurate with fewer than 20 observations; only n=15 observations were given.\n",
      "  return hypotest_fun_in(*args, **kwds)\n"
     ]
    }
   ],
   "source": [
    "# Modelo somente para exemplo, rh1 em função de econometria\n",
    "modelo1 = sm.OLS.from_formula('rh1 ~ econometria1', df_salarios).fit()\n",
    "\n",
    "print(modelo1.summary())"
   ]
  },
  {
   "cell_type": "code",
   "execution_count": 8,
   "metadata": {},
   "outputs": [
    {
     "data": {
      "text/plain": [
       "np.float64(1.0755757263467167)"
      ]
     },
     "execution_count": 8,
     "metadata": {},
     "output_type": "execute_result"
    }
   ],
   "source": [
    "# Diagnóstico de Multicolinearidade\n",
    "\n",
    "# Cálculo da Tolerance\n",
    "tolerance = 1 - modelo1.rsquared\n",
    "\n",
    "# Cálculo do VIF\n",
    "VIF = 1/tolerance\n",
    "VIF"
   ]
  }
 ],
 "metadata": {
  "kernelspec": {
   "display_name": ".venv",
   "language": "python",
   "name": "python3"
  },
  "language_info": {
   "codemirror_mode": {
    "name": "ipython",
    "version": 3
   },
   "file_extension": ".py",
   "mimetype": "text/x-python",
   "name": "python",
   "nbconvert_exporter": "python",
   "pygments_lexer": "ipython3",
   "version": "3.12.1"
  }
 },
 "nbformat": 4,
 "nbformat_minor": 2
}
